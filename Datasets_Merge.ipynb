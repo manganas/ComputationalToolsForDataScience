{
 "cells": [
  {
   "cell_type": "code",
   "execution_count": 1,
   "id": "6b8bb50e",
   "metadata": {},
   "outputs": [],
   "source": [
    "import pandas as pd\n",
    "\n",
    "def create_title_release_year_column_for_wiki(x):\n",
    "    return str(x[\"Release Year\"])+\"_\"+str(x[\"Title\"])\n",
    "def create_title_release_year_column_for_movies(x):\n",
    "    return str(x[\"release_date\"])[0:4]+\"_\"+str(x[\"title\"])"
   ]
  },
  {
   "cell_type": "code",
   "execution_count": 2,
   "id": "8f434647",
   "metadata": {},
   "outputs": [
    {
     "name": "stderr",
     "output_type": "stream",
     "text": [
      "/tmp/ipykernel_571246/1189048178.py:1: DtypeWarning: Columns (10) have mixed types. Specify dtype option on import or set low_memory=False.\n",
      "  movies_df = pd.read_csv(\"Data/movies_dataset/movies_metadata.csv\")\n"
     ]
    }
   ],
   "source": [
    "movies_df = pd.read_csv(\"Data/movies_dataset/movies_metadata.csv\")\n",
    "wiki_movies_df = pd.read_csv(\"Data/wikipedia_movies_dataset/wiki_movie_plots_deduped.csv\")\n",
    "keywords_df = pd.read_csv(\"Data/movies_dataset/keywords.csv\")\n",
    "\n",
    "credits_df = pd.read_csv(\"Data/movies_dataset/credits.csv\")"
   ]
  },
  {
   "cell_type": "code",
   "execution_count": 3,
   "id": "989044cf",
   "metadata": {},
   "outputs": [
    {
     "name": "stdout",
     "output_type": "stream",
     "text": [
      "<class 'pandas.core.frame.DataFrame'>\n",
      "RangeIndex: 45476 entries, 0 to 45475\n",
      "Data columns (total 3 columns):\n",
      " #   Column  Non-Null Count  Dtype \n",
      "---  ------  --------------  ----- \n",
      " 0   cast    45476 non-null  object\n",
      " 1   crew    45476 non-null  object\n",
      " 2   id      45476 non-null  int64 \n",
      "dtypes: int64(1), object(2)\n",
      "memory usage: 1.0+ MB\n"
     ]
    }
   ],
   "source": [
    "credits_df.head()\n",
    "credits_df.info()"
   ]
  },
  {
   "cell_type": "code",
   "execution_count": 4,
   "id": "ddc2beb4",
   "metadata": {},
   "outputs": [
    {
     "data": {
      "text/plain": [
       "(45466, 25)"
      ]
     },
     "execution_count": 4,
     "metadata": {},
     "output_type": "execute_result"
    }
   ],
   "source": [
    "movies_df['ReleaseAndTitle'] = movies_df.apply(create_title_release_year_column_for_movies, axis=1)\n",
    "movies_df.shape"
   ]
  },
  {
   "cell_type": "code",
   "execution_count": 5,
   "id": "97929439",
   "metadata": {},
   "outputs": [
    {
     "data": {
      "text/plain": [
       "(34886, 9)"
      ]
     },
     "execution_count": 5,
     "metadata": {},
     "output_type": "execute_result"
    }
   ],
   "source": [
    "wiki_movies_df['ReleaseAndTitle'] = wiki_movies_df.apply(create_title_release_year_column_for_wiki, axis=1)\n",
    "wiki_movies_df.shape"
   ]
  },
  {
   "cell_type": "code",
   "execution_count": 6,
   "id": "244a05d1",
   "metadata": {},
   "outputs": [
    {
     "name": "stdout",
     "output_type": "stream",
     "text": [
      "(14495, 33)\n"
     ]
    }
   ],
   "source": [
    "df_merged = pd.merge(movies_df, wiki_movies_df, how='inner', left_on=\"ReleaseAndTitle\",right_on=\"ReleaseAndTitle\")\n",
    "print(df_merged.shape)\n",
    "#to compare it with the other dataframes\n",
    "df_merged[\"id\"] = pd.to_numeric(df_merged[\"id\"])\n",
    "\n"
   ]
  },
  {
   "cell_type": "code",
   "execution_count": 7,
   "id": "a6c264cb",
   "metadata": {},
   "outputs": [
    {
     "name": "stdout",
     "output_type": "stream",
     "text": [
      "(14676, 34)\n"
     ]
    }
   ],
   "source": [
    "\n",
    "df_merged[\"id\"] = pd.to_numeric(df_merged[\"id\"])\n",
    "\n",
    "#add also keywords\n",
    "df_merged = pd.merge(df_merged, keywords_df, how='inner', left_on=\"id\",right_on=\"id\")\n",
    "print(df_merged.shape)"
   ]
  },
  {
   "cell_type": "code",
   "execution_count": 8,
   "id": "24743fa4",
   "metadata": {},
   "outputs": [
    {
     "name": "stdout",
     "output_type": "stream",
     "text": [
      "(14706, 36)\n"
     ]
    }
   ],
   "source": [
    "#add also credits\n",
    "df_merged = pd.merge(df_merged, credits_df, how='inner', left_on=\"id\",right_on=\"id\")\n",
    "print(df_merged.shape)"
   ]
  },
  {
   "cell_type": "code",
   "execution_count": 9,
   "id": "44188c01",
   "metadata": {},
   "outputs": [
    {
     "name": "stdout",
     "output_type": "stream",
     "text": [
      "<class 'pandas.core.frame.DataFrame'>\n",
      "Int64Index: 14706 entries, 0 to 14705\n",
      "Data columns (total 36 columns):\n",
      " #   Column                 Non-Null Count  Dtype  \n",
      "---  ------                 --------------  -----  \n",
      " 0   adult                  14706 non-null  object \n",
      " 1   belongs_to_collection  1873 non-null   object \n",
      " 2   budget                 14706 non-null  object \n",
      " 3   genres                 14706 non-null  object \n",
      " 4   homepage               2246 non-null   object \n",
      " 5   id                     14706 non-null  int64  \n",
      " 6   imdb_id                14705 non-null  object \n",
      " 7   original_language      14706 non-null  object \n",
      " 8   original_title         14706 non-null  object \n",
      " 9   overview               14692 non-null  object \n",
      " 10  popularity             14706 non-null  object \n",
      " 11  poster_path            14698 non-null  object \n",
      " 12  production_companies   14706 non-null  object \n",
      " 13  production_countries   14706 non-null  object \n",
      " 14  release_date           14706 non-null  object \n",
      " 15  revenue                14706 non-null  float64\n",
      " 16  runtime                14705 non-null  float64\n",
      " 17  spoken_languages       14706 non-null  object \n",
      " 18  status                 14703 non-null  object \n",
      " 19  tagline                10334 non-null  object \n",
      " 20  title                  14706 non-null  object \n",
      " 21  video                  14706 non-null  object \n",
      " 22  vote_average           14706 non-null  float64\n",
      " 23  vote_count             14706 non-null  float64\n",
      " 24  ReleaseAndTitle        14706 non-null  object \n",
      " 25  Release Year           14706 non-null  int64  \n",
      " 26  Title                  14706 non-null  object \n",
      " 27  Origin/Ethnicity       14706 non-null  object \n",
      " 28  Director               14706 non-null  object \n",
      " 29  Cast                   14372 non-null  object \n",
      " 30  Genre                  14706 non-null  object \n",
      " 31  Wiki Page              14706 non-null  object \n",
      " 32  Plot                   14706 non-null  object \n",
      " 33  keywords               14706 non-null  object \n",
      " 34  cast                   14706 non-null  object \n",
      " 35  crew                   14706 non-null  object \n",
      "dtypes: float64(4), int64(2), object(30)\n",
      "memory usage: 4.2+ MB\n"
     ]
    }
   ],
   "source": [
    "df_merged.head()\n",
    "df_merged.info()"
   ]
  },
  {
   "cell_type": "code",
   "execution_count": 10,
   "id": "dd46e911",
   "metadata": {},
   "outputs": [],
   "source": [
    "df_merged.to_csv(\"Data/merged.csv\")"
   ]
  },
  {
   "cell_type": "code",
   "execution_count": 11,
   "id": "46ce7b7f",
   "metadata": {},
   "outputs": [
    {
     "name": "stdout",
     "output_type": "stream",
     "text": [
      "<class 'pandas.core.frame.DataFrame'>\n",
      "Int64Index: 14706 entries, 0 to 14705\n",
      "Data columns (total 36 columns):\n",
      " #   Column                 Non-Null Count  Dtype  \n",
      "---  ------                 --------------  -----  \n",
      " 0   adult                  14706 non-null  object \n",
      " 1   belongs_to_collection  1873 non-null   object \n",
      " 2   budget                 14706 non-null  object \n",
      " 3   genres                 14706 non-null  object \n",
      " 4   homepage               2246 non-null   object \n",
      " 5   id                     14706 non-null  int64  \n",
      " 6   imdb_id                14705 non-null  object \n",
      " 7   original_language      14706 non-null  object \n",
      " 8   original_title         14706 non-null  object \n",
      " 9   overview               14692 non-null  object \n",
      " 10  popularity             14706 non-null  object \n",
      " 11  poster_path            14698 non-null  object \n",
      " 12  production_companies   14706 non-null  object \n",
      " 13  production_countries   14706 non-null  object \n",
      " 14  release_date           14706 non-null  object \n",
      " 15  revenue                14706 non-null  float64\n",
      " 16  runtime                14705 non-null  float64\n",
      " 17  spoken_languages       14706 non-null  object \n",
      " 18  status                 14703 non-null  object \n",
      " 19  tagline                10334 non-null  object \n",
      " 20  title                  14706 non-null  object \n",
      " 21  video                  14706 non-null  object \n",
      " 22  vote_average           14706 non-null  float64\n",
      " 23  vote_count             14706 non-null  float64\n",
      " 24  ReleaseAndTitle        14706 non-null  object \n",
      " 25  Release Year           14706 non-null  int64  \n",
      " 26  Title                  14706 non-null  object \n",
      " 27  Origin/Ethnicity       14706 non-null  object \n",
      " 28  Director               14706 non-null  object \n",
      " 29  Cast                   14372 non-null  object \n",
      " 30  Genre                  14706 non-null  object \n",
      " 31  Wiki Page              14706 non-null  object \n",
      " 32  Plot                   14706 non-null  object \n",
      " 33  keywords               14706 non-null  object \n",
      " 34  cast                   14706 non-null  object \n",
      " 35  crew                   14706 non-null  object \n",
      "dtypes: float64(4), int64(2), object(30)\n",
      "memory usage: 4.2+ MB\n"
     ]
    }
   ],
   "source": [
    "df_merged.info()"
   ]
  },
  {
   "cell_type": "code",
   "execution_count": 12,
   "id": "3cebd1f3",
   "metadata": {},
   "outputs": [
    {
     "data": {
      "text/plain": [
       "(26024289, 4)"
      ]
     },
     "execution_count": 12,
     "metadata": {},
     "output_type": "execute_result"
    }
   ],
   "source": [
    "rating_df = pd.read_csv(\"Data/movies_dataset/ratings.csv\")\n",
    "rating_df.shape"
   ]
  },
  {
   "cell_type": "code",
   "execution_count": 13,
   "id": "50e52e10",
   "metadata": {},
   "outputs": [
    {
     "name": "stdout",
     "output_type": "stream",
     "text": [
      "<class 'pandas.core.frame.DataFrame'>\n",
      "RangeIndex: 26024289 entries, 0 to 26024288\n",
      "Data columns (total 4 columns):\n",
      " #   Column     Dtype  \n",
      "---  ------     -----  \n",
      " 0   userId     int64  \n",
      " 1   movieId    int64  \n",
      " 2   rating     float64\n",
      " 3   timestamp  int64  \n",
      "dtypes: float64(1), int64(3)\n",
      "memory usage: 794.2 MB\n"
     ]
    }
   ],
   "source": [
    "rating_df.info()"
   ]
  },
  {
   "cell_type": "code",
   "execution_count": 21,
   "id": "32856c48",
   "metadata": {},
   "outputs": [
    {
     "data": {
      "text/plain": [
       "(6935908, 4)"
      ]
     },
     "execution_count": 21,
     "metadata": {},
     "output_type": "execute_result"
    }
   ],
   "source": [
    "#keep only the ones that are associated with the movies we have in the merged dataset\n",
    "rating_df = rating_df[rating_df[\"movieId\"].isin(df_merged['id'].unique())]\n",
    "rating_df.shape"
   ]
  },
  {
   "cell_type": "code",
   "execution_count": 22,
   "id": "60dd1dcd",
   "metadata": {},
   "outputs": [],
   "source": [
    "rating_df.head()\n",
    "rating_df.to_csv(\"Data/updated_ratings.csv\")"
   ]
  },
  {
   "cell_type": "code",
   "execution_count": 23,
   "id": "5216bee5",
   "metadata": {},
   "outputs": [],
   "source": [
    "import json\n",
    "import ast\n",
    "import re\n",
    "\n",
    "\n",
    "# Function to convert all strings to lower case and strip names of spaces\n",
    "def clean_data(x):\n",
    "    if isinstance(x, list):\n",
    "        return [str.lower(i.replace(\" \", \"\")) for i in x]\n",
    "    else:\n",
    "        #Check if director exists. If not, return empty string\n",
    "        if isinstance(x, str):\n",
    "            return str.lower(x.replace(\" \", \"\"))\n",
    "        else:\n",
    "            return ''\n",
    "        \n",
    "# Apply clean_data function to your features.\n",
    "features = ['cast', 'keywords', 'Director', 'genres']\n",
    "\n",
    "for feature in features:\n",
    "    df_merged[feature] = df_merged[feature].apply(clean_data)\n",
    "\n",
    "def create_soup(x):\n",
    "    keywords = [k[\"name\"] for k in ast.literal_eval(x['keywords'])]\n",
    "    cast = [k.replace(\"'\",\"\") for k in re.findall(r\"'name':([\\w.']+)\",x['cast'])]\n",
    "    genres = [k[\"name\"] for k in ast.literal_eval(x['genres'])]\n",
    "    return ' '.join(keywords) + ' ' + ' '.join(cast) + ' ' + x['Director'] + ' ' + ' '.join(genres)\n",
    "\n",
    "\n",
    "df_merged['KeywCastDirGenre'] = df_merged.apply(create_soup, axis=1)\n",
    "\n"
   ]
  },
  {
   "cell_type": "code",
   "execution_count": 24,
   "id": "6f941283",
   "metadata": {},
   "outputs": [
    {
     "name": "stdout",
     "output_type": "stream",
     "text": [
      "<class 'pandas.core.frame.DataFrame'>\n",
      "Int64Index: 6935908 entries, 2 to 26024271\n",
      "Data columns (total 4 columns):\n",
      " #   Column     Dtype  \n",
      "---  ------     -----  \n",
      " 0   userId     int64  \n",
      " 1   movieId    int64  \n",
      " 2   rating     float64\n",
      " 3   timestamp  int64  \n",
      "dtypes: float64(1), int64(3)\n",
      "memory usage: 264.6 MB\n"
     ]
    }
   ],
   "source": [
    "df_merged[\"KeywCastDirGenre\"][25]\n",
    "df_merged.to_csv(\"Data/merged.csv\")\n",
    "rating_df.info()"
   ]
  },
  {
   "cell_type": "code",
   "execution_count": 25,
   "id": "deba1be4",
   "metadata": {},
   "outputs": [
    {
     "data": {
      "text/html": [
       "<div>\n",
       "<style scoped>\n",
       "    .dataframe tbody tr th:only-of-type {\n",
       "        vertical-align: middle;\n",
       "    }\n",
       "\n",
       "    .dataframe tbody tr th {\n",
       "        vertical-align: top;\n",
       "    }\n",
       "\n",
       "    .dataframe thead th {\n",
       "        text-align: right;\n",
       "    }\n",
       "</style>\n",
       "<table border=\"1\" class=\"dataframe\">\n",
       "  <thead>\n",
       "    <tr style=\"text-align: right;\">\n",
       "      <th></th>\n",
       "      <th>movieId</th>\n",
       "      <th>rating</th>\n",
       "      <th>timestamp</th>\n",
       "    </tr>\n",
       "    <tr>\n",
       "      <th>userId</th>\n",
       "      <th></th>\n",
       "      <th></th>\n",
       "      <th></th>\n",
       "    </tr>\n",
       "  </thead>\n",
       "  <tbody>\n",
       "    <tr>\n",
       "      <th>1</th>\n",
       "      <td>[858, 1246, 1968, 2762, 2959, 4226]</td>\n",
       "      <td>[5.0, 5.0, 4.0, 4.5, 4.0, 4.0]</td>\n",
       "      <td>[1425941523, 1425941556, 1425942148, 142594130...</td>\n",
       "    </tr>\n",
       "    <tr>\n",
       "      <th>2</th>\n",
       "      <td>[79, 260, 339, 377, 605, 628]</td>\n",
       "      <td>[4.0, 4.0, 5.0, 4.0, 4.0, 4.0]</td>\n",
       "      <td>[867039325, 867039249, 867041296, 867041121, 8...</td>\n",
       "    </tr>\n",
       "    <tr>\n",
       "      <th>3</th>\n",
       "      <td>[858]</td>\n",
       "      <td>[4.0]</td>\n",
       "      <td>[1048076945]</td>\n",
       "    </tr>\n",
       "    <tr>\n",
       "      <th>4</th>\n",
       "      <td>[223, 1422, 1645, 1911, 2023, 2355, 2762, 3114]</td>\n",
       "      <td>[4.0, 4.0, 4.0, 4.0, 5.0, 4.0, 5.0, 5.0]</td>\n",
       "      <td>[1042668576, 1042674861, 1042674787, 104266858...</td>\n",
       "    </tr>\n",
       "    <tr>\n",
       "      <th>5</th>\n",
       "      <td>[296, 541, 858, 1945, 3079, 3114]</td>\n",
       "      <td>[4.0, 5.0, 5.0, 5.0, 5.0, 4.0]</td>\n",
       "      <td>[949424343, 949424321, 949424168, 949424321, 9...</td>\n",
       "    </tr>\n",
       "  </tbody>\n",
       "</table>\n",
       "</div>"
      ],
      "text/plain": [
       "                                                movieId  \\\n",
       "userId                                                    \n",
       "1                   [858, 1246, 1968, 2762, 2959, 4226]   \n",
       "2                         [79, 260, 339, 377, 605, 628]   \n",
       "3                                                 [858]   \n",
       "4       [223, 1422, 1645, 1911, 2023, 2355, 2762, 3114]   \n",
       "5                     [296, 541, 858, 1945, 3079, 3114]   \n",
       "\n",
       "                                          rating  \\\n",
       "userId                                             \n",
       "1                 [5.0, 5.0, 4.0, 4.5, 4.0, 4.0]   \n",
       "2                 [4.0, 4.0, 5.0, 4.0, 4.0, 4.0]   \n",
       "3                                          [4.0]   \n",
       "4       [4.0, 4.0, 4.0, 4.0, 5.0, 4.0, 5.0, 5.0]   \n",
       "5                 [4.0, 5.0, 5.0, 5.0, 5.0, 4.0]   \n",
       "\n",
       "                                                timestamp  \n",
       "userId                                                     \n",
       "1       [1425941523, 1425941556, 1425942148, 142594130...  \n",
       "2       [867039325, 867039249, 867041296, 867041121, 8...  \n",
       "3                                            [1048076945]  \n",
       "4       [1042668576, 1042674861, 1042674787, 104266858...  \n",
       "5       [949424343, 949424321, 949424168, 949424321, 9...  "
      ]
     },
     "execution_count": 25,
     "metadata": {},
     "output_type": "execute_result"
    }
   ],
   "source": [
    "dict35 = dict()\n",
    "dict4 = dict()\n",
    "\n",
    "internal_dictionary_mapping = {\"title\":0,\"other\":1}\n",
    "rating_df[\"userId\"].describe()\n",
    "rating_df35 = rating_df[rating_df[\"rating\"] >= 3.5]\n",
    "df35 = rating_df35.groupby(\"userId\").agg(list)\n",
    "df35.to_csv(\"Data/ratings_above35.csv\")\n",
    "\n",
    "df35.head()\n",
    "# for userid in rating_df[\"userId\"].unique():\n",
    "#     pass\n",
    "#     dict35[userid] = ([],[]) #[[Titles of movies rated more than 3.5],['cast', 'keywords', 'director', 'genres']]\n",
    "#     dict4[userid] = ([],[]) #[[Titles of movies rated more than 4],['cast', 'keywords', 'director', 'genres']]\n",
    "\n"
   ]
  },
  {
   "cell_type": "code",
   "execution_count": 26,
   "id": "d5ce6feb",
   "metadata": {},
   "outputs": [
    {
     "data": {
      "text/html": [
       "<div>\n",
       "<style scoped>\n",
       "    .dataframe tbody tr th:only-of-type {\n",
       "        vertical-align: middle;\n",
       "    }\n",
       "\n",
       "    .dataframe tbody tr th {\n",
       "        vertical-align: top;\n",
       "    }\n",
       "\n",
       "    .dataframe thead th {\n",
       "        text-align: right;\n",
       "    }\n",
       "</style>\n",
       "<table border=\"1\" class=\"dataframe\">\n",
       "  <thead>\n",
       "    <tr style=\"text-align: right;\">\n",
       "      <th></th>\n",
       "      <th>movieId</th>\n",
       "      <th>rating</th>\n",
       "      <th>timestamp</th>\n",
       "    </tr>\n",
       "    <tr>\n",
       "      <th>userId</th>\n",
       "      <th></th>\n",
       "      <th></th>\n",
       "      <th></th>\n",
       "    </tr>\n",
       "  </thead>\n",
       "  <tbody>\n",
       "    <tr>\n",
       "      <th>1</th>\n",
       "      <td>[858, 1246, 1968, 2762, 2959, 4226]</td>\n",
       "      <td>[5.0, 5.0, 4.0, 4.5, 4.0, 4.0]</td>\n",
       "      <td>[1425941523, 1425941556, 1425942148, 142594130...</td>\n",
       "    </tr>\n",
       "    <tr>\n",
       "      <th>2</th>\n",
       "      <td>[79, 260, 339, 377, 605, 628]</td>\n",
       "      <td>[4.0, 4.0, 5.0, 4.0, 4.0, 4.0]</td>\n",
       "      <td>[867039325, 867039249, 867041296, 867041121, 8...</td>\n",
       "    </tr>\n",
       "    <tr>\n",
       "      <th>3</th>\n",
       "      <td>[858]</td>\n",
       "      <td>[4.0]</td>\n",
       "      <td>[1048076945]</td>\n",
       "    </tr>\n",
       "    <tr>\n",
       "      <th>4</th>\n",
       "      <td>[223, 1422, 1645, 1911, 2023, 2355, 2762, 3114]</td>\n",
       "      <td>[4.0, 4.0, 4.0, 4.0, 5.0, 4.0, 5.0, 5.0]</td>\n",
       "      <td>[1042668576, 1042674861, 1042674787, 104266858...</td>\n",
       "    </tr>\n",
       "    <tr>\n",
       "      <th>5</th>\n",
       "      <td>[296, 541, 858, 1945, 3079, 3114]</td>\n",
       "      <td>[4.0, 5.0, 5.0, 5.0, 5.0, 4.0]</td>\n",
       "      <td>[949424343, 949424321, 949424168, 949424321, 9...</td>\n",
       "    </tr>\n",
       "  </tbody>\n",
       "</table>\n",
       "</div>"
      ],
      "text/plain": [
       "                                                movieId  \\\n",
       "userId                                                    \n",
       "1                   [858, 1246, 1968, 2762, 2959, 4226]   \n",
       "2                         [79, 260, 339, 377, 605, 628]   \n",
       "3                                                 [858]   \n",
       "4       [223, 1422, 1645, 1911, 2023, 2355, 2762, 3114]   \n",
       "5                     [296, 541, 858, 1945, 3079, 3114]   \n",
       "\n",
       "                                          rating  \\\n",
       "userId                                             \n",
       "1                 [5.0, 5.0, 4.0, 4.5, 4.0, 4.0]   \n",
       "2                 [4.0, 4.0, 5.0, 4.0, 4.0, 4.0]   \n",
       "3                                          [4.0]   \n",
       "4       [4.0, 4.0, 4.0, 4.0, 5.0, 4.0, 5.0, 5.0]   \n",
       "5                 [4.0, 5.0, 5.0, 5.0, 5.0, 4.0]   \n",
       "\n",
       "                                                timestamp  \n",
       "userId                                                     \n",
       "1       [1425941523, 1425941556, 1425942148, 142594130...  \n",
       "2       [867039325, 867039249, 867041296, 867041121, 8...  \n",
       "3                                            [1048076945]  \n",
       "4       [1042668576, 1042674861, 1042674787, 104266858...  \n",
       "5       [949424343, 949424321, 949424168, 949424321, 9...  "
      ]
     },
     "execution_count": 26,
     "metadata": {},
     "output_type": "execute_result"
    }
   ],
   "source": [
    "df35.head()"
   ]
  },
  {
   "cell_type": "code",
   "execution_count": null,
   "id": "92fd7103",
   "metadata": {},
   "outputs": [],
   "source": []
  }
 ],
 "metadata": {
  "kernelspec": {
   "display_name": "Python 3 (ipykernel)",
   "language": "python",
   "name": "python3"
  },
  "language_info": {
   "codemirror_mode": {
    "name": "ipython",
    "version": 3
   },
   "file_extension": ".py",
   "mimetype": "text/x-python",
   "name": "python",
   "nbconvert_exporter": "python",
   "pygments_lexer": "ipython3",
   "version": "3.9.13"
  }
 },
 "nbformat": 4,
 "nbformat_minor": 5
}
