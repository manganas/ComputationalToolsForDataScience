{
 "cells": [
  {
   "cell_type": "markdown",
   "metadata": {
    "colab_type": "text",
    "id": "u_0oQaUOA9CI"
   },
   "source": [
    "# Task 1: Introduction\n",
    "\n",
    "![Movies Collage](https://i.imgur.com/T7V0VZ6.png)\n",
    "\n",
    "For this project we are going to create a recommendation engine for movies for users based on there past behaviour.\n",
    "\n",
    "---\n",
    "\n",
    "We will focus on the **collaborative filtering** approach, that is: \n",
    "\n",
    "The user is recommended items that people with similar tastes and preferences liked in the past. In another word, this method predicts unknown ratings by using the similarities between users.\n",
    "\n",
    "---\n",
    "\n",
    "Note: This notebook uses `python 3` and these packages: `pandas`, `numpy`, `matplotlib` and `scikit-surprise`\n",
    "\n",
    "We can install them using:\n",
    "```Shell\n",
    "pip3 install pandas matplotlib numpy scikit-surprise\n",
    "```"
   ]
  },
  {
   "cell_type": "markdown",
   "metadata": {
    "colab_type": "text",
    "id": "eMZcgcQsm-9y"
   },
   "source": [
    "## 1.1: Installing Libraries"
   ]
  },
  {
   "cell_type": "code",
   "execution_count": 1,
   "metadata": {
    "colab": {},
    "colab_type": "code",
    "id": "HNmYMKhCnITm"
   },
   "outputs": [
    {
     "name": "stdout",
     "output_type": "stream",
     "text": [
      "Requirement already satisfied: scikit-surprise in /home/lefteris/anaconda3/lib/python3.9/site-packages (1.1.3)\r\n",
      "Requirement already satisfied: numpy>=1.17.3 in /home/lefteris/anaconda3/lib/python3.9/site-packages (from scikit-surprise) (1.21.5)\r\n",
      "Requirement already satisfied: joblib>=1.0.0 in /home/lefteris/anaconda3/lib/python3.9/site-packages (from scikit-surprise) (1.1.0)\r\n",
      "Requirement already satisfied: scipy>=1.3.2 in /home/lefteris/anaconda3/lib/python3.9/site-packages (from scikit-surprise) (1.9.2)\r\n"
     ]
    }
   ],
   "source": [
    "# print('>> Installing Libraries')\n",
    "\n",
    "!pip3 install scikit-surprise\n",
    "\n",
    "# print('>> Libraries Installed')"
   ]
  },
  {
   "cell_type": "markdown",
   "metadata": {
    "colab_type": "text",
    "id": "FYwbN6KqJjPo"
   },
   "source": [
    "## 1.2: Importing Libraries\n",
    "\n",
    "First of all, we will need to import some libraries. This includes surprise which we will use to create the recommendation system."
   ]
  },
  {
   "cell_type": "code",
   "execution_count": 2,
   "metadata": {
    "colab": {},
    "colab_type": "code",
    "id": "5OGYBAjxAzLC"
   },
   "outputs": [
    {
     "name": "stdout",
     "output_type": "stream",
     "text": [
      ">> Importing Libraries\n",
      ">> Libraries imported.\n"
     ]
    }
   ],
   "source": [
    "print('>> Importing Libraries')\n",
    "\n",
    "import pandas as pd\n",
    "\n",
    "from surprise import Reader, Dataset, SVD\n",
    "\n",
    "from surprise.accuracy import rmse, mae\n",
    "from surprise.model_selection import cross_validate\n",
    "\n",
    "print('>> Libraries imported.')"
   ]
  },
  {
   "cell_type": "markdown",
   "metadata": {
    "colab_type": "text",
    "id": "Zg9d8GR6A_rr"
   },
   "source": [
    "# Task 2: Importing Data\n",
    "\n",
    "We will use open-source dataset from GroupLens Research ([movielens.org](http://movielens.org))"
   ]
  },
  {
   "cell_type": "markdown",
   "metadata": {
    "colab_type": "text",
    "id": "vS0k5tdWKSfZ"
   },
   "source": [
    "## 2.1: Importing the Data\n",
    "\n",
    "The dataset is saved in a `ratings.csv` file. We will use pandas to take a look at some of the rows."
   ]
  },
  {
   "cell_type": "code",
   "execution_count": 3,
   "metadata": {
    "colab": {},
    "colab_type": "code",
    "id": "3lbOmdPwKsPm"
   },
   "outputs": [
    {
     "data": {
      "text/html": [
       "<div>\n",
       "<style scoped>\n",
       "    .dataframe tbody tr th:only-of-type {\n",
       "        vertical-align: middle;\n",
       "    }\n",
       "\n",
       "    .dataframe tbody tr th {\n",
       "        vertical-align: top;\n",
       "    }\n",
       "\n",
       "    .dataframe thead th {\n",
       "        text-align: right;\n",
       "    }\n",
       "</style>\n",
       "<table border=\"1\" class=\"dataframe\">\n",
       "  <thead>\n",
       "    <tr style=\"text-align: right;\">\n",
       "      <th></th>\n",
       "      <th>Unnamed: 0</th>\n",
       "      <th>userId</th>\n",
       "      <th>movieId</th>\n",
       "      <th>rating</th>\n",
       "      <th>timestamp</th>\n",
       "    </tr>\n",
       "  </thead>\n",
       "  <tbody>\n",
       "    <tr>\n",
       "      <th>0</th>\n",
       "      <td>2</td>\n",
       "      <td>1</td>\n",
       "      <td>858</td>\n",
       "      <td>5.0</td>\n",
       "      <td>1425941523</td>\n",
       "    </tr>\n",
       "    <tr>\n",
       "      <th>1</th>\n",
       "      <td>4</td>\n",
       "      <td>1</td>\n",
       "      <td>1246</td>\n",
       "      <td>5.0</td>\n",
       "      <td>1425941556</td>\n",
       "    </tr>\n",
       "    <tr>\n",
       "      <th>2</th>\n",
       "      <td>5</td>\n",
       "      <td>1</td>\n",
       "      <td>1968</td>\n",
       "      <td>4.0</td>\n",
       "      <td>1425942148</td>\n",
       "    </tr>\n",
       "    <tr>\n",
       "      <th>3</th>\n",
       "      <td>6</td>\n",
       "      <td>1</td>\n",
       "      <td>2762</td>\n",
       "      <td>4.5</td>\n",
       "      <td>1425941300</td>\n",
       "    </tr>\n",
       "    <tr>\n",
       "      <th>4</th>\n",
       "      <td>8</td>\n",
       "      <td>1</td>\n",
       "      <td>2959</td>\n",
       "      <td>4.0</td>\n",
       "      <td>1425941601</td>\n",
       "    </tr>\n",
       "  </tbody>\n",
       "</table>\n",
       "</div>"
      ],
      "text/plain": [
       "   Unnamed: 0  userId  movieId  rating   timestamp\n",
       "0           2       1      858     5.0  1425941523\n",
       "1           4       1     1246     5.0  1425941556\n",
       "2           5       1     1968     4.0  1425942148\n",
       "3           6       1     2762     4.5  1425941300\n",
       "4           8       1     2959     4.0  1425941601"
      ]
     },
     "execution_count": 3,
     "metadata": {},
     "output_type": "execute_result"
    }
   ],
   "source": [
    "df = pd.read_csv('Data/updated_ratings.csv')\n",
    "df.head()"
   ]
  },
  {
   "cell_type": "markdown",
   "metadata": {
    "colab_type": "text",
    "id": "GvUhDQIgLOEY"
   },
   "source": [
    "## 2.2 Dropping timestamp\n",
    "\n",
    "We won't be using the timestamp when user gave the particular rating. So we will drop that column."
   ]
  },
  {
   "cell_type": "code",
   "execution_count": 4,
   "metadata": {
    "colab": {},
    "colab_type": "code",
    "id": "TXvWh3duLjiP"
   },
   "outputs": [
    {
     "data": {
      "text/html": [
       "<div>\n",
       "<style scoped>\n",
       "    .dataframe tbody tr th:only-of-type {\n",
       "        vertical-align: middle;\n",
       "    }\n",
       "\n",
       "    .dataframe tbody tr th {\n",
       "        vertical-align: top;\n",
       "    }\n",
       "\n",
       "    .dataframe thead th {\n",
       "        text-align: right;\n",
       "    }\n",
       "</style>\n",
       "<table border=\"1\" class=\"dataframe\">\n",
       "  <thead>\n",
       "    <tr style=\"text-align: right;\">\n",
       "      <th></th>\n",
       "      <th>Unnamed: 0</th>\n",
       "      <th>userId</th>\n",
       "      <th>movieId</th>\n",
       "      <th>rating</th>\n",
       "    </tr>\n",
       "  </thead>\n",
       "  <tbody>\n",
       "    <tr>\n",
       "      <th>0</th>\n",
       "      <td>2</td>\n",
       "      <td>1</td>\n",
       "      <td>858</td>\n",
       "      <td>5.0</td>\n",
       "    </tr>\n",
       "    <tr>\n",
       "      <th>1</th>\n",
       "      <td>4</td>\n",
       "      <td>1</td>\n",
       "      <td>1246</td>\n",
       "      <td>5.0</td>\n",
       "    </tr>\n",
       "    <tr>\n",
       "      <th>2</th>\n",
       "      <td>5</td>\n",
       "      <td>1</td>\n",
       "      <td>1968</td>\n",
       "      <td>4.0</td>\n",
       "    </tr>\n",
       "    <tr>\n",
       "      <th>3</th>\n",
       "      <td>6</td>\n",
       "      <td>1</td>\n",
       "      <td>2762</td>\n",
       "      <td>4.5</td>\n",
       "    </tr>\n",
       "    <tr>\n",
       "      <th>4</th>\n",
       "      <td>8</td>\n",
       "      <td>1</td>\n",
       "      <td>2959</td>\n",
       "      <td>4.0</td>\n",
       "    </tr>\n",
       "  </tbody>\n",
       "</table>\n",
       "</div>"
      ],
      "text/plain": [
       "   Unnamed: 0  userId  movieId  rating\n",
       "0           2       1      858     5.0\n",
       "1           4       1     1246     5.0\n",
       "2           5       1     1968     4.0\n",
       "3           6       1     2762     4.5\n",
       "4           8       1     2959     4.0"
      ]
     },
     "execution_count": 4,
     "metadata": {},
     "output_type": "execute_result"
    }
   ],
   "source": [
    "df.drop('timestamp', axis=1, inplace=True)\n",
    "df.head()"
   ]
  },
  {
   "cell_type": "markdown",
   "metadata": {
    "colab_type": "text",
    "id": "OPEBn0gAK-5m"
   },
   "source": [
    "## 2.3 Check for Missing Data\n",
    "\n",
    "It's a good practice to check if the data has any missing values. In real world data, this is quite common and must be taken care of before any data pre-processing or model training."
   ]
  },
  {
   "cell_type": "code",
   "execution_count": 5,
   "metadata": {
    "colab": {},
    "colab_type": "code",
    "id": "BfBqk7KkLFV6"
   },
   "outputs": [
    {
     "data": {
      "text/plain": [
       "Unnamed: 0    0\n",
       "userId        0\n",
       "movieId       0\n",
       "rating        0\n",
       "dtype: int64"
      ]
     },
     "execution_count": 5,
     "metadata": {},
     "output_type": "execute_result"
    }
   ],
   "source": [
    "df.isna().sum()"
   ]
  },
  {
   "cell_type": "markdown",
   "metadata": {
    "colab_type": "text",
    "id": "FQYVA-J5MCUG"
   },
   "source": [
    "# Task 3: EDA (Exploratory data analysis)\n",
    "\n",
    "In statistics, exploratory data analysis is an approach to analyzing data sets to summarize their main characteristics."
   ]
  },
  {
   "cell_type": "markdown",
   "metadata": {
    "colab_type": "text",
    "id": "XJ0CD6ZiOpRI"
   },
   "source": [
    "## 3.1 Number of movies/users"
   ]
  },
  {
   "cell_type": "code",
   "execution_count": 6,
   "metadata": {
    "colab": {},
    "colab_type": "code",
    "id": "vnEIeAO6Psj2"
   },
   "outputs": [
    {
     "name": "stdout",
     "output_type": "stream",
     "text": [
      "Number of unique movies: 2956\n",
      "Number of unique users: 260175\n"
     ]
    }
   ],
   "source": [
    "n_movies = df['movieId'].nunique()\n",
    "n_users = df['userId'].nunique()\n",
    "print(f'Number of unique movies: {n_movies}')\n",
    "print(f'Number of unique users: {n_users}')"
   ]
  },
  {
   "cell_type": "markdown",
   "metadata": {
    "colab_type": "text",
    "id": "dclqP0iXOo_F"
   },
   "source": [
    "## 3.2 Sparsity of our data\n",
    "\n",
    "Sparsity (%) = `(No of missing values/ (Total Values))X100`"
   ]
  },
  {
   "cell_type": "code",
   "execution_count": 7,
   "metadata": {
    "colab": {},
    "colab_type": "code",
    "id": "xPYF0zlfREMK"
   },
   "outputs": [
    {
     "name": "stdout",
     "output_type": "stream",
     "text": [
      "Sparsity: 99.09815203231197\n"
     ]
    }
   ],
   "source": [
    "available_ratings = df['rating'].count()\n",
    "total_ratings = n_movies*n_users\n",
    "missing_ratings = total_ratings - available_ratings\n",
    "sparsity = (missing_ratings/total_ratings) * 100\n",
    "print(f'Sparsity: {sparsity}')"
   ]
  },
  {
   "cell_type": "markdown",
   "metadata": {
    "colab_type": "text",
    "id": "kcYDLtG5Ok_p"
   },
   "source": [
    "## 3.3 Ratings Distribution"
   ]
  },
  {
   "cell_type": "code",
   "execution_count": 8,
   "metadata": {
    "colab": {},
    "colab_type": "code",
    "id": "ZO7Mv-jdL4_z"
   },
   "outputs": [
    {
     "data": {
      "text/plain": [
       "<AxesSubplot:>"
      ]
     },
     "execution_count": 8,
     "metadata": {},
     "output_type": "execute_result"
    },
    {
     "data": {
      "image/png": "[encoded data removed]",
      "text/plain": [
       "<Figure size 640x480 with 1 Axes>"
      ]
     },
     "metadata": {},
     "output_type": "display_data"
    }
   ],
   "source": [
    "df['rating'].value_counts().plot(kind='bar')"
   ]
  },
  {
   "cell_type": "markdown",
   "metadata": {
    "colab_type": "text",
    "id": "xdLsIItxSd9K"
   },
   "source": [
    "# Task 4: Dimensionality Reduction\n",
    "\n",
    "To reduce the dimensionality of the dataset, we will filter out rarely rated movies and rarely rating users"
   ]
  },
  {
   "cell_type": "code",
   "execution_count": 9,
   "metadata": {},
   "outputs": [
    {
     "data": {
      "text/plain": [
       "67.0"
      ]
     },
     "execution_count": 9,
     "metadata": {},
     "output_type": "execute_result"
    }
   ],
   "source": [
    "df['userId'].value_counts().quantile(0.9)\n",
    "df['movieId'].value_counts().quantile(0.75)"
   ]
  },
  {
   "cell_type": "markdown",
   "metadata": {
    "colab_type": "text",
    "id": "i3jYt3m5TNVL"
   },
   "source": [
    "## 4.1 Filter movies with less than 3 ratings"
   ]
  },
  {
   "cell_type": "code",
   "execution_count": 10,
   "metadata": {
    "colab": {},
    "colab_type": "code",
    "id": "msZU9YSxSeUo"
   },
   "outputs": [],
   "source": [
    "filter_movies = df['movieId'].value_counts() > df['movieId'].value_counts().quantile(0.75)\n",
    "filter_movies = filter_movies[filter_movies].index.tolist()"
   ]
  },
  {
   "cell_type": "markdown",
   "metadata": {
    "colab_type": "text",
    "id": "IYaMxlXcTdGS"
   },
   "source": [
    "## 4.2 Filter users with less than 3 movies rated"
   ]
  },
  {
   "cell_type": "code",
   "execution_count": 11,
   "metadata": {
    "colab": {},
    "colab_type": "code",
    "id": "WPeNAggIS-Y_"
   },
   "outputs": [],
   "source": [
    "filter_users = df['userId'].value_counts() > df['userId'].value_counts().quantile(0.9)\n",
    "filter_users = filter_users[filter_users].index.tolist()"
   ]
  },
  {
   "cell_type": "markdown",
   "metadata": {
    "colab_type": "text",
    "id": "c2LFIAGXT3ro"
   },
   "source": [
    "## 4.3 Remove rarely rated movies and rarely rating users"
   ]
  },
  {
   "cell_type": "code",
   "execution_count": 12,
   "metadata": {
    "colab": {},
    "colab_type": "code",
    "id": "tTUG4ao6S_x7"
   },
   "outputs": [
    {
     "name": "stdout",
     "output_type": "stream",
     "text": [
      "Original shape: (6935908, 4)\n",
      "New shape: (3122872, 4)\n"
     ]
    }
   ],
   "source": [
    "print(f'Original shape: {df.shape}')\n",
    "df = df[(df['movieId'].isin(filter_movies)) & (df['userId'].isin(filter_users))]\n",
    "print(f'New shape: {df.shape}')"
   ]
  },
  {
   "cell_type": "markdown",
   "metadata": {
    "colab_type": "text",
    "id": "TbviZWiPM3jQ"
   },
   "source": [
    "# Task 5: Create Training and Test Sets"
   ]
  },
  {
   "cell_type": "markdown",
   "metadata": {
    "colab_type": "text",
    "id": "TIK2L0VuhbgA"
   },
   "source": [
    "## 5.1 Columns used for training"
   ]
  },
  {
   "cell_type": "code",
   "execution_count": 13,
   "metadata": {
    "colab": {},
    "colab_type": "code",
    "id": "bXF4dmJKhF7q"
   },
   "outputs": [],
   "source": [
    "cols = ['userId', 'movieId', 'rating']"
   ]
  },
  {
   "cell_type": "markdown",
   "metadata": {
    "colab_type": "text",
    "id": "J8rylnJmUjYk"
   },
   "source": [
    "## 5.2 Create surprise dataset"
   ]
  },
  {
   "cell_type": "code",
   "execution_count": 14,
   "metadata": {
    "colab": {},
    "colab_type": "code",
    "id": "4UOTMUssM6Tw"
   },
   "outputs": [],
   "source": [
    "reader = Reader(rating_scale = (0.5, 5))\n",
    "data = Dataset.load_from_df(df[cols], reader)"
   ]
  },
  {
   "cell_type": "markdown",
   "metadata": {
    "colab_type": "text",
    "id": "8lM--CdvguDz"
   },
   "source": [
    "## 5.3 Create Train-set and Prediction-set"
   ]
  },
  {
   "cell_type": "code",
   "execution_count": 15,
   "metadata": {
    "colab": {},
    "colab_type": "code",
    "id": "heITVvtvU1FD"
   },
   "outputs": [],
   "source": [
    "trainset = data.build_full_trainset()\n",
    "antiset = trainset.build_anti_testset()"
   ]
  },
  {
   "cell_type": "markdown",
   "metadata": {
    "colab_type": "text",
    "id": "AYfhHDReuO5h"
   },
   "source": [
    "# Task 6: Creating and training the model"
   ]
  },
  {
   "cell_type": "markdown",
   "metadata": {
    "colab_type": "text",
    "id": "R4e28tFHubv9"
   },
   "source": [
    "## 6.1 Creating the model\n",
    "\n",
    "**SVD (Singular Value Decomposition)**\n",
    "\n",
    "Interaction Matrix = A X B X C"
   ]
  },
  {
   "cell_type": "code",
   "execution_count": 16,
   "metadata": {
    "colab": {},
    "colab_type": "code",
    "id": "Ft4rS3L-hqeS"
   },
   "outputs": [],
   "source": [
    "algo = SVD(n_epochs =25, verbose = True)"
   ]
  },
  {
   "cell_type": "markdown",
   "metadata": {
    "colab_type": "text",
    "id": "h_16sRpXwahF"
   },
   "source": [
    "## 6.2 Training the model\n",
    "\n",
    "**Mean Absolute Error (MAE)**: MAE measures the average magnitude of the errors in a set of predictions, without considering their direction. \n",
    "\n",
    "**Root mean squared error (RMSE)**:  RMSE is the square root of the average of squared differences between prediction and actual observation."
   ]
  },
  {
   "cell_type": "code",
   "execution_count": 17,
   "metadata": {
    "colab": {},
    "colab_type": "code",
    "id": "nh-E5DS5wYe_"
   },
   "outputs": [
    {
     "name": "stdout",
     "output_type": "stream",
     "text": [
      "Processing epoch 0\n",
      "Processing epoch 1\n",
      "Processing epoch 2\n",
      "Processing epoch 3\n",
      "Processing epoch 4\n",
      "Processing epoch 5\n",
      "Processing epoch 6\n",
      "Processing epoch 7\n",
      "Processing epoch 8\n",
      "Processing epoch 9\n",
      "Processing epoch 10\n",
      "Processing epoch 11\n",
      "Processing epoch 12\n",
      "Processing epoch 13\n",
      "Processing epoch 14\n",
      "Processing epoch 15\n",
      "Processing epoch 16\n",
      "Processing epoch 17\n",
      "Processing epoch 18\n",
      "Processing epoch 19\n",
      "Processing epoch 20\n",
      "Processing epoch 21\n",
      "Processing epoch 22\n",
      "Processing epoch 23\n",
      "Processing epoch 24\n",
      "Processing epoch 0\n",
      "Processing epoch 1\n",
      "Processing epoch 2\n",
      "Processing epoch 3\n",
      "Processing epoch 4\n",
      "Processing epoch 5\n",
      "Processing epoch 6\n",
      "Processing epoch 7\n",
      "Processing epoch 8\n",
      "Processing epoch 9\n",
      "Processing epoch 10\n",
      "Processing epoch 11\n",
      "Processing epoch 12\n",
      "Processing epoch 13\n",
      "Processing epoch 14\n",
      "Processing epoch 15\n",
      "Processing epoch 16\n",
      "Processing epoch 17\n",
      "Processing epoch 18\n",
      "Processing epoch 19\n",
      "Processing epoch 20\n",
      "Processing epoch 21\n",
      "Processing epoch 22\n",
      "Processing epoch 23\n",
      "Processing epoch 24\n",
      "Processing epoch 0\n",
      "Processing epoch 1\n",
      "Processing epoch 2\n",
      "Processing epoch 3\n",
      "Processing epoch 4\n",
      "Processing epoch 5\n",
      "Processing epoch 6\n",
      "Processing epoch 7\n",
      "Processing epoch 8\n",
      "Processing epoch 9\n",
      "Processing epoch 10\n",
      "Processing epoch 11\n",
      "Processing epoch 12\n",
      "Processing epoch 13\n",
      "Processing epoch 14\n",
      "Processing epoch 15\n",
      "Processing epoch 16\n",
      "Processing epoch 17\n",
      "Processing epoch 18\n",
      "Processing epoch 19\n",
      "Processing epoch 20\n",
      "Processing epoch 21\n",
      "Processing epoch 22\n",
      "Processing epoch 23\n",
      "Processing epoch 24\n",
      "Processing epoch 0\n",
      "Processing epoch 1\n",
      "Processing epoch 2\n",
      "Processing epoch 3\n",
      "Processing epoch 4\n",
      "Processing epoch 5\n",
      "Processing epoch 6\n",
      "Processing epoch 7\n",
      "Processing epoch 8\n",
      "Processing epoch 9\n",
      "Processing epoch 10\n",
      "Processing epoch 11\n",
      "Processing epoch 12\n",
      "Processing epoch 13\n",
      "Processing epoch 14\n",
      "Processing epoch 15\n",
      "Processing epoch 16\n",
      "Processing epoch 17\n",
      "Processing epoch 18\n",
      "Processing epoch 19\n",
      "Processing epoch 20\n",
      "Processing epoch 21\n",
      "Processing epoch 22\n",
      "Processing epoch 23\n",
      "Processing epoch 24\n",
      "Processing epoch 0\n",
      "Processing epoch 1\n",
      "Processing epoch 2\n",
      "Processing epoch 3\n",
      "Processing epoch 4\n",
      "Processing epoch 5\n",
      "Processing epoch 6\n",
      "Processing epoch 7\n",
      "Processing epoch 8\n",
      "Processing epoch 9\n",
      "Processing epoch 10\n",
      "Processing epoch 11\n",
      "Processing epoch 12\n",
      "Processing epoch 13\n",
      "Processing epoch 14\n",
      "Processing epoch 15\n",
      "Processing epoch 16\n",
      "Processing epoch 17\n",
      "Processing epoch 18\n",
      "Processing epoch 19\n",
      "Processing epoch 20\n",
      "Processing epoch 21\n",
      "Processing epoch 22\n",
      "Processing epoch 23\n",
      "Processing epoch 24\n",
      "Evaluating RMSE, MAE of algorithm SVD on 5 split(s).\n",
      "\n",
      "                  Fold 1  Fold 2  Fold 3  Fold 4  Fold 5  Mean    Std     \n",
      "RMSE (testset)    0.7831  0.7813  0.7823  0.7826  0.7834  0.7825  0.0007  \n",
      "MAE (testset)     0.6007  0.5991  0.5998  0.6000  0.6002  0.6000  0.0005  \n",
      "Fit time          32.23   34.54   34.15   33.58   34.68   33.84   0.89    \n",
      "Test time         8.59    6.87    8.54    7.71    8.65    8.07    0.69    \n",
      ">> Training Done\n"
     ]
    }
   ],
   "source": [
    "cross_validate(algo, data, measures = ['RMSE', 'MAE'], cv=5, verbose= True)\n",
    "print('>> Training Done')"
   ]
  },
  {
   "cell_type": "markdown",
   "metadata": {
    "colab_type": "text",
    "id": "zTnqbNt_xkKS"
   },
   "source": [
    "# Task 7: Predictions"
   ]
  },
  {
   "cell_type": "markdown",
   "metadata": {
    "colab_type": "text",
    "id": "ma3oQr1Ax_Hg"
   },
   "source": [
    "## 7.1 Predict ratings for all pairs (user, items) that are NOT in the training set."
   ]
  },
  {
   "cell_type": "code",
   "execution_count": 18,
   "metadata": {
    "colab": {},
    "colab_type": "code",
    "id": "_K3EmIs3wxhW"
   },
   "outputs": [],
   "source": [
    "predictions = algo.test(antiset)"
   ]
  },
  {
   "cell_type": "code",
   "execution_count": 19,
   "metadata": {
    "colab": {},
    "colab_type": "code",
    "id": "RkqiEwM9z4Jf"
   },
   "outputs": [
    {
     "data": {
      "text/plain": [
       "Prediction(uid=12, iid=6, r_ui=3.459905977574489, est=3.2792508568278573, details={'was_impossible': False})"
      ]
     },
     "execution_count": 19,
     "metadata": {},
     "output_type": "execute_result"
    }
   ],
   "source": [
    "predictions[0]"
   ]
  },
  {
   "cell_type": "markdown",
   "metadata": {
    "colab_type": "text",
    "id": "lRmzGn63ze8b"
   },
   "source": [
    "## 7.2 Recommending top 3 movies movies based on predictions"
   ]
  },
  {
   "cell_type": "code",
   "execution_count": 30,
   "metadata": {
    "colab": {},
    "colab_type": "code",
    "id": "q3Ugauv0119g",
    "scrolled": false
   },
   "outputs": [
    {
     "name": "stdout",
     "output_type": "stream",
     "text": [
      "12 [665, 94959, 3022, 745, 1947]\n",
      "24 [912, 950, 665, 3089, 223]\n",
      "43 [858, 318, 33166, 296, 2360]\n",
      "46 [1090, 293, 541, 858, 1073]\n",
      "47 [1089, 678, 2360, 1272, 1262]\n",
      "49 [950, 123, 58, 2067, 8973]\n"
     ]
    }
   ],
   "source": [
    "from collections import defaultdict\n",
    "def get_top_n(predictions, n=5):\n",
    "    top_n = defaultdict(list)\n",
    "    for uid, iid, _, est, _ in predictions:\n",
    "        top_n[uid].append((iid, est))\n",
    "        \n",
    "    for uid, user_ratings in top_n.items():\n",
    "        user_ratings.sort(key = lambda x: x[1], reverse = True)\n",
    "        top_n[uid] = user_ratings[:n]\n",
    "        \n",
    "    return top_n\n",
    "\n",
    "top_n = get_top_n(predictions, n=5)\n",
    "\n",
    "i=0;\n",
    "for uid, user_ratings in top_n.items():\n",
    "    print(uid, [iid for (iid, rating) in user_ratings])\n",
    "    i+=1\n",
    "    if i >5:\n",
    "        break"
   ]
  },
  {
   "cell_type": "code",
   "execution_count": 21,
   "metadata": {},
   "outputs": [],
   "source": [
    "movies_df = pd.read_csv(\"Data/merged.csv\")"
   ]
  },
  {
   "cell_type": "code",
   "execution_count": 26,
   "metadata": {},
   "outputs": [
    {
     "data": {
      "text/html": [
       "<div>\n",
       "<style scoped>\n",
       "    .dataframe tbody tr th:only-of-type {\n",
       "        vertical-align: middle;\n",
       "    }\n",
       "\n",
       "    .dataframe tbody tr th {\n",
       "        vertical-align: top;\n",
       "    }\n",
       "\n",
       "    .dataframe thead th {\n",
       "        text-align: right;\n",
       "    }\n",
       "</style>\n",
       "<table border=\"1\" class=\"dataframe\">\n",
       "  <thead>\n",
       "    <tr style=\"text-align: right;\">\n",
       "      <th></th>\n",
       "      <th>id</th>\n",
       "      <th>title</th>\n",
       "    </tr>\n",
       "  </thead>\n",
       "  <tbody>\n",
       "    <tr>\n",
       "      <th>0</th>\n",
       "      <td>862</td>\n",
       "      <td>Toy Story</td>\n",
       "    </tr>\n",
       "    <tr>\n",
       "      <th>1</th>\n",
       "      <td>8844</td>\n",
       "      <td>Jumanji</td>\n",
       "    </tr>\n",
       "    <tr>\n",
       "      <th>2</th>\n",
       "      <td>15602</td>\n",
       "      <td>Grumpier Old Men</td>\n",
       "    </tr>\n",
       "    <tr>\n",
       "      <th>3</th>\n",
       "      <td>31357</td>\n",
       "      <td>Waiting to Exhale</td>\n",
       "    </tr>\n",
       "    <tr>\n",
       "      <th>4</th>\n",
       "      <td>11862</td>\n",
       "      <td>Father of the Bride Part II</td>\n",
       "    </tr>\n",
       "  </tbody>\n",
       "</table>\n",
       "</div>"
      ],
      "text/plain": [
       "      id                        title\n",
       "0    862                    Toy Story\n",
       "1   8844                      Jumanji\n",
       "2  15602             Grumpier Old Men\n",
       "3  31357            Waiting to Exhale\n",
       "4  11862  Father of the Bride Part II"
      ]
     },
     "execution_count": 26,
     "metadata": {},
     "output_type": "execute_result"
    }
   ],
   "source": [
    "movies_df = movies_df[[\"id\", \"title\"]]\n",
    "\n",
    "movies_df.head()\n"
   ]
  },
  {
   "cell_type": "code",
   "execution_count": 38,
   "metadata": {},
   "outputs": [
    {
     "name": "stdout",
     "output_type": "stream",
     "text": [
      "12 [849    Ben-Hur\n",
      "Name: title, dtype: object, 8686    Edward, My Son\n",
      "Name: title, dtype: object, 4730    Dr. Jekyll and Mr. Hyde\n",
      "Name: title, dtype: object, 1871    The Sixth Sense\n",
      "Name: title, dtype: object, 6468    An Unfinished Life\n",
      "Name: title, dtype: object]\n",
      "24 [1873    The Thomas Crown Affair\n",
      "Name: title, dtype: object, 6685    Ice Age: The Meltdown\n",
      "Name: title, dtype: object, 849    Ben-Hur\n",
      "Name: title, dtype: object, 4638    Red River\n",
      "Name: title, dtype: object, 599    Rebecca\n",
      "Name: title, dtype: object]\n",
      "43 [387    Sleepless in Seattle\n",
      "Name: title, dtype: object, 2823    The Million Dollar Hotel\n",
      "Name: title, dtype: object, 7471    Downhill Racer\n",
      "Name: title, dtype: object, 4319    Terminator 3: Rise of the Machines\n",
      "Name: title, dtype: object, 2611    Saving Grace\n",
      "Name: title, dtype: object]\n",
      "46 [1814    The Thirteenth Floor\n",
      "Name: title, dtype: object, 2108    A River Runs Through It\n",
      "Name: title, dtype: object, 2506    The Man with the Golden Arm\n",
      "Name: title, dtype: object, 387    Sleepless in Seattle\n",
      "Name: title, dtype: object, 1830    Arlington Road\n",
      "Name: title, dtype: object]\n",
      "47 [2951    Point Break\n",
      "Name: title, dtype: object, 1347    Out of the Past\n",
      "Name: title, dtype: object, 2611    Saving Grace\n",
      "Name: title, dtype: object, 7129    Sunshine\n",
      "Name: title, dtype: object, 6826    Stranger Than Fiction\n",
      "Name: title, dtype: object]\n",
      "49 [6685    Ice Age: The Meltdown\n",
      "Name: title, dtype: object, 1387    The Lord of the Rings\n",
      "Name: title, dtype: object, 6762    Pirates of the Caribbean: Dead Man's Chest\n",
      "Name: title, dtype: object, 2285    Mission to Mars\n",
      "Name: title, dtype: object, 124    Lord of Illusions\n",
      "Name: title, dtype: object]\n"
     ]
    }
   ],
   "source": [
    "i=0\n",
    "for uid, user_ratings in top_n.items():\n",
    "    print(uid, [ movies_df[movies_df[\"id\"]== iid][\"title\"] for (iid, rating) in user_ratings])\n",
    "    i+=1\n",
    "    if i > 5:\n",
    "        break\n"
   ]
  },
  {
   "cell_type": "code",
   "execution_count": null,
   "metadata": {},
   "outputs": [],
   "source": []
  }
 ],
 "metadata": {
  "colab": {
   "collapsed_sections": [],
   "name": "Movies Recommendation Engine - Coursera [Starter]",
   "provenance": [],
   "toc_visible": true
  },
  "kernelspec": {
   "display_name": "Python 3 (ipykernel)",
   "language": "python",
   "name": "python3"
  },
  "language_info": {
   "codemirror_mode": {
    "name": "ipython",
    "version": 3
   },
   "file_extension": ".py",
   "mimetype": "text/x-python",
   "name": "python",
   "nbconvert_exporter": "python",
   "pygments_lexer": "ipython3",
   "version": "3.9.13"
  }
 },
 "nbformat": 4,
 "nbformat_minor": 4
}
