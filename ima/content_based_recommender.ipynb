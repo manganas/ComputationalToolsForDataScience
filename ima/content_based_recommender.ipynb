{
 "cells": [
  {
   "cell_type": "markdown",
   "id": "9e666416",
   "metadata": {},
   "source": [
    "## Content based recommendation system"
   ]
  },
  {
   "cell_type": "markdown",
   "id": "d9b7c01e",
   "metadata": {},
   "source": [
    "Content based recommender systems do not make use of data from other users to recommend a movie. Instead, they utilize a descriptive set of attributes such as keywords or the summary of a movie. The disadvantage is that these systems will recommend the same movie to the user, based on the input. However, they could be useful in recommending a movie that not many people have seen or rated.  \n",
    "\n",
    "In the content based recommendation system it is only the user that plays a role in the recommendation. This method can also be combined with collaborative filtering methods."
   ]
  },
  {
   "cell_type": "markdown",
   "id": "588f79c2",
   "metadata": {},
   "source": [
    "In this notebook, the text content of the movies from the `merged` dataset is going to be alalyzed. The goal is to rank all the movies in the dataset based on a similarity measure with the input movie. For similarity measures, the cosine similarity will be used. Moreover, the content comes from the movies plots and possibly also the keywords. In order to remove the most common words, TF-IDF is used. Finally, the input to the TF-IDF algorithm will be the lemmatized text from each movie's content."
   ]
  },
  {
   "cell_type": "code",
   "execution_count": 1,
   "id": "42f313e0",
   "metadata": {},
   "outputs": [],
   "source": [
    "# Common libraries imports\n",
    "import pandas as pd"
   ]
  },
  {
   "cell_type": "code",
   "execution_count": 25,
   "id": "bcfa3752",
   "metadata": {},
   "outputs": [
    {
     "name": "stderr",
     "output_type": "stream",
     "text": [
      "[nltk_data] Downloading package punkt to\n",
      "[nltk_data]     C:\\Users\\iok\\AppData\\Roaming\\nltk_data...\n",
      "[nltk_data]   Package punkt is already up-to-date!\n",
      "[nltk_data] Downloading package wordnet to\n",
      "[nltk_data]     C:\\Users\\iok\\AppData\\Roaming\\nltk_data...\n",
      "[nltk_data]   Package wordnet is already up-to-date!\n",
      "[nltk_data] Downloading package omw-1.4 to\n",
      "[nltk_data]     C:\\Users\\iok\\AppData\\Roaming\\nltk_data...\n",
      "[nltk_data]   Package omw-1.4 is already up-to-date!\n",
      "[nltk_data] Error loading corpus: Package 'corpus' not found in index\n",
      "[nltk_data] Downloading package stopwords to\n",
      "[nltk_data]     C:\\Users\\iok\\AppData\\Roaming\\nltk_data...\n",
      "[nltk_data]   Unzipping corpora\\stopwords.zip.\n"
     ]
    },
    {
     "data": {
      "text/plain": [
       "True"
      ]
     },
     "execution_count": 25,
     "metadata": {},
     "output_type": "execute_result"
    }
   ],
   "source": [
    "# Not as common libraries imports and installation. \n",
    "# !python3 -m pip install nltk ## For linux and not environment\n",
    "# !pip install nltk\n",
    "import nltk\n",
    "nltk.download('punkt')\n",
    "nltk.download('wordnet')\n",
    "nltk.download('omw-1.4')\n",
    "nltk.download('corpus')\n",
    "nltk.download('stopwords')"
   ]
  },
  {
   "cell_type": "markdown",
   "id": "b0efc584",
   "metadata": {},
   "source": [
    "Since it is a good idea to remove stop words from tf idf calculations, as stated also in [Chapter 1.3.1 MMDS](http://mmds.org/), a list of English stop words is created:"
   ]
  },
  {
   "cell_type": "code",
   "execution_count": 26,
   "id": "324eefda",
   "metadata": {},
   "outputs": [],
   "source": [
    "from nltk.corpus import stopwords\n",
    "stop_words = stopwords.words('english')"
   ]
  },
  {
   "cell_type": "markdown",
   "id": "26758cf7",
   "metadata": {},
   "source": [
    "Read the `merged` dataset, or its 'cleaned' version, that has duplicates removed"
   ]
  },
  {
   "cell_type": "code",
   "execution_count": 27,
   "id": "4cf4027d",
   "metadata": {},
   "outputs": [],
   "source": [
    "# a = data.sort_values('Release Year', ascending=False).drop_duplicates(subset=['Title', 'Release Year'], keep='last')\n",
    "# a.loc[a.Title=='The Mask']['release_date']"
   ]
  },
  {
   "cell_type": "code",
   "execution_count": 28,
   "id": "ade68f68",
   "metadata": {},
   "outputs": [],
   "source": [
    "data = pd.read_csv('../Data/merged.csv')"
   ]
  },
  {
   "cell_type": "code",
   "execution_count": 29,
   "id": "ab59590e",
   "metadata": {},
   "outputs": [],
   "source": [
    "def print_info(index):\n",
    "    '''\n",
    "    Helper function used for an initial overview of the dataset\n",
    "    '''\n",
    "    print(f\"Title:\\n{data.iloc[index]['Title']}\\n\")\n",
    "    print(f\"Release Year:\\n{data.iloc[index]['Release Year']}\\n\")\n",
    "    print(f\"Link:\\n{data.iloc[index]['Wiki Page']}\\n\")\n",
    "    print(f\"Tagline:\\n{data.iloc[index]['tagline']}\\n\")\n",
    "    print(f\"Overview:\\n{data.iloc[index]['overview']}\\n\")\n",
    "    print(f\"Summary:\\n{data.iloc[index]['Plot']}\\n\")"
   ]
  },
  {
   "cell_type": "markdown",
   "id": "ff7cee69",
   "metadata": {},
   "source": [
    "As an example, use `print_info` for a random movie:"
   ]
  },
  {
   "cell_type": "code",
   "execution_count": 30,
   "id": "723fc500",
   "metadata": {},
   "outputs": [
    {
     "name": "stdout",
     "output_type": "stream",
     "text": [
      "Title:\n",
      "Suicide Squad\n",
      "\n",
      "Release Year:\n",
      "2016\n",
      "\n",
      "Link:\n",
      "https://en.wikipedia.org/wiki/Suicide_Squad_(film)\n",
      "\n",
      "Tagline:\n",
      "Worst Heroes Ever\n",
      "\n",
      "Overview:\n",
      "From DC Comics comes the Suicide Squad, an antihero team of incarcerated supervillains who act as deniable assets for the United States government, undertaking high-risk black ops missions in exchange for commuted prison sentences.\n",
      "\n",
      "Summary:\n",
      "In the aftermath of Superman's death, intelligence officer Amanda Waller reaches Washington D.C for assembling Task Force X, and shows them to everyone in the White House a team of dangerous criminals imprisoned at Belle Reve Prison consisting of elite hitman Deadshot, former psychiatrist Harley Quinn, pyrokinetic ex-gangster El Diablo, opportunistic thief Captain Boomerang, genetic mutation Killer Croc, and specialized assassin Slipknot. They are placed under command of Colonel Rick Flag to be used as disposable assets in high-risk missions for the United States government. Each member has a nano bomb implanted in their neck, designed to detonate should any member rebel or try to escape.\n",
      "One of Waller's intended recruits is Flag's girlfriend Dr. June Moone, an archaeologist possessed by a witch known as the \"Enchantress\". Enchantress quickly turns on Waller, deciding to eradicate humankind with a mystical weapon for imprisoning her. She besieges Midway City by transforming its populace into a horde of monsters, and summons her brother Incubus to assist her. Waller then deploys the squad to extract a high-profile mark from Midway, which is reported to be under a terrorist attack. Joining them is Katana, a Japanese swordswoman.\n",
      "Harley's homicidal lover Joker finds out about her predicament and tortures Belle Reve security officer Griggs into leading him to the facility where the nano bombs are made. There, he blackmails Dr. Van Criss into disabling Harley's bomb. On approach, the squad's helicopter is shot down, forcing them to proceed on foot to their target. Boomerang inaccurately convinces Slipknot that the bombs are a ruse to keep them in check; Slipknot attempts to escape and Flag kills him via his nano bomb, while the squad is attacked by Enchantress' minions. They eventually fight their way through to a safe room, where they learn that their mark is Waller herself, who is attempting to cover up her involvement in Enchantress' siege.\n",
      "The squad escorts Waller to a rooftop for extraction, but the arriving helicopter has been hijacked by the Joker and his men, who open fire on the squad while Harley climbs aboard upon Dr. Van Criss disarming her bomb, leaving Flag unable to execute her. However, Waller's men shoot down the helicopter, and Harley falls out while the Joker is presumed dead, after which Harley rejoins the squad. Alerted to Waller's whereabouts, Enchantress' minions arrive and kidnap her. Deadshot finds Waller's confidential files and learns the truth about Enchantress. Flag is then forced to confess the truth, causing the squad members to abandon him. With Waller compromised, Flag relieves the squad of the mission, but chooses to continue. Realizing they have an opportunity to prove themselves, they soon rejoin him and locate Enchantress at a partially-flooded subway station. Killer Croc and a group of Navy SEALs, led by Lieutenant GQ Edwards, go underwater to plant a bomb underneath Incubus. El Diablo embraces his abilities and distracts Incubus long enough for the bomb to detonate underneath, killing them both as well as Edwards.\n",
      "The remaining squad members battle Enchantress together, but are ultimately defeated. Enchantress offers to fulfill their deepest desires in exchange for their allegiance, and Harley feigns interest in order to get close enough to cut out Enchantress' heart. Killer Croc then throws explosives into Enchantress' weapon and Deadshot shoots them, destroying the device. Flag takes Enchantress' heart and crushes it, finally freeing June from the curse. Waller, still alive, emerges, and the squad members are returned to Belle Reve with ten years off their sentences. All but Captain Boomerang are allowed special privileges. The Joker, alive and unscathed, breaks into the penitentiary and rescues Harley.\n",
      "In a mid-credits scene, Waller meets with Bruce Wayne, who agrees to protect her from the backlash against her role in Enchantress' rampage in exchange for access to the government's files on the expanding metahuman community while telling her to shut down Task Force X.\n",
      "\n"
     ]
    }
   ],
   "source": [
    "print_info(12456)"
   ]
  },
  {
   "cell_type": "markdown",
   "id": "413cec1f",
   "metadata": {},
   "source": [
    "Which text should we use as content? We can use `tagline` as an alternative title, `overview` which is a sentence that summarizes the movie and `Plot`, the summary of the movie. The latter is in general a longer text. We can use either the latter or for each movie create a txt document that contains the desired text.  \n",
    "\n",
    "In the following, as a prototype, I am only using the `Plot`."
   ]
  },
  {
   "cell_type": "markdown",
   "id": "c93bf337",
   "metadata": {},
   "source": [
    "There are 2 ways to normalize text:Stemming and Lemmatization. The difference can be found [here](https://www.guru99.com/stemming-lemmatization-python-nltk.html). In the following I am using Lemmatization.  \n",
    "\n",
    "The procedure is as follows. Lemmatize each movie's text content, get the frequency for each movie's lemmas and then use TF-IDF. To this end, I create a dataframe to store, the movie title, the relase year and the lemmas as list of words for each movie."
   ]
  },
  {
   "cell_type": "code",
   "execution_count": 31,
   "id": "b19b865c",
   "metadata": {},
   "outputs": [],
   "source": [
    "from nltk.stem import WordNetLemmatizer\n",
    "from nltk.corpus import wordnet\n",
    "from nltk.tokenize import RegexpTokenizer"
   ]
  },
  {
   "cell_type": "code",
   "execution_count": 32,
   "id": "8aaab3d8",
   "metadata": {},
   "outputs": [],
   "source": [
    "tokenizer = RegexpTokenizer(r'\\w+') # Remove punctuation\n",
    "wordnet_lemmatizer = WordNetLemmatizer() # Create lemmatizer\n",
    "\n",
    "# text = \"studies studying cries cry\"\n",
    "# tokenization = nltk.word_tokenize(text)\n",
    "# for w in tokenization:\n",
    "#     print(\"Lemma for {} is {}\".format(w, wordnet_lemmatizer.lemmatize(w)))  "
   ]
  },
  {
   "cell_type": "code",
   "execution_count": 33,
   "id": "2ad947de",
   "metadata": {},
   "outputs": [],
   "source": [
    "def create_lemmas_list(content_txt):\n",
    "    lemmas = []    \n",
    "    tokenization = tokenizer.tokenize(content_txt.lower()) # Lowercase the whole text, to avoid dealing with case\n",
    "    for w in tokenization:\n",
    "        # Do not consider single characters. Can be resolved via tf-idf,\n",
    "        # but maybe there are single characters due to wrong line breaks.\n",
    "        if w in stop_words:\n",
    "            continue\n",
    "        lemmas.append(wordnet_lemmatizer.lemmatize(w, wordnet.VERB))\n",
    "    \n",
    "    return lemmas"
   ]
  },
  {
   "cell_type": "markdown",
   "id": "1dff73f2",
   "metadata": {},
   "source": [
    "Test this:"
   ]
  },
  {
   "cell_type": "code",
   "execution_count": 34,
   "id": "34023b49",
   "metadata": {},
   "outputs": [],
   "source": [
    "txt = data.iloc[459].Plot\n",
    "a = create_lemmas_list(txt)"
   ]
  },
  {
   "cell_type": "code",
   "execution_count": 35,
   "id": "bb416007",
   "metadata": {},
   "outputs": [
    {
     "data": {
      "text/plain": [
       "Index(['Unnamed: 0', 'adult', 'belongs_to_collection', 'budget', 'genres',\n",
       "       'homepage', 'id', 'imdb_id', 'original_language', 'original_title',\n",
       "       'overview', 'popularity', 'poster_path', 'production_companies',\n",
       "       'production_countries', 'release_date', 'revenue', 'runtime',\n",
       "       'spoken_languages', 'status', 'tagline', 'title', 'video',\n",
       "       'vote_average', 'vote_count', 'ReleaseAndTitle', 'Release Year',\n",
       "       'Title', 'Origin/Ethnicity', 'Director', 'Cast', 'Genre', 'Wiki Page',\n",
       "       'Plot', 'keywords', 'cast', 'crew', 'KeywCastDirGenre'],\n",
       "      dtype='object')"
      ]
     },
     "execution_count": 35,
     "metadata": {},
     "output_type": "execute_result"
    }
   ],
   "source": [
    "data.columns"
   ]
  },
  {
   "cell_type": "code",
   "execution_count": 36,
   "id": "8f5d8101",
   "metadata": {},
   "outputs": [],
   "source": [
    "# Create a df to hold the movies and the tokenized text\n",
    "movie_plots_tokens_df = data[['Title', \"Plot\"]]"
   ]
  },
  {
   "cell_type": "code",
   "execution_count": 37,
   "id": "a3116514",
   "metadata": {},
   "outputs": [],
   "source": [
    "def tokenize(text):\n",
    "    tokenization = tokenizer.tokenize(text.lower())\n",
    "    tokens = [ wordnet_lemmatizer.lemmatize(token, wordnet.VERB) for token in tokenization if token not in stop_words and token.isalpha() ]\n",
    "    return tokens"
   ]
  },
  {
   "cell_type": "code",
   "execution_count": 38,
   "id": "0818c906",
   "metadata": {},
   "outputs": [
    {
     "name": "stderr",
     "output_type": "stream",
     "text": [
      "C:\\Users\\iok\\AppData\\Local\\Temp\\ipykernel_24724\\863147497.py:1: SettingWithCopyWarning: \n",
      "A value is trying to be set on a copy of a slice from a DataFrame.\n",
      "Try using .loc[row_indexer,col_indexer] = value instead\n",
      "\n",
      "See the caveats in the documentation: https://pandas.pydata.org/pandas-docs/stable/user_guide/indexing.html#returning-a-view-versus-a-copy\n",
      "  movie_plots_tokens_df['Tokens'] = movie_plots_tokens_df['Plot'].apply(tokenize)\n"
     ]
    }
   ],
   "source": [
    "movie_plots_tokens_df['Tokens'] = movie_plots_tokens_df['Plot'].apply(tokenize)"
   ]
  },
  {
   "cell_type": "code",
   "execution_count": 39,
   "id": "961f2c88",
   "metadata": {},
   "outputs": [
    {
     "data": {
      "text/plain": [
       "0        [world, toy, live, things, pretend, lifeless, ...\n",
       "1        [near, brantford, new, hampshire, two, brother...\n",
       "2        [feud, max, walter, matthau, john, jack, lemmo...\n",
       "3        [friends, people, let, never, let, forget, wai...\n",
       "4        [film, begin, five, years, events, first, one,...\n",
       "                               ...                        \n",
       "14701    [leave, permanent, residence, germany, famous,...\n",
       "14702    [masha, krapivina, kristina, asmus, come, mosc...\n",
       "14703    [biology, teacher, devki, vivacious, popular, ...\n",
       "14704    [struggle, sculptor, marcel, de, lange, martin...\n",
       "14705    [film, begin, miller, poach, deer, land, belon...\n",
       "Name: Tokens, Length: 14706, dtype: object"
      ]
     },
     "execution_count": 39,
     "metadata": {},
     "output_type": "execute_result"
    }
   ],
   "source": [
    "movie_plots_tokens_df.Tokens"
   ]
  },
  {
   "cell_type": "code",
   "execution_count": null,
   "id": "d09d2116",
   "metadata": {},
   "outputs": [],
   "source": []
  },
  {
   "cell_type": "code",
   "execution_count": 180,
   "id": "281fad53",
   "metadata": {},
   "outputs": [
    {
     "data": {
      "text/plain": [
       "Index(['Unnamed: 0', 'adult', 'belongs_to_collection', 'budget', 'genres',\n",
       "       'homepage', 'id', 'imdb_id', 'original_language', 'original_title',\n",
       "       'overview', 'popularity', 'poster_path', 'production_companies',\n",
       "       'production_countries', 'release_date', 'revenue', 'runtime',\n",
       "       'spoken_languages', 'status', 'tagline', 'title', 'video',\n",
       "       'vote_average', 'vote_count', 'ReleaseAndTitle', 'Release Year',\n",
       "       'Title', 'Origin/Ethnicity', 'Director', 'Cast', 'Genre', 'Wiki Page',\n",
       "       'Plot', 'keywords', 'cast', 'crew', 'KeywCastDirGenre', 'b', 'TTo',\n",
       "       'TToP'],\n",
       "      dtype='object')"
      ]
     },
     "execution_count": 180,
     "metadata": {},
     "output_type": "execute_result"
    }
   ],
   "source": [
    "data.columns\n"
   ]
  },
  {
   "cell_type": "code",
   "execution_count": 151,
   "id": "7a3237a9",
   "metadata": {},
   "outputs": [],
   "source": [
    "from sklearn.feature_extraction.text import TfidfVectorizer\n",
    "from sklearn.metrics.pairwise import linear_kernel, cosine_similarity"
   ]
  },
  {
   "cell_type": "code",
   "execution_count": 195,
   "id": "6a0f3cc1",
   "metadata": {},
   "outputs": [],
   "source": [
    "data['TTo']=data['Title']+' '+data['Title']+' '+data['overview']+' '+data['Plot']\n",
    "data['TDC']=data['Title']+' '+data['Director']\n",
    "data['TDCP']=data['Title']+' '+data['Director']+' '+data['Plot']\n",
    "\n"
   ]
  },
  {
   "cell_type": "code",
   "execution_count": 196,
   "id": "cfebff55",
   "metadata": {},
   "outputs": [],
   "source": [
    "tf = TfidfVectorizer().fit_transform(data.Plot)\n",
    "tfov = TfidfVectorizer().fit_transform(data.overview.dropna())\n",
    "tftit = TfidfVectorizer().fit_transform(data.Title)\n",
    "tfTTo = TfidfVectorizer().fit_transform(data.TTo.dropna())\n",
    "tfTToP = TfidfVectorizer().fit_transform(data.TToP.dropna())\n",
    "tfTDC = TfidfVectorizer().fit_transform(data.TDC.dropna())\n",
    "tfTDCP = TfidfVectorizer().fit_transform(data.TDCP.dropna())"
   ]
  },
  {
   "cell_type": "code",
   "execution_count": 197,
   "id": "25c7e3e6",
   "metadata": {},
   "outputs": [
    {
     "data": {
      "text/plain": [
       "0.0"
      ]
     },
     "execution_count": 197,
     "metadata": {},
     "output_type": "execute_result"
    }
   ],
   "source": [
    "tf[0,74013]"
   ]
  },
  {
   "cell_type": "code",
   "execution_count": 198,
   "id": "eb2c922c",
   "metadata": {},
   "outputs": [],
   "source": [
    "cosine_sim = linear_kernel(tf, tf)\n",
    "cosine_simtit = linear_kernel(tftit, tftit)\n",
    "cosine_simov = linear_kernel(tfov, tfov)\n",
    "cosine_simtto = linear_kernel(tfTTo, tfTTo)\n",
    "cosine_simttop = linear_kernel(tfTToP, tfTToP)\n",
    "cosine_simTDC = linear_kernel(tfTDC, tfTDC)\n",
    "cosine_simTDCP = linear_kernel(tfTDCP, tfTDCP)\n"
   ]
  },
  {
   "cell_type": "code",
   "execution_count": null,
   "id": "1cb0b0c4",
   "metadata": {},
   "outputs": [],
   "source": []
  },
  {
   "cell_type": "code",
   "execution_count": 199,
   "id": "70ee04d3",
   "metadata": {},
   "outputs": [],
   "source": [
    "data2  = data.copy()"
   ]
  },
  {
   "cell_type": "code",
   "execution_count": 200,
   "id": "66552f6c",
   "metadata": {},
   "outputs": [
    {
     "data": {
      "text/plain": [
       "Index(['Unnamed: 0', 'adult', 'belongs_to_collection', 'budget', 'genres',\n",
       "       'homepage', 'id', 'imdb_id', 'original_language', 'original_title',\n",
       "       'overview', 'popularity', 'poster_path', 'production_companies',\n",
       "       'production_countries', 'release_date', 'revenue', 'runtime',\n",
       "       'spoken_languages', 'status', 'tagline', 'title', 'video',\n",
       "       'vote_average', 'vote_count', 'ReleaseAndTitle', 'Release Year',\n",
       "       'Title', 'Origin/Ethnicity', 'Director', 'Cast', 'Genre', 'Wiki Page',\n",
       "       'Plot', 'keywords', 'cast', 'crew', 'KeywCastDirGenre', 'b', 'TTo',\n",
       "       'TToP', 'TDC', 'TDCP'],\n",
       "      dtype='object')"
      ]
     },
     "execution_count": 200,
     "metadata": {},
     "output_type": "execute_result"
    }
   ],
   "source": [
    "data.columns"
   ]
  },
  {
   "cell_type": "code",
   "execution_count": 201,
   "id": "b822937f",
   "metadata": {},
   "outputs": [],
   "source": [
    "\n",
    "\n",
    "smd = data2.reset_index()\n",
    "titles = smd['Title']\n",
    "indices = pd.Series(smd.index, index=smd['Title'])\n",
    "\n"
   ]
  },
  {
   "cell_type": "code",
   "execution_count": 202,
   "id": "7a64a55d",
   "metadata": {},
   "outputs": [],
   "source": [
    "\n",
    "\n",
    "def get_recommendations(title):\n",
    "    idx = indices[title]\n",
    "    sim_scores = list(enumerate(cosine_sim[idx]))\n",
    "    sim_scores = sorted(sim_scores, key=lambda x: x[1], reverse=True)\n",
    "    sim_scores = sim_scores[1:31]\n",
    "    movie_indices = [i[0] for i in sim_scores]\n",
    "    return titles.iloc[movie_indices]\n",
    "\n"
   ]
  },
  {
   "cell_type": "code",
   "execution_count": 203,
   "id": "8ade2564",
   "metadata": {},
   "outputs": [],
   "source": [
    "def get_recommendations(title, df, sim_measure ):\n",
    "    df = df.copy()\n",
    "    smd = df.reset_index()\n",
    "    titles = df['Title']\n",
    "    indices = pd.Series(smd.index, index=smd['Title'])\n",
    "    idx = indices[title]\n",
    "    if isinstance(idx, pd.core.series.Series):\n",
    "        a = max(df.loc[df.Title==title]['Release Year'].to_list())\n",
    "        idx = df.loc[ (df.Title==title) & (df['Release Year']==a) ].index[0]\n",
    "    sim_scores = list(enumerate(sim_measure[idx]))\n",
    "    sim_scores = sorted(sim_scores, key=lambda x: x[1], reverse=True)\n",
    "    sim_scores = sim_scores[1:31]\n",
    "    movie_indices = [i[0] for i in sim_scores]\n",
    "    return titles.iloc[movie_indices]"
   ]
  },
  {
   "cell_type": "code",
   "execution_count": 204,
   "id": "69c66552",
   "metadata": {},
   "outputs": [
    {
     "name": "stdout",
     "output_type": "stream",
     "text": [
      "8208    When young Lotus Flower sees an unconscious ma...\n",
      "Name: overview, dtype: object\n"
     ]
    }
   ],
   "source": [
    "print(data['overview'].loc[data.index==8208])"
   ]
  },
  {
   "cell_type": "code",
   "execution_count": 228,
   "id": "dbc44ab2",
   "metadata": {},
   "outputs": [],
   "source": [
    "title='Reservoir Dogs'"
   ]
  },
  {
   "cell_type": "code",
   "execution_count": 229,
   "id": "7d78e149",
   "metadata": {},
   "outputs": [
    {
     "data": {
      "text/html": [
       "<div>\n",
       "<style scoped>\n",
       "    .dataframe tbody tr th:only-of-type {\n",
       "        vertical-align: middle;\n",
       "    }\n",
       "\n",
       "    .dataframe tbody tr th {\n",
       "        vertical-align: top;\n",
       "    }\n",
       "\n",
       "    .dataframe thead th {\n",
       "        text-align: right;\n",
       "    }\n",
       "</style>\n",
       "<table border=\"1\" class=\"dataframe\">\n",
       "  <thead>\n",
       "    <tr style=\"text-align: right;\">\n",
       "      <th></th>\n",
       "      <th>0</th>\n",
       "      <th>1</th>\n",
       "      <th>2</th>\n",
       "      <th>3</th>\n",
       "      <th>4</th>\n",
       "      <th>5</th>\n",
       "      <th>6</th>\n",
       "    </tr>\n",
       "  </thead>\n",
       "  <tbody>\n",
       "    <tr>\n",
       "      <th>0</th>\n",
       "      <td>The Broadway Melody</td>\n",
       "      <td>War Dogs</td>\n",
       "      <td>Exam</td>\n",
       "      <td>Four Sons</td>\n",
       "      <td>It's a Gift</td>\n",
       "      <td>Jackie Brown</td>\n",
       "      <td>Exam</td>\n",
       "    </tr>\n",
       "    <tr>\n",
       "      <th>1</th>\n",
       "      <td>The Matrix</td>\n",
       "      <td>Old Dogs</td>\n",
       "      <td>It's a Gift</td>\n",
       "      <td>Justice League</td>\n",
       "      <td>Exam</td>\n",
       "      <td>Pulp Fiction</td>\n",
       "      <td>It's a Gift</td>\n",
       "    </tr>\n",
       "    <tr>\n",
       "      <th>2</th>\n",
       "      <td>1920</td>\n",
       "      <td>Snow Dogs</td>\n",
       "      <td>A Beautiful Mind</td>\n",
       "      <td>What's Eating Gilbert Grape</td>\n",
       "      <td>A Beautiful Mind</td>\n",
       "      <td>Django Unchained</td>\n",
       "      <td>A Beautiful Mind</td>\n",
       "    </tr>\n",
       "    <tr>\n",
       "      <th>3</th>\n",
       "      <td>Logan's Run</td>\n",
       "      <td>The Dogs of War</td>\n",
       "      <td>Dreams That Money Can Buy</td>\n",
       "      <td>Westworld</td>\n",
       "      <td>Dreams That Money Can Buy</td>\n",
       "      <td>Inglourious Basterds</td>\n",
       "      <td>Dreams That Money Can Buy</td>\n",
       "    </tr>\n",
       "    <tr>\n",
       "      <th>4</th>\n",
       "      <td>Cattle Queen of Montana</td>\n",
       "      <td>Cats &amp; Dogs</td>\n",
       "      <td>Snow White</td>\n",
       "      <td>Warlock</td>\n",
       "      <td>Snow White</td>\n",
       "      <td>War Dogs</td>\n",
       "      <td>Snow White</td>\n",
       "    </tr>\n",
       "    <tr>\n",
       "      <th>5</th>\n",
       "      <td>Trivisa</td>\n",
       "      <td>Hotel for Dogs</td>\n",
       "      <td>Dragonfly</td>\n",
       "      <td>A River Runs Through It</td>\n",
       "      <td>Dragonfly</td>\n",
       "      <td>My Best Friend's Birthday</td>\n",
       "      <td>Dragonfly</td>\n",
       "    </tr>\n",
       "    <tr>\n",
       "      <th>6</th>\n",
       "      <td>The Return of the Vampire</td>\n",
       "      <td>Straw Dogs</td>\n",
       "      <td>Ernest Goes to Jail</td>\n",
       "      <td>The Amazing Mr Blunden</td>\n",
       "      <td>Ernest Goes to Jail</td>\n",
       "      <td>The Dogs of War</td>\n",
       "      <td>Ernest Goes to Jail</td>\n",
       "    </tr>\n",
       "    <tr>\n",
       "      <th>7</th>\n",
       "      <td>Anchorman 2: The Legend Continues</td>\n",
       "      <td>Straw Dogs</td>\n",
       "      <td>Snow White and the Seven Dwarfs</td>\n",
       "      <td>Bright Star</td>\n",
       "      <td>Snow White and the Seven Dwarfs</td>\n",
       "      <td>Snow Dogs</td>\n",
       "      <td>Snow White and the Seven Dwarfs</td>\n",
       "    </tr>\n",
       "    <tr>\n",
       "      <th>8</th>\n",
       "      <td>Our Little Sister</td>\n",
       "      <td>Stray Dogs</td>\n",
       "      <td>DodgeBall: A True Underdog Story</td>\n",
       "      <td>Logan's Run</td>\n",
       "      <td>The Roaring Twenties</td>\n",
       "      <td>Old Dogs</td>\n",
       "      <td>The Roaring Twenties</td>\n",
       "    </tr>\n",
       "    <tr>\n",
       "      <th>9</th>\n",
       "      <td>He Who Gets Slapped</td>\n",
       "      <td>The Plague Dogs</td>\n",
       "      <td>The Roaring Twenties</td>\n",
       "      <td>Phas Gaye Re Obama</td>\n",
       "      <td>Super 8</td>\n",
       "      <td>Straw Dogs</td>\n",
       "      <td>Super 8</td>\n",
       "    </tr>\n",
       "    <tr>\n",
       "      <th>10</th>\n",
       "      <td>If It's Tuesday, This Must Be Belgium</td>\n",
       "      <td>Must Love Dogs</td>\n",
       "      <td>Super 8</td>\n",
       "      <td>Cattle Queen of Montana</td>\n",
       "      <td>The Widow From Chicago</td>\n",
       "      <td>Straw Dogs</td>\n",
       "      <td>DodgeBall: A True Underdog Story</td>\n",
       "    </tr>\n",
       "    <tr>\n",
       "      <th>11</th>\n",
       "      <td>It's a Wonderful Life</td>\n",
       "      <td>Lawn Dogs</td>\n",
       "      <td>Eagle's Wing</td>\n",
       "      <td>Sword of the Beast</td>\n",
       "      <td>DodgeBall: A True Underdog Story</td>\n",
       "      <td>Cats &amp; Dogs</td>\n",
       "      <td>Eagle's Wing</td>\n",
       "    </tr>\n",
       "    <tr>\n",
       "      <th>12</th>\n",
       "      <td>Pokémon the Movie: Diancie and the Cocoon of D...</td>\n",
       "      <td>Devil Dogs of the Air</td>\n",
       "      <td>The Widow From Chicago</td>\n",
       "      <td>Kingsman: The Secret Service</td>\n",
       "      <td>Eagle's Wing</td>\n",
       "      <td>Hotel for Dogs</td>\n",
       "      <td>The Widow From Chicago</td>\n",
       "    </tr>\n",
       "    <tr>\n",
       "      <th>13</th>\n",
       "      <td>The Sins of Rachel Cade</td>\n",
       "      <td>Sleeping Dogs Lie</td>\n",
       "      <td>Eddie and the Cruisers II: Eddie Lives!</td>\n",
       "      <td>Monkey Business</td>\n",
       "      <td>Eddie and the Cruisers II: Eddie Lives!</td>\n",
       "      <td>Lawn Dogs</td>\n",
       "      <td>Eddie and the Cruisers II: Eddie Lives!</td>\n",
       "    </tr>\n",
       "    <tr>\n",
       "      <th>14</th>\n",
       "      <td>A Bug's Life</td>\n",
       "      <td>All Dogs Go to Heaven 2</td>\n",
       "      <td>Darna Zaroori Hai</td>\n",
       "      <td>Play Girl</td>\n",
       "      <td>Snow White and the Three Stooges</td>\n",
       "      <td>Devil Dogs of the Air</td>\n",
       "      <td>Darna Zaroori Hai</td>\n",
       "    </tr>\n",
       "    <tr>\n",
       "      <th>15</th>\n",
       "      <td>Better Than Chocolate</td>\n",
       "      <td>All Dogs Go to Heaven</td>\n",
       "      <td>Wild Boys of the Road</td>\n",
       "      <td>Thank God It's Friday</td>\n",
       "      <td>Wild Boys of the Road</td>\n",
       "      <td>The Plague Dogs</td>\n",
       "      <td>Snow White and the Three Stooges</td>\n",
       "    </tr>\n",
       "    <tr>\n",
       "      <th>16</th>\n",
       "      <td>Foreign Intrigue</td>\n",
       "      <td>All Dogs Go to Heaven</td>\n",
       "      <td>Mirror Mirror</td>\n",
       "      <td>Whiskey Tango Foxtrot</td>\n",
       "      <td>Darna Zaroori Hai</td>\n",
       "      <td>Must Love Dogs</td>\n",
       "      <td>Wild Boys of the Road</td>\n",
       "    </tr>\n",
       "    <tr>\n",
       "      <th>17</th>\n",
       "      <td>White Tiger</td>\n",
       "      <td>The Truth About Cats &amp; Dogs</td>\n",
       "      <td>Snow White and the Three Stooges</td>\n",
       "      <td>The Young Messiah</td>\n",
       "      <td>My Name Is Joe</td>\n",
       "      <td>All Dogs Go to Heaven</td>\n",
       "      <td>Mirror Mirror</td>\n",
       "    </tr>\n",
       "    <tr>\n",
       "      <th>18</th>\n",
       "      <td>The Witches</td>\n",
       "      <td>Toy Story</td>\n",
       "      <td>My Name Is Joe</td>\n",
       "      <td>Jack the Bear</td>\n",
       "      <td>Mirror Mirror</td>\n",
       "      <td>Sleeping Dogs Lie</td>\n",
       "      <td>My Name Is Joe</td>\n",
       "    </tr>\n",
       "    <tr>\n",
       "      <th>19</th>\n",
       "      <td>Them!</td>\n",
       "      <td>Jumanji</td>\n",
       "      <td>Wonderland</td>\n",
       "      <td>Eli</td>\n",
       "      <td>Blonde Crazy</td>\n",
       "      <td>The Truth About Cats &amp; Dogs</td>\n",
       "      <td>Wonderland</td>\n",
       "    </tr>\n",
       "    <tr>\n",
       "      <th>20</th>\n",
       "      <td>The Black Sheep of Whitehall</td>\n",
       "      <td>Grumpier Old Men</td>\n",
       "      <td>Dazed and Confused</td>\n",
       "      <td>Last of the Red Hot Lovers</td>\n",
       "      <td>Wonderland</td>\n",
       "      <td>Stray Dogs</td>\n",
       "      <td>The Crowd Roars</td>\n",
       "    </tr>\n",
       "    <tr>\n",
       "      <th>21</th>\n",
       "      <td>Love in a Puff</td>\n",
       "      <td>Waiting to Exhale</td>\n",
       "      <td>To Grandmother's House We Go</td>\n",
       "      <td>Aitraaz</td>\n",
       "      <td>Dazed and Confused</td>\n",
       "      <td>All Dogs Go to Heaven 2</td>\n",
       "      <td>To Grandmother's House We Go</td>\n",
       "    </tr>\n",
       "    <tr>\n",
       "      <th>22</th>\n",
       "      <td>While You Were Sleeping</td>\n",
       "      <td>Father of the Bride Part II</td>\n",
       "      <td>Chicken Little</td>\n",
       "      <td>Look Who's Talking</td>\n",
       "      <td>White Fang</td>\n",
       "      <td>All Dogs Go to Heaven</td>\n",
       "      <td>Knucklehead</td>\n",
       "    </tr>\n",
       "    <tr>\n",
       "      <th>23</th>\n",
       "      <td>Point Break</td>\n",
       "      <td>Heat</td>\n",
       "      <td>The Crowd Roars</td>\n",
       "      <td>Beloved Enemy</td>\n",
       "      <td>The Great White Hope</td>\n",
       "      <td>Toy Story</td>\n",
       "      <td>Dazed and Confused</td>\n",
       "    </tr>\n",
       "    <tr>\n",
       "      <th>24</th>\n",
       "      <td>Westworld</td>\n",
       "      <td>Sabrina</td>\n",
       "      <td>Knucklehead</td>\n",
       "      <td>The Heirloom</td>\n",
       "      <td>The Crowd Roars</td>\n",
       "      <td>Jumanji</td>\n",
       "      <td>Joe Smith, American</td>\n",
       "    </tr>\n",
       "    <tr>\n",
       "      <th>25</th>\n",
       "      <td>The Emperor's Club</td>\n",
       "      <td>Tom and Huck</td>\n",
       "      <td>Chasers</td>\n",
       "      <td>The 39 Steps</td>\n",
       "      <td>To Grandmother's House We Go</td>\n",
       "      <td>Grumpier Old Men</td>\n",
       "      <td>The Incident</td>\n",
       "    </tr>\n",
       "    <tr>\n",
       "      <th>26</th>\n",
       "      <td>Rings</td>\n",
       "      <td>Sudden Death</td>\n",
       "      <td>Going in Style</td>\n",
       "      <td>Arizona Dream</td>\n",
       "      <td>The Incident</td>\n",
       "      <td>Waiting to Exhale</td>\n",
       "      <td>Chasers</td>\n",
       "    </tr>\n",
       "    <tr>\n",
       "      <th>27</th>\n",
       "      <td>Ek Hasina Thi</td>\n",
       "      <td>GoldenEye</td>\n",
       "      <td>The Incident</td>\n",
       "      <td>Poltergeist</td>\n",
       "      <td>Joe Smith, American</td>\n",
       "      <td>Father of the Bride Part II</td>\n",
       "      <td>White Fang</td>\n",
       "    </tr>\n",
       "    <tr>\n",
       "      <th>28</th>\n",
       "      <td>Mississippi Burning</td>\n",
       "      <td>The American President</td>\n",
       "      <td>Joe Smith, American</td>\n",
       "      <td>Comanche Station</td>\n",
       "      <td>White Fang 2: Myth of the White Wolf</td>\n",
       "      <td>Heat</td>\n",
       "      <td>Going in Style</td>\n",
       "    </tr>\n",
       "    <tr>\n",
       "      <th>29</th>\n",
       "      <td>The City of the Dead</td>\n",
       "      <td>Dracula: Dead and Loving It</td>\n",
       "      <td>White Fang</td>\n",
       "      <td>Hollow</td>\n",
       "      <td>Knucklehead</td>\n",
       "      <td>Sabrina</td>\n",
       "      <td>Night of the Ghouls</td>\n",
       "    </tr>\n",
       "  </tbody>\n",
       "</table>\n",
       "</div>"
      ],
      "text/plain": [
       "                                                    0  \\\n",
       "0                                 The Broadway Melody   \n",
       "1                                          The Matrix   \n",
       "2                                                1920   \n",
       "3                                         Logan's Run   \n",
       "4                             Cattle Queen of Montana   \n",
       "5                                             Trivisa   \n",
       "6                           The Return of the Vampire   \n",
       "7                   Anchorman 2: The Legend Continues   \n",
       "8                                   Our Little Sister   \n",
       "9                                 He Who Gets Slapped   \n",
       "10              If It's Tuesday, This Must Be Belgium   \n",
       "11                              It's a Wonderful Life   \n",
       "12  Pokémon the Movie: Diancie and the Cocoon of D...   \n",
       "13                            The Sins of Rachel Cade   \n",
       "14                                       A Bug's Life   \n",
       "15                              Better Than Chocolate   \n",
       "16                                   Foreign Intrigue   \n",
       "17                                        White Tiger   \n",
       "18                                        The Witches   \n",
       "19                                              Them!   \n",
       "20                       The Black Sheep of Whitehall   \n",
       "21                                     Love in a Puff   \n",
       "22                            While You Were Sleeping   \n",
       "23                                        Point Break   \n",
       "24                                          Westworld   \n",
       "25                                 The Emperor's Club   \n",
       "26                                              Rings   \n",
       "27                                      Ek Hasina Thi   \n",
       "28                                Mississippi Burning   \n",
       "29                               The City of the Dead   \n",
       "\n",
       "                              1                                        2  \\\n",
       "0                      War Dogs                                     Exam   \n",
       "1                      Old Dogs                              It's a Gift   \n",
       "2                     Snow Dogs                         A Beautiful Mind   \n",
       "3               The Dogs of War                Dreams That Money Can Buy   \n",
       "4                   Cats & Dogs                               Snow White   \n",
       "5                Hotel for Dogs                                Dragonfly   \n",
       "6                    Straw Dogs                      Ernest Goes to Jail   \n",
       "7                    Straw Dogs          Snow White and the Seven Dwarfs   \n",
       "8                    Stray Dogs         DodgeBall: A True Underdog Story   \n",
       "9               The Plague Dogs                     The Roaring Twenties   \n",
       "10               Must Love Dogs                                  Super 8   \n",
       "11                    Lawn Dogs                             Eagle's Wing   \n",
       "12        Devil Dogs of the Air                   The Widow From Chicago   \n",
       "13            Sleeping Dogs Lie  Eddie and the Cruisers II: Eddie Lives!   \n",
       "14      All Dogs Go to Heaven 2                        Darna Zaroori Hai   \n",
       "15        All Dogs Go to Heaven                    Wild Boys of the Road   \n",
       "16        All Dogs Go to Heaven                            Mirror Mirror   \n",
       "17  The Truth About Cats & Dogs         Snow White and the Three Stooges   \n",
       "18                    Toy Story                           My Name Is Joe   \n",
       "19                      Jumanji                               Wonderland   \n",
       "20             Grumpier Old Men                       Dazed and Confused   \n",
       "21            Waiting to Exhale             To Grandmother's House We Go   \n",
       "22  Father of the Bride Part II                           Chicken Little   \n",
       "23                         Heat                          The Crowd Roars   \n",
       "24                      Sabrina                              Knucklehead   \n",
       "25                 Tom and Huck                                  Chasers   \n",
       "26                 Sudden Death                           Going in Style   \n",
       "27                    GoldenEye                             The Incident   \n",
       "28       The American President                      Joe Smith, American   \n",
       "29  Dracula: Dead and Loving It                               White Fang   \n",
       "\n",
       "                               3                                        4  \\\n",
       "0                      Four Sons                              It's a Gift   \n",
       "1                 Justice League                                     Exam   \n",
       "2    What's Eating Gilbert Grape                         A Beautiful Mind   \n",
       "3                      Westworld                Dreams That Money Can Buy   \n",
       "4                        Warlock                               Snow White   \n",
       "5        A River Runs Through It                                Dragonfly   \n",
       "6         The Amazing Mr Blunden                      Ernest Goes to Jail   \n",
       "7                    Bright Star          Snow White and the Seven Dwarfs   \n",
       "8                    Logan's Run                     The Roaring Twenties   \n",
       "9             Phas Gaye Re Obama                                  Super 8   \n",
       "10       Cattle Queen of Montana                   The Widow From Chicago   \n",
       "11            Sword of the Beast         DodgeBall: A True Underdog Story   \n",
       "12  Kingsman: The Secret Service                             Eagle's Wing   \n",
       "13               Monkey Business  Eddie and the Cruisers II: Eddie Lives!   \n",
       "14                     Play Girl         Snow White and the Three Stooges   \n",
       "15         Thank God It's Friday                    Wild Boys of the Road   \n",
       "16         Whiskey Tango Foxtrot                        Darna Zaroori Hai   \n",
       "17             The Young Messiah                           My Name Is Joe   \n",
       "18                 Jack the Bear                            Mirror Mirror   \n",
       "19                           Eli                             Blonde Crazy   \n",
       "20    Last of the Red Hot Lovers                               Wonderland   \n",
       "21                       Aitraaz                       Dazed and Confused   \n",
       "22            Look Who's Talking                               White Fang   \n",
       "23                 Beloved Enemy                     The Great White Hope   \n",
       "24                  The Heirloom                          The Crowd Roars   \n",
       "25                  The 39 Steps             To Grandmother's House We Go   \n",
       "26                 Arizona Dream                             The Incident   \n",
       "27                   Poltergeist                      Joe Smith, American   \n",
       "28              Comanche Station     White Fang 2: Myth of the White Wolf   \n",
       "29                        Hollow                              Knucklehead   \n",
       "\n",
       "                              5                                        6  \n",
       "0                  Jackie Brown                                     Exam  \n",
       "1                  Pulp Fiction                              It's a Gift  \n",
       "2              Django Unchained                         A Beautiful Mind  \n",
       "3          Inglourious Basterds                Dreams That Money Can Buy  \n",
       "4                      War Dogs                               Snow White  \n",
       "5     My Best Friend's Birthday                                Dragonfly  \n",
       "6               The Dogs of War                      Ernest Goes to Jail  \n",
       "7                     Snow Dogs          Snow White and the Seven Dwarfs  \n",
       "8                      Old Dogs                     The Roaring Twenties  \n",
       "9                    Straw Dogs                                  Super 8  \n",
       "10                   Straw Dogs         DodgeBall: A True Underdog Story  \n",
       "11                  Cats & Dogs                             Eagle's Wing  \n",
       "12               Hotel for Dogs                   The Widow From Chicago  \n",
       "13                    Lawn Dogs  Eddie and the Cruisers II: Eddie Lives!  \n",
       "14        Devil Dogs of the Air                        Darna Zaroori Hai  \n",
       "15              The Plague Dogs         Snow White and the Three Stooges  \n",
       "16               Must Love Dogs                    Wild Boys of the Road  \n",
       "17        All Dogs Go to Heaven                            Mirror Mirror  \n",
       "18            Sleeping Dogs Lie                           My Name Is Joe  \n",
       "19  The Truth About Cats & Dogs                               Wonderland  \n",
       "20                   Stray Dogs                          The Crowd Roars  \n",
       "21      All Dogs Go to Heaven 2             To Grandmother's House We Go  \n",
       "22        All Dogs Go to Heaven                              Knucklehead  \n",
       "23                    Toy Story                       Dazed and Confused  \n",
       "24                      Jumanji                      Joe Smith, American  \n",
       "25             Grumpier Old Men                             The Incident  \n",
       "26            Waiting to Exhale                                  Chasers  \n",
       "27  Father of the Bride Part II                               White Fang  \n",
       "28                         Heat                           Going in Style  \n",
       "29                      Sabrina                      Night of the Ghouls  "
      ]
     },
     "execution_count": 229,
     "metadata": {},
     "output_type": "execute_result"
    }
   ],
   "source": [
    "recom_plot = get_recommendations(title, data,cosine_sim)\n",
    "recom_over = get_recommendations(title, data2,cosine_simov)\n",
    "recom_title = get_recommendations(title, data,cosine_simtit)\n",
    "recom_ttop = get_recommendations(title, data,cosine_simttop)\n",
    "recom_tto = get_recommendations(title, data,cosine_simtto)\n",
    "recom_TDC = get_recommendations(title, data,cosine_simTDC)\n",
    "recom_TDCP = get_recommendations(title, data,cosine_simTDCP)\n",
    "\n",
    "\n",
    "recommendations_df = pd.concat([ recom_over.reset_index(drop=True), recom_title.reset_index(drop=True), recom_plot.reset_index(drop=True), recom_tto.reset_index(drop=True), recom_ttop.reset_index(drop=True) , recom_TDC.reset_index(drop=True), recom_TDCP.reset_index(drop=True)], axis=1, ignore_index=True)\n",
    "recommendations_df.head(50)"
   ]
  },
  {
   "cell_type": "code",
   "execution_count": null,
   "id": "581bcb6e",
   "metadata": {},
   "outputs": [],
   "source": []
  },
  {
   "cell_type": "code",
   "execution_count": null,
   "id": "1a4e5a7a",
   "metadata": {},
   "outputs": [],
   "source": []
  },
  {
   "cell_type": "code",
   "execution_count": 166,
   "id": "4dba963c",
   "metadata": {},
   "outputs": [],
   "source": [
    "# def tf(document):\n",
    "#     doc_tokens = create_lemmas_list(document)\n",
    "#     freq_dist = nltk.FreqDist(doc_tokens)\n",
    "    \n",
    "#     # FreqDist return the dictionary sorted in descending order.\n",
    "#     # I did not find this explicitly in the docs, so I find the max freq in the document\n",
    "#     max_freq = sorted( list(freq_dist.values()), reverse=True )[0]\n",
    "    \n",
    "#     tfs = {token:freq/max_freq for (token, freq) in freq_dist.items() }\n",
    "#     return tfs"
   ]
  },
  {
   "cell_type": "code",
   "execution_count": null,
   "id": "f73a733e",
   "metadata": {},
   "outputs": [],
   "source": []
  },
  {
   "cell_type": "code",
   "execution_count": null,
   "id": "3110d650",
   "metadata": {},
   "outputs": [],
   "source": []
  },
  {
   "cell_type": "code",
   "execution_count": 97,
   "id": "ffb117ec",
   "metadata": {},
   "outputs": [],
   "source": [
    "# from tqdm.notebook import tqdm\n",
    "\n",
    "# def df(data_frame):\n",
    "#     df_dict = {}\n",
    "#     for i in tqdm(range(len(data_frame))):\n",
    "#         for token in set(data_frame.iloc[i].Tokens):\n",
    "#             for j in range(len(data_frame)):\n",
    "#                 document = set(data_frame.iloc[j].Tokens)\n",
    "#                 if token in document:\n",
    "#                     df_dict[token] = df_dict.get(token,[j]) + [j]\n",
    "#     return df_dict"
   ]
  },
  {
   "cell_type": "code",
   "execution_count": null,
   "id": "ba2351f5",
   "metadata": {},
   "outputs": [],
   "source": [
    "# df(movie_plots_tokens_df)"
   ]
  },
  {
   "cell_type": "code",
   "execution_count": null,
   "id": "5c8b6bb8",
   "metadata": {},
   "outputs": [],
   "source": []
  }
 ],
 "metadata": {
  "kernelspec": {
   "display_name": "Python 3.9.12 ('base')",
   "language": "python",
   "name": "python3"
  },
  "language_info": {
   "codemirror_mode": {
    "name": "ipython",
    "version": 3
   },
   "file_extension": ".py",
   "mimetype": "text/x-python",
   "name": "python",
   "nbconvert_exporter": "python",
   "pygments_lexer": "ipython3",
   "version": "3.9.12"
  },
  "vscode": {
   "interpreter": {
    "hash": "8e9fcdd326985273b9d601f564b5915634929453f0c85f6755799fca7860e048"
   }
  }
 },
 "nbformat": 4,
 "nbformat_minor": 5
}
