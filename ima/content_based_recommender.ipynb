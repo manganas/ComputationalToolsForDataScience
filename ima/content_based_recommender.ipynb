{
 "cells": [
  {
   "cell_type": "markdown",
   "id": "9e666416",
   "metadata": {},
   "source": [
    "## Content based recommendation system"
   ]
  },
  {
   "cell_type": "markdown",
   "id": "d9b7c01e",
   "metadata": {},
   "source": [
    "Content based recommender systems do not make use of data from other users to recommend a movie. Instead, they utilize a descriptive set of attributes such as keywords or the summary of a movie. The disadvantage is that these systems will recommend the same movie to the user, based on the input. However, they could be useful in recommending a movie that not many people have seen or rated.  \n",
    "\n",
    "In the content based recommendation system it is only the user that plays a role in the recommendation. This method can also be combined with collaborative filtering methods."
   ]
  },
  {
   "cell_type": "markdown",
   "id": "588f79c2",
   "metadata": {},
   "source": [
    "In this notebook, the text content of the movies from the `merged` dataset is going to be alalyzed. The goal is to rank all the movies in the dataset based on a similarity measure with the input movie. For similarity measures, the cosine similarity will be used. Moreover, the content comes from the movies plots and possibly also the keywords. In order to remove the most common words, TF-IDF is used. Finally, the input to the TF-IDF algorithm will be the lemmatized text from each movie's content."
   ]
  },
  {
   "cell_type": "code",
   "execution_count": 1,
   "id": "42f313e0",
   "metadata": {},
   "outputs": [],
   "source": [
    "# Common libraries imports\n",
    "import pandas as pd"
   ]
  },
  {
   "cell_type": "code",
   "execution_count": 2,
   "id": "bcfa3752",
   "metadata": {},
   "outputs": [
    {
     "name": "stderr",
     "output_type": "stream",
     "text": [
      "[nltk_data] Downloading package punkt to\n",
      "[nltk_data]     C:\\Users\\user\\AppData\\Roaming\\nltk_data...\n",
      "[nltk_data]   Package punkt is already up-to-date!\n",
      "[nltk_data] Downloading package wordnet to\n",
      "[nltk_data]     C:\\Users\\user\\AppData\\Roaming\\nltk_data...\n",
      "[nltk_data]   Package wordnet is already up-to-date!\n",
      "[nltk_data] Downloading package omw-1.4 to\n",
      "[nltk_data]     C:\\Users\\user\\AppData\\Roaming\\nltk_data...\n",
      "[nltk_data]   Package omw-1.4 is already up-to-date!\n"
     ]
    },
    {
     "data": {
      "text/plain": [
       "True"
      ]
     },
     "execution_count": 2,
     "metadata": {},
     "output_type": "execute_result"
    }
   ],
   "source": [
    "# Not as common libraries imports and installation. \n",
    "# !python3 -m pip install nltk ## For linux and not environment\n",
    "# !pip install nltk\n",
    "import nltk\n",
    "nltk.download('punkt')\n",
    "nltk.download('wordnet')\n",
    "nltk.download('omw-1.4')"
   ]
  },
  {
   "cell_type": "markdown",
   "id": "b0efc584",
   "metadata": {},
   "source": [
    "Since it is a good idea to remove stop words from tf idf calculations, as stated also in [Chapter 1.3.1 MMDS](http://mmds.org/), a list of English stop words is created:"
   ]
  },
  {
   "cell_type": "code",
   "execution_count": 3,
   "id": "324eefda",
   "metadata": {},
   "outputs": [],
   "source": [
    "from nltk.corpus import stopwords\n",
    "stop_words = stopwords.words('english')"
   ]
  },
  {
   "cell_type": "markdown",
   "id": "26758cf7",
   "metadata": {},
   "source": [
    "Read the `merged` dataset, or its 'cleaned' version, that has duplicates removed"
   ]
  },
  {
   "cell_type": "code",
   "execution_count": 4,
   "id": "4cf4027d",
   "metadata": {},
   "outputs": [],
   "source": [
    "# a = data.sort_values('Release Year', ascending=False).drop_duplicates(subset=['Title', 'Release Year'], keep='last')\n",
    "# a.loc[a.Title=='The Mask']['release_date']"
   ]
  },
  {
   "cell_type": "code",
   "execution_count": 5,
   "id": "ade68f68",
   "metadata": {},
   "outputs": [],
   "source": [
    "data = pd.read_csv('../Data/data_cleaned.csv')"
   ]
  },
  {
   "cell_type": "code",
   "execution_count": 6,
   "id": "ab59590e",
   "metadata": {},
   "outputs": [],
   "source": [
    "def print_info(index):\n",
    "    '''\n",
    "    Helper function used for an initial overview of the dataset\n",
    "    '''\n",
    "    print(f\"Title:\\n{data.iloc[index]['Title']}\\n\")\n",
    "    print(f\"Release Year:\\n{data.iloc[index]['Release Year']}\\n\")\n",
    "    print(f\"Link:\\n{data.iloc[index]['Wiki Page']}\\n\")\n",
    "    print(f\"Tagline:\\n{data.iloc[index]['tagline']}\\n\")\n",
    "    print(f\"Overview:\\n{data.iloc[index]['overview']}\\n\")\n",
    "    print(f\"Summary:\\n{data.iloc[index]['Plot']}\\n\")"
   ]
  },
  {
   "cell_type": "markdown",
   "id": "ff7cee69",
   "metadata": {},
   "source": [
    "As an example, use `print_info` for a random movie:"
   ]
  },
  {
   "cell_type": "code",
   "execution_count": 7,
   "id": "723fc500",
   "metadata": {},
   "outputs": [
    {
     "name": "stdout",
     "output_type": "stream",
     "text": [
      "Title:\n",
      "Me and the Colonel\n",
      "\n",
      "Release Year:\n",
      "1958\n",
      "\n",
      "Link:\n",
      "https://en.wikipedia.org/wiki/Me_and_the_Colonel\n",
      "\n",
      "Tagline:\n",
      "nan\n",
      "\n",
      "Overview:\n",
      "Jacobowsky, a Jewish refugee, flees from the Nazis with an aristocratic, anti-semitic Polish officer trying to get papers to England. Jurgens learns to appreciate Jacobowsky, despite their competition for the same woman, and together they outwit their pursuers\n",
      "\n",
      "Summary:\n",
      "In Paris during the World War II invasion of France by Nazi Germany, Jewish refugee S. L. Jacobowsky (Danny Kaye) seeks to leave the country before it falls. Meanwhile, Polish diplomat Dr. Szicki (Ludwig Stössel) gives antisemitic, autocratic Polish Colonel Prokoszny (Curt Jürgens) secret information that must be delivered to London by a certain date.\r\n",
      "The resourceful Jacobowsky, who has had to flee from the Nazis several times previously, manages to \"buy\" an automobile from the absent Baron Rothschild's chauffeur. Prokoszny peremptorily requisitions the car, but finds he must accept an unwelcome passenger when he discovers that Jacobowsky has had the foresight to secure gasoline. The ill-matched pair (coincidentally from the same village in Poland) and the colonel's orderly, Szabuniewicz (Akim Tamiroff), drive away.\r\n",
      "Jacobowsky is dismayed when the colonel first heads to Reims in the direction of the advancing German army to pick up his girlfriend, Suzanne Roualet (Nicole Maurey), a French innkeeper's daughter. Prior to their arrival, Suzanne attracts the unwanted admiration of German Major Von Bergen (Alexander Scourby), but he is called away before he can become better acquainted with her.\r\n",
      "As they flee south, Jacobowsky begins to fall in love with Suzanne. At one stop, Jacobowsky manages to find the group magnificent lodgings at a chateau by telling its proud royalist owner that unoccupied France is to become a monarchy headed by the colonel. A drunk Prokoszny challenges Jacobowsky to a duel, but Jacobowsky manages to defuse the situation. When the Germans, under Von Bergen, occupy the chateau, the foursome barely get away.\r\n",
      "They are chased by Von Bergen, but the assistance of a sympathetic Mother Superior (Martita Hunt) enables them to shake off their pursuers and reach a prearranged rendezvous with a British submarine. There, however, the submarine's commander informs them that there is only room for two. Suzanne makes the colonel and Jacobowsky go, while she remains behind to fight the invaders in her own way.\n",
      "\n"
     ]
    }
   ],
   "source": [
    "print_info(12456)"
   ]
  },
  {
   "cell_type": "markdown",
   "id": "413cec1f",
   "metadata": {},
   "source": [
    "Which text should we use as content? We can use `tagline` as an alternative title, `overview` which is a sentence that summarizes the movie and `Plot`, the summary of the movie. The latter is in general a longer text. We can use either the latter or for each movie create a txt document that contains the desired text.  \n",
    "\n",
    "In the following, as a prototype, I am only using the `Plot`."
   ]
  },
  {
   "cell_type": "markdown",
   "id": "c93bf337",
   "metadata": {},
   "source": [
    "There are 2 ways to normalize text:Stemming and Lemmatization. The difference can be found [here](https://www.guru99.com/stemming-lemmatization-python-nltk.html). In the following I am using Lemmatization.  \n",
    "\n",
    "The procedure is as follows. Lemmatize each movie's text content, get the frequency for each movie's lemmas and then use TF-IDF. To this end, I create a dataframe to store, the movie title, the relase year and the lemmas as list of words for each movie."
   ]
  },
  {
   "cell_type": "code",
   "execution_count": 8,
   "id": "b19b865c",
   "metadata": {},
   "outputs": [],
   "source": [
    "from nltk.stem import WordNetLemmatizer\n",
    "from nltk.corpus import wordnet\n",
    "from nltk.tokenize import RegexpTokenizer"
   ]
  },
  {
   "cell_type": "code",
   "execution_count": 9,
   "id": "8aaab3d8",
   "metadata": {},
   "outputs": [],
   "source": [
    "tokenizer = RegexpTokenizer(r'\\w+') # Remove punctuation\n",
    "wordnet_lemmatizer = WordNetLemmatizer() # Create lemmatizer\n",
    "\n",
    "# text = \"studies studying cries cry\"\n",
    "# tokenization = nltk.word_tokenize(text)\n",
    "# for w in tokenization:\n",
    "#     print(\"Lemma for {} is {}\".format(w, wordnet_lemmatizer.lemmatize(w)))  "
   ]
  },
  {
   "cell_type": "code",
   "execution_count": 10,
   "id": "2ad947de",
   "metadata": {},
   "outputs": [],
   "source": [
    "def create_lemmas_list(content_txt):\n",
    "    lemmas = []    \n",
    "    tokenization = tokenizer.tokenize(content_txt.lower()) # Lowercase the whole text, to avoid dealing with case\n",
    "    for w in tokenization:\n",
    "        # Do not consider single characters. Can be resolved via tf-idf,\n",
    "        # but maybe there are single characters due to wrong line breaks.\n",
    "        if w in stop_words:\n",
    "            continue\n",
    "        lemmas.append(wordnet_lemmatizer.lemmatize(w, wordnet.VERB))\n",
    "    \n",
    "    return lemmas"
   ]
  },
  {
   "cell_type": "markdown",
   "id": "1dff73f2",
   "metadata": {},
   "source": [
    "Test this:"
   ]
  },
  {
   "cell_type": "code",
   "execution_count": 11,
   "id": "34023b49",
   "metadata": {},
   "outputs": [],
   "source": [
    "txt = data.iloc[459].Plot\n",
    "a = create_lemmas_list(txt)"
   ]
  },
  {
   "cell_type": "code",
   "execution_count": 12,
   "id": "bb416007",
   "metadata": {},
   "outputs": [
    {
     "data": {
      "text/plain": [
       "Index(['Unnamed: 0.1', 'Unnamed: 0', 'adult', 'belongs_to_collection',\n",
       "       'budget', 'genres', 'homepage', 'id', 'imdb_id', 'original_language',\n",
       "       'original_title', 'overview', 'popularity', 'poster_path',\n",
       "       'production_companies', 'production_countries', 'release_date',\n",
       "       'revenue', 'runtime', 'spoken_languages', 'status', 'tagline', 'title',\n",
       "       'video', 'vote_average', 'vote_count', 'Release Year', 'Title',\n",
       "       'Origin/Ethnicity', 'Director', 'Cast', 'Genre', 'Wiki Page', 'Plot'],\n",
       "      dtype='object')"
      ]
     },
     "execution_count": 12,
     "metadata": {},
     "output_type": "execute_result"
    }
   ],
   "source": [
    "data.columns"
   ]
  },
  {
   "cell_type": "code",
   "execution_count": 13,
   "id": "8f5d8101",
   "metadata": {},
   "outputs": [],
   "source": [
    "# Create a df to hold the movies and the tokenized text\n",
    "movie_plots_tokens_df = data[['Title', \"Plot\"]]"
   ]
  },
  {
   "cell_type": "code",
   "execution_count": 14,
   "id": "a3116514",
   "metadata": {},
   "outputs": [],
   "source": [
    "def tokenize(text):\n",
    "    tokenization = tokenizer.tokenize(text.lower())\n",
    "    tokens = [ wordnet_lemmatizer.lemmatize(token, wordnet.VERB) for token in tokenization if token not in stop_words and token.isalpha() ]\n",
    "    return tokens"
   ]
  },
  {
   "cell_type": "code",
   "execution_count": 15,
   "id": "0818c906",
   "metadata": {},
   "outputs": [
    {
     "name": "stderr",
     "output_type": "stream",
     "text": [
      "C:\\Users\\user\\AppData\\Local\\Temp2\\ipykernel_9880\\863147497.py:1: SettingWithCopyWarning: \n",
      "A value is trying to be set on a copy of a slice from a DataFrame.\n",
      "Try using .loc[row_indexer,col_indexer] = value instead\n",
      "\n",
      "See the caveats in the documentation: https://pandas.pydata.org/pandas-docs/stable/user_guide/indexing.html#returning-a-view-versus-a-copy\n",
      "  movie_plots_tokens_df['Tokens'] = movie_plots_tokens_df['Plot'].apply(tokenize)\n"
     ]
    }
   ],
   "source": [
    "movie_plots_tokens_df['Tokens'] = movie_plots_tokens_df['Plot'].apply(tokenize)"
   ]
  },
  {
   "cell_type": "code",
   "execution_count": 16,
   "id": "961f2c88",
   "metadata": {},
   "outputs": [
    {
     "data": {
      "text/plain": [
       "0        [four, friends, jess, scarlett, johansson, ali...\n",
       "1        [bhairava, kala, bhairava, telugu, version, vi...\n",
       "2        [present, day, paris, diana, receive, photogra...\n",
       "3        [du, qiu, chinese, lawyer, defeat, many, legal...\n",
       "4        [feral, puppy, name, toby, whisk, away, dog, p...\n",
       "                               ...                        \n",
       "16224    [rarebit, fiend, gorge, welsh, rarebit, restau...\n",
       "16225    [scenes, introduce, use, line, poem, santa, cl...\n",
       "16226    [film, open, two, bandits, break, railroad, te...\n",
       "16227    [alice, follow, large, white, rabbit, rabbit, ...\n",
       "16228    [earliest, know, adaptation, classic, fairytal...\n",
       "Name: Tokens, Length: 16229, dtype: object"
      ]
     },
     "execution_count": 16,
     "metadata": {},
     "output_type": "execute_result"
    }
   ],
   "source": [
    "movie_plots_tokens_df.Tokens"
   ]
  },
  {
   "cell_type": "code",
   "execution_count": null,
   "id": "d09d2116",
   "metadata": {},
   "outputs": [],
   "source": []
  },
  {
   "cell_type": "code",
   "execution_count": null,
   "id": "281fad53",
   "metadata": {},
   "outputs": [],
   "source": []
  },
  {
   "cell_type": "code",
   "execution_count": null,
   "id": "7bcc202f",
   "metadata": {},
   "outputs": [],
   "source": []
  },
  {
   "cell_type": "code",
   "execution_count": null,
   "id": "9c3ee8eb",
   "metadata": {},
   "outputs": [],
   "source": []
  },
  {
   "cell_type": "code",
   "execution_count": 17,
   "id": "7a3237a9",
   "metadata": {},
   "outputs": [],
   "source": [
    "from sklearn.feature_extraction.text import TfidfVectorizer\n",
    "from sklearn.metrics.pairwise import linear_kernel, cosine_similarity"
   ]
  },
  {
   "cell_type": "code",
   "execution_count": 18,
   "id": "cfebff55",
   "metadata": {},
   "outputs": [],
   "source": [
    "tf = TfidfVectorizer().fit_transform(data.Plot)"
   ]
  },
  {
   "cell_type": "code",
   "execution_count": 19,
   "id": "a5af77ba",
   "metadata": {},
   "outputs": [],
   "source": [
    "tfov = TfidfVectorizer().fit_transform(data.overview.dropna())\n",
    "tftit = TfidfVectorizer().fit_transform(data.Title)"
   ]
  },
  {
   "cell_type": "code",
   "execution_count": 20,
   "id": "f5df1e0f",
   "metadata": {},
   "outputs": [
    {
     "data": {
      "text/plain": [
       "(16229, 96675)"
      ]
     },
     "execution_count": 20,
     "metadata": {},
     "output_type": "execute_result"
    }
   ],
   "source": [
    "tf.shape"
   ]
  },
  {
   "cell_type": "code",
   "execution_count": 21,
   "id": "6246be48",
   "metadata": {},
   "outputs": [
    {
     "name": "stdout",
     "output_type": "stream",
     "text": [
      "  (0, 74013)\t0.034568082220997325\n",
      "  (0, 81454)\t0.033435595582795144\n",
      "  (0, 74364)\t0.013308550019604754\n",
      "  (0, 56348)\t0.027812437746473205\n",
      "  (0, 85863)\t0.010609621262672965\n",
      "  (0, 23956)\t0.012365860880066592\n",
      "  (0, 62884)\t0.03167092009260365\n",
      "  (0, 63510)\t0.08195537174637643\n",
      "  (0, 66547)\t0.029613003944778026\n",
      "  (0, 26362)\t0.023030368265445144\n",
      "  (0, 79961)\t0.017174055255996797\n",
      "  (0, 50625)\t0.0178905632788683\n",
      "  (0, 4689)\t0.01605887389499494\n",
      "  (0, 27796)\t0.01699276967933318\n",
      "  (0, 59685)\t0.010781347398769838\n",
      "  (0, 25522)\t0.016948493465067747\n",
      "  (0, 19796)\t0.020830729689209574\n",
      "  (0, 66410)\t0.020413866647601107\n",
      "  (0, 70779)\t0.04823092433632978\n",
      "  (0, 57092)\t0.011195283635910717\n",
      "  (0, 52141)\t0.011381525510227022\n",
      "  (0, 38311)\t0.022827290520951254\n",
      "  (0, 34305)\t0.013993858233721575\n",
      "  (0, 71337)\t0.02292776048399439\n",
      "  (0, 93267)\t0.012912602503844883\n",
      "  :\t:\n",
      "  (16228, 90218)\t0.02484857428075115\n",
      "  (16228, 53856)\t0.056155437364953466\n",
      "  (16228, 25207)\t0.06988218907834902\n",
      "  (16228, 13689)\t0.032924271705393984\n",
      "  (16228, 93474)\t0.03898846535620248\n",
      "  (16228, 8549)\t0.030636927452897804\n",
      "  (16228, 85808)\t0.026534851705332745\n",
      "  (16228, 38890)\t0.061572977824010534\n",
      "  (16228, 39034)\t0.036115595152979386\n",
      "  (16228, 37883)\t0.11232240076581142\n",
      "  (16228, 93516)\t0.04403948824847302\n",
      "  (16228, 85818)\t0.02835999872327086\n",
      "  (16228, 37565)\t0.021406849658275988\n",
      "  (16228, 93679)\t0.03948636337251892\n",
      "  (16228, 86003)\t0.06300753178531032\n",
      "  (16228, 13177)\t0.019200885873019404\n",
      "  (16228, 85774)\t0.2298036392139879\n",
      "  (16228, 85753)\t0.019204489812044107\n",
      "  (16228, 33946)\t0.03416680160659864\n",
      "  (16228, 86701)\t0.06629242129041227\n",
      "  (16228, 42932)\t0.06871493420798531\n",
      "  (16228, 5609)\t0.059270550004258064\n",
      "  (16228, 61003)\t0.05070362412000487\n",
      "  (16228, 4064)\t0.0497990502097035\n",
      "  (16228, 41365)\t0.03396961195690101\n"
     ]
    }
   ],
   "source": [
    "print(tf)"
   ]
  },
  {
   "cell_type": "code",
   "execution_count": 22,
   "id": "25c7e3e6",
   "metadata": {},
   "outputs": [
    {
     "data": {
      "text/plain": [
       "0.034568082220997325"
      ]
     },
     "execution_count": 22,
     "metadata": {},
     "output_type": "execute_result"
    }
   ],
   "source": [
    "tf[0,74013]"
   ]
  },
  {
   "cell_type": "code",
   "execution_count": 23,
   "id": "eb2c922c",
   "metadata": {},
   "outputs": [],
   "source": [
    "cosine_sim = linear_kernel(tf, tf)"
   ]
  },
  {
   "cell_type": "code",
   "execution_count": 24,
   "id": "1cb0b0c4",
   "metadata": {},
   "outputs": [],
   "source": [
    "cosine_simtit = linear_kernel(tftit, tftit)\n",
    "cosine_simov = linear_kernel(tfov, tfov)"
   ]
  },
  {
   "cell_type": "code",
   "execution_count": 59,
   "id": "70ee04d3",
   "metadata": {},
   "outputs": [],
   "source": [
    "data2  = data.copy()"
   ]
  },
  {
   "cell_type": "code",
   "execution_count": 77,
   "id": "66552f6c",
   "metadata": {},
   "outputs": [
    {
     "data": {
      "text/plain": [
       "Index(['Unnamed: 0.1', 'Unnamed: 0', 'adult', 'belongs_to_collection',\n",
       "       'budget', 'genres', 'homepage', 'id', 'imdb_id', 'original_language',\n",
       "       'original_title', 'overview', 'popularity', 'poster_path',\n",
       "       'production_companies', 'production_countries', 'release_date',\n",
       "       'revenue', 'runtime', 'spoken_languages', 'status', 'tagline', 'title',\n",
       "       'video', 'vote_average', 'vote_count', 'Release Year', 'Title',\n",
       "       'Origin/Ethnicity', 'Director', 'Cast', 'Genre', 'Wiki Page', 'Plot'],\n",
       "      dtype='object')"
      ]
     },
     "execution_count": 77,
     "metadata": {},
     "output_type": "execute_result"
    }
   ],
   "source": [
    "data.columns"
   ]
  },
  {
   "cell_type": "code",
   "execution_count": 60,
   "id": "b822937f",
   "metadata": {},
   "outputs": [],
   "source": [
    "\n",
    "\n",
    "smd = data2.reset_index()\n",
    "titles = smd['Title']\n",
    "indices = pd.Series(smd.index, index=smd['Title'])\n",
    "\n"
   ]
  },
  {
   "cell_type": "code",
   "execution_count": 61,
   "id": "7a64a55d",
   "metadata": {},
   "outputs": [],
   "source": [
    "\n",
    "\n",
    "def get_recommendations(title):\n",
    "    idx = indices[title]\n",
    "    sim_scores = list(enumerate(cosine_sim[idx]))\n",
    "    sim_scores = sorted(sim_scores, key=lambda x: x[1], reverse=True)\n",
    "    sim_scores = sim_scores[1:31]\n",
    "    movie_indices = [i[0] for i in sim_scores]\n",
    "    return titles.iloc[movie_indices]\n",
    "\n"
   ]
  },
  {
   "cell_type": "code",
   "execution_count": 67,
   "id": "ca714ad7",
   "metadata": {},
   "outputs": [
    {
     "data": {
      "text/plain": [
       "0                       Rough Night\n",
       "1                          Bairavaa\n",
       "2                      Wonder Woman\n",
       "3                           Manhunt\n",
       "4                   A Dog's Purpose\n",
       "                    ...            \n",
       "16224      Dream of a Rarebit Fiend\n",
       "16225    The Night Before Christmas\n",
       "16226       The Great Train Robbery\n",
       "16227           Alice in Wonderland\n",
       "16228        Jack and the Beanstalk\n",
       "Name: Title, Length: 16229, dtype: object"
      ]
     },
     "execution_count": 67,
     "metadata": {},
     "output_type": "execute_result"
    }
   ],
   "source": [
    "data.Title"
   ]
  },
  {
   "cell_type": "code",
   "execution_count": null,
   "id": "3aded8f1",
   "metadata": {},
   "outputs": [],
   "source": []
  },
  {
   "cell_type": "code",
   "execution_count": null,
   "id": "b40488c3",
   "metadata": {},
   "outputs": [],
   "source": []
  },
  {
   "cell_type": "code",
   "execution_count": null,
   "id": "e08741c3",
   "metadata": {},
   "outputs": [],
   "source": []
  },
  {
   "cell_type": "code",
   "execution_count": null,
   "id": "36b6c322",
   "metadata": {},
   "outputs": [],
   "source": []
  },
  {
   "cell_type": "code",
   "execution_count": 92,
   "id": "8ade2564",
   "metadata": {},
   "outputs": [],
   "source": [
    "def get_recommendations(title, df, sim_measure ):\n",
    "    df = df.copy()\n",
    "    smd = df.reset_index()\n",
    "    titles = df['Title']\n",
    "    indices = pd.Series(smd.index, index=smd['Title'])\n",
    "    idx = indices[title]\n",
    "    if len(idx)>1:\n",
    "        a = max(df.loc[df.Title==title]['Release Year'].to_list())\n",
    "        idx = df.loc[ (df.Title==title) & (df['Release Year']==a) ].index[0]\n",
    "    sim_scores = list(enumerate(sim_measure[idx]))\n",
    "    sim_scores = sorted(sim_scores, key=lambda x: x[1], reverse=True)\n",
    "    sim_scores = sim_scores[1:31]\n",
    "    movie_indices = [i[0] for i in sim_scores]\n",
    "    return titles.iloc[movie_indices]"
   ]
  },
  {
   "cell_type": "code",
   "execution_count": null,
   "id": "69c66552",
   "metadata": {},
   "outputs": [],
   "source": []
  },
  {
   "cell_type": "code",
   "execution_count": 93,
   "id": "dbc44ab2",
   "metadata": {},
   "outputs": [],
   "source": [
    "title='Batman'"
   ]
  },
  {
   "cell_type": "code",
   "execution_count": 109,
   "id": "f2e3ee91",
   "metadata": {},
   "outputs": [
    {
     "name": "stdout",
     "output_type": "stream",
     "text": [
      "8208    The Dark Knight of Gotham City begins his war ...\n",
      "Name: overview, dtype: object\n"
     ]
    }
   ],
   "source": [
    "print(data['overview'].loc[data.index==8208])"
   ]
  },
  {
   "cell_type": "code",
   "execution_count": 94,
   "id": "7d78e149",
   "metadata": {},
   "outputs": [],
   "source": [
    "recom_plot = get_recommendations(title, data,cosine_sim)\n",
    "recom_over = get_recommendations(title, data2,cosine_simov)\n",
    "recom_title = get_recommendations(title, data,cosine_simtit)"
   ]
  },
  {
   "cell_type": "code",
   "execution_count": 95,
   "id": "b35a8223",
   "metadata": {},
   "outputs": [
    {
     "data": {
      "text/plain": [
       "pandas.core.series.Series"
      ]
     },
     "execution_count": 95,
     "metadata": {},
     "output_type": "execute_result"
    }
   ],
   "source": [
    "type(recom_plot)"
   ]
  },
  {
   "cell_type": "code",
   "execution_count": 96,
   "id": "581bcb6e",
   "metadata": {},
   "outputs": [],
   "source": [
    "recommendations_df = pd.concat([ recom_over.reset_index(drop=True), recom_title.reset_index(drop=True), recom_plot.reset_index(drop=True) ], axis=1, ignore_index=True)"
   ]
  },
  {
   "cell_type": "code",
   "execution_count": 97,
   "id": "1a4e5a7a",
   "metadata": {},
   "outputs": [
    {
     "data": {
      "text/html": [
       "<div>\n",
       "<style scoped>\n",
       "    .dataframe tbody tr th:only-of-type {\n",
       "        vertical-align: middle;\n",
       "    }\n",
       "\n",
       "    .dataframe tbody tr th {\n",
       "        vertical-align: top;\n",
       "    }\n",
       "\n",
       "    .dataframe thead th {\n",
       "        text-align: right;\n",
       "    }\n",
       "</style>\n",
       "<table border=\"1\" class=\"dataframe\">\n",
       "  <thead>\n",
       "    <tr style=\"text-align: right;\">\n",
       "      <th></th>\n",
       "      <th>0</th>\n",
       "      <th>1</th>\n",
       "      <th>2</th>\n",
       "    </tr>\n",
       "  </thead>\n",
       "  <tbody>\n",
       "    <tr>\n",
       "      <th>0</th>\n",
       "      <td>Wrong Is Right</td>\n",
       "      <td>Batman</td>\n",
       "      <td>The Dark Knight</td>\n",
       "    </tr>\n",
       "    <tr>\n",
       "      <th>1</th>\n",
       "      <td>Enchantment</td>\n",
       "      <td>Batman</td>\n",
       "      <td>The Lego Batman Movie</td>\n",
       "    </tr>\n",
       "    <tr>\n",
       "      <th>2</th>\n",
       "      <td>Torrid Zone</td>\n",
       "      <td>Batman Forever</td>\n",
       "      <td>Batman: Mask of the Phantasm</td>\n",
       "    </tr>\n",
       "    <tr>\n",
       "      <th>3</th>\n",
       "      <td>The Oh in Ohio</td>\n",
       "      <td>Batman Returns</td>\n",
       "      <td>Batman Begins</td>\n",
       "    </tr>\n",
       "    <tr>\n",
       "      <th>4</th>\n",
       "      <td>On Deadly Ground</td>\n",
       "      <td>Batman and Robin</td>\n",
       "      <td>Batman</td>\n",
       "    </tr>\n",
       "    <tr>\n",
       "      <th>5</th>\n",
       "      <td>Phone Booth</td>\n",
       "      <td>Batman and Robin</td>\n",
       "      <td>Batman Forever</td>\n",
       "    </tr>\n",
       "    <tr>\n",
       "      <th>6</th>\n",
       "      <td>The Monkey's Paw</td>\n",
       "      <td>Batman Begins</td>\n",
       "      <td>The Dark Knight Rises</td>\n",
       "    </tr>\n",
       "    <tr>\n",
       "      <th>7</th>\n",
       "      <td>X-Men: First Class</td>\n",
       "      <td>The Lego Batman Movie</td>\n",
       "      <td>The Defiant Ones</td>\n",
       "    </tr>\n",
       "    <tr>\n",
       "      <th>8</th>\n",
       "      <td>The Legend of Boggy Creek</td>\n",
       "      <td>Batman: Mask of the Phantasm</td>\n",
       "      <td>Full Metal Jacket</td>\n",
       "    </tr>\n",
       "    <tr>\n",
       "      <th>9</th>\n",
       "      <td>Tarzan's New York Adventure</td>\n",
       "      <td>Batman v Superman: Dawn of Justice</td>\n",
       "      <td>Justice League: The Flashpoint Paradox</td>\n",
       "    </tr>\n",
       "    <tr>\n",
       "      <th>10</th>\n",
       "      <td>Benji</td>\n",
       "      <td>Rough Night</td>\n",
       "      <td>Batman Returns</td>\n",
       "    </tr>\n",
       "    <tr>\n",
       "      <th>11</th>\n",
       "      <td>Charlie Chan's Secret</td>\n",
       "      <td>Bairavaa</td>\n",
       "      <td>Batman</td>\n",
       "    </tr>\n",
       "    <tr>\n",
       "      <th>12</th>\n",
       "      <td>Return to Never Land</td>\n",
       "      <td>Wonder Woman</td>\n",
       "      <td>Batman and Robin</td>\n",
       "    </tr>\n",
       "    <tr>\n",
       "      <th>13</th>\n",
       "      <td>Sgt. Pepper's Lonely Hearts Club Band</td>\n",
       "      <td>Manhunt</td>\n",
       "      <td>Next Friday</td>\n",
       "    </tr>\n",
       "    <tr>\n",
       "      <th>14</th>\n",
       "      <td>Lady Oscar</td>\n",
       "      <td>A Dog's Purpose</td>\n",
       "      <td>Batman v Superman: Dawn of Justice</td>\n",
       "    </tr>\n",
       "    <tr>\n",
       "      <th>15</th>\n",
       "      <td>Aces High</td>\n",
       "      <td>Goon: Last of the Enforcers</td>\n",
       "      <td>Dragon: The Bruce Lee Story</td>\n",
       "    </tr>\n",
       "    <tr>\n",
       "      <th>16</th>\n",
       "      <td>Conspiracy Theory</td>\n",
       "      <td>The Party</td>\n",
       "      <td>The Thomas Crown Affair</td>\n",
       "    </tr>\n",
       "    <tr>\n",
       "      <th>17</th>\n",
       "      <td>Guru</td>\n",
       "      <td>Collide</td>\n",
       "      <td>Bruce Almighty</td>\n",
       "    </tr>\n",
       "    <tr>\n",
       "      <th>18</th>\n",
       "      <td>My Forbidden Past</td>\n",
       "      <td>Transformers: The Last Knight</td>\n",
       "      <td>They Call Me Bruce?</td>\n",
       "    </tr>\n",
       "    <tr>\n",
       "      <th>19</th>\n",
       "      <td>Hideaway</td>\n",
       "      <td>The Little Hours</td>\n",
       "      <td>Human Desire</td>\n",
       "    </tr>\n",
       "    <tr>\n",
       "      <th>20</th>\n",
       "      <td>The Santa Clause 2</td>\n",
       "      <td>Patti Cake$</td>\n",
       "      <td>Bang the Drum Slowly</td>\n",
       "    </tr>\n",
       "    <tr>\n",
       "      <th>21</th>\n",
       "      <td>Come Back, Little Sheba</td>\n",
       "      <td>Flatliners</td>\n",
       "      <td>Hulk</td>\n",
       "    </tr>\n",
       "    <tr>\n",
       "      <th>22</th>\n",
       "      <td>The Sea of Grass</td>\n",
       "      <td>Extraordinary Mission</td>\n",
       "      <td>Whitewash</td>\n",
       "    </tr>\n",
       "    <tr>\n",
       "      <th>23</th>\n",
       "      <td>Charlie Chan in Rio</td>\n",
       "      <td>Split</td>\n",
       "      <td>Movie 43</td>\n",
       "    </tr>\n",
       "    <tr>\n",
       "      <th>24</th>\n",
       "      <td>Coquette</td>\n",
       "      <td>Beatriz at Dinner</td>\n",
       "      <td>Darna Zaroori Hai</td>\n",
       "    </tr>\n",
       "    <tr>\n",
       "      <th>25</th>\n",
       "      <td>13 Ghosts</td>\n",
       "      <td>Underworld: Blood Wars</td>\n",
       "      <td>V/H/S</td>\n",
       "    </tr>\n",
       "    <tr>\n",
       "      <th>26</th>\n",
       "      <td>The Silver Chalice</td>\n",
       "      <td>The Missing</td>\n",
       "      <td>Vicki</td>\n",
       "    </tr>\n",
       "    <tr>\n",
       "      <th>27</th>\n",
       "      <td>Double Harness</td>\n",
       "      <td>Blood Money</td>\n",
       "      <td>Bruce Lee, My Brother</td>\n",
       "    </tr>\n",
       "    <tr>\n",
       "      <th>28</th>\n",
       "      <td>Ishtar</td>\n",
       "      <td>Growing Up Smith</td>\n",
       "      <td>A Star Is Born</td>\n",
       "    </tr>\n",
       "    <tr>\n",
       "      <th>29</th>\n",
       "      <td>The Winter Guest</td>\n",
       "      <td>The Great Wall</td>\n",
       "      <td>These Final Hours</td>\n",
       "    </tr>\n",
       "  </tbody>\n",
       "</table>\n",
       "</div>"
      ],
      "text/plain": [
       "                                        0                                   1  \\\n",
       "0                          Wrong Is Right                              Batman   \n",
       "1                             Enchantment                              Batman   \n",
       "2                             Torrid Zone                      Batman Forever   \n",
       "3                          The Oh in Ohio                      Batman Returns   \n",
       "4                        On Deadly Ground                    Batman and Robin   \n",
       "5                             Phone Booth                    Batman and Robin   \n",
       "6                        The Monkey's Paw                       Batman Begins   \n",
       "7                      X-Men: First Class               The Lego Batman Movie   \n",
       "8               The Legend of Boggy Creek        Batman: Mask of the Phantasm   \n",
       "9             Tarzan's New York Adventure  Batman v Superman: Dawn of Justice   \n",
       "10                                  Benji                         Rough Night   \n",
       "11                  Charlie Chan's Secret                            Bairavaa   \n",
       "12                   Return to Never Land                        Wonder Woman   \n",
       "13  Sgt. Pepper's Lonely Hearts Club Band                             Manhunt   \n",
       "14                             Lady Oscar                     A Dog's Purpose   \n",
       "15                              Aces High         Goon: Last of the Enforcers   \n",
       "16                      Conspiracy Theory                           The Party   \n",
       "17                                   Guru                             Collide   \n",
       "18                      My Forbidden Past       Transformers: The Last Knight   \n",
       "19                               Hideaway                    The Little Hours   \n",
       "20                     The Santa Clause 2                         Patti Cake$   \n",
       "21                Come Back, Little Sheba                          Flatliners   \n",
       "22                       The Sea of Grass               Extraordinary Mission   \n",
       "23                    Charlie Chan in Rio                               Split   \n",
       "24                               Coquette                   Beatriz at Dinner   \n",
       "25                              13 Ghosts              Underworld: Blood Wars   \n",
       "26                     The Silver Chalice                         The Missing   \n",
       "27                         Double Harness                         Blood Money   \n",
       "28                                 Ishtar                    Growing Up Smith   \n",
       "29                       The Winter Guest                      The Great Wall   \n",
       "\n",
       "                                         2  \n",
       "0                          The Dark Knight  \n",
       "1                    The Lego Batman Movie  \n",
       "2             Batman: Mask of the Phantasm  \n",
       "3                            Batman Begins  \n",
       "4                                   Batman  \n",
       "5                           Batman Forever  \n",
       "6                    The Dark Knight Rises  \n",
       "7                         The Defiant Ones  \n",
       "8                        Full Metal Jacket  \n",
       "9   Justice League: The Flashpoint Paradox  \n",
       "10                          Batman Returns  \n",
       "11                                  Batman  \n",
       "12                        Batman and Robin  \n",
       "13                             Next Friday  \n",
       "14      Batman v Superman: Dawn of Justice  \n",
       "15             Dragon: The Bruce Lee Story  \n",
       "16                 The Thomas Crown Affair  \n",
       "17                          Bruce Almighty  \n",
       "18                     They Call Me Bruce?  \n",
       "19                            Human Desire  \n",
       "20                    Bang the Drum Slowly  \n",
       "21                                    Hulk  \n",
       "22                               Whitewash  \n",
       "23                                Movie 43  \n",
       "24                       Darna Zaroori Hai  \n",
       "25                                   V/H/S  \n",
       "26                                   Vicki  \n",
       "27                   Bruce Lee, My Brother  \n",
       "28                          A Star Is Born  \n",
       "29                       These Final Hours  "
      ]
     },
     "execution_count": 97,
     "metadata": {},
     "output_type": "execute_result"
    }
   ],
   "source": [
    "recommendations_df.head(50)"
   ]
  },
  {
   "cell_type": "code",
   "execution_count": 98,
   "id": "4dba963c",
   "metadata": {},
   "outputs": [],
   "source": [
    "# def tf(document):\n",
    "#     doc_tokens = create_lemmas_list(document)\n",
    "#     freq_dist = nltk.FreqDist(doc_tokens)\n",
    "    \n",
    "#     # FreqDist return the dictionary sorted in descending order.\n",
    "#     # I did not find this explicitly in the docs, so I find the max freq in the document\n",
    "#     max_freq = sorted( list(freq_dist.values()), reverse=True )[0]\n",
    "    \n",
    "#     tfs = {token:freq/max_freq for (token, freq) in freq_dist.items() }\n",
    "#     return tfs"
   ]
  },
  {
   "cell_type": "code",
   "execution_count": null,
   "id": "ffb117ec",
   "metadata": {},
   "outputs": [],
   "source": [
    "# from tqdm.notebook import tqdm\n",
    "\n",
    "# def df(data_frame):\n",
    "#     df_dict = {}\n",
    "#     for i in tqdm(range(len(data_frame))):\n",
    "#         for token in set(data_frame.iloc[i].Tokens):\n",
    "#             for j in range(len(data_frame)):\n",
    "#                 document = set(data_frame.iloc[j].Tokens)\n",
    "#                 if token in document:\n",
    "#                     df_dict[token] = df_dict.get(token,[j]) + [j]\n",
    "#     return df_dict"
   ]
  },
  {
   "cell_type": "code",
   "execution_count": null,
   "id": "ba2351f5",
   "metadata": {},
   "outputs": [],
   "source": [
    "# df(movie_plots_tokens_df)"
   ]
  },
  {
   "cell_type": "code",
   "execution_count": null,
   "id": "5c8b6bb8",
   "metadata": {},
   "outputs": [],
   "source": []
  }
 ],
 "metadata": {
  "kernelspec": {
   "display_name": "Python 3 (ipykernel)",
   "language": "python",
   "name": "python3"
  },
  "language_info": {
   "codemirror_mode": {
    "name": "ipython",
    "version": 3
   },
   "file_extension": ".py",
   "mimetype": "text/x-python",
   "name": "python",
   "nbconvert_exporter": "python",
   "pygments_lexer": "ipython3",
   "version": "3.9.12"
  }
 },
 "nbformat": 4,
 "nbformat_minor": 5
}
