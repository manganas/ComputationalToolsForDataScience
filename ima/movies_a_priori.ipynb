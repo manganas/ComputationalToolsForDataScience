{
 "cells": [
  {
   "cell_type": "code",
   "execution_count": 143,
   "id": "d4e9df21",
   "metadata": {},
   "outputs": [],
   "source": [
    "import pandas as pd\n",
    "import numpy as np\n",
    "from tqdm.notebook import tqdm\n",
    "\n",
    "from mlxtend.preprocessing import TransactionEncoder\n",
    "from mlxtend.frequent_patterns import apriori, association_rules"
   ]
  },
  {
   "cell_type": "code",
   "execution_count": 105,
   "id": "c8efaae1",
   "metadata": {},
   "outputs": [
    {
     "name": "stdout",
     "output_type": "stream",
     "text": [
      "45466\n",
      "43441\n"
     ]
    },
    {
     "name": "stderr",
     "output_type": "stream",
     "text": [
      "C:\\Users\\user\\AppData\\Local\\Temp2\\ipykernel_4584\\1935126.py:5: DtypeWarning: Columns (10) have mixed types. Specify dtype option on import or set low_memory=False.\n",
      "  movies_df = pd.read_csv('../Data/movies_dataset/movies_metadata.csv')\n"
     ]
    }
   ],
   "source": [
    "# Load the ratings dataframe\n",
    "ratings_df = pd.read_csv('../Data/movies_dataset/ratings.csv')\n",
    "\n",
    "# Also load the movied dataframe to link the movieId's\n",
    "movies_df = pd.read_csv('../Data/movies_dataset/movies_metadata.csv')\n",
    "\n",
    "print(len(movies_df))\n",
    "\n",
    "movies_df = movies_df.drop_duplicates(subset=['title', 'original_title'], keep='last')\n",
    "\n",
    "print(len(movies_df))"
   ]
  },
  {
   "cell_type": "code",
   "execution_count": 3,
   "id": "7a98bc3a",
   "metadata": {},
   "outputs": [],
   "source": [
    "columns_to_keep = ['id', 'imdb_id', 'original_language', 'original_title']\n",
    "\n",
    "en_movies_df = movies_df[columns_to_keep]\n",
    "\n",
    "# Remove na entries\n",
    "en_movies_df=en_movies_df[columns_to_keep].dropna(axis=0)\n",
    "en_movies_df.reset_index(drop=True, inplace=True)"
   ]
  },
  {
   "cell_type": "code",
   "execution_count": 4,
   "id": "0c766a40",
   "metadata": {},
   "outputs": [],
   "source": [
    "engl_idx = []\n",
    "for i in range(len(en_movies_df)):\n",
    "    langs_str = en_movies_df.original_language[i]\n",
    "    if langs_str=='en':\n",
    "        engl_idx.append(i)"
   ]
  },
  {
   "cell_type": "code",
   "execution_count": 5,
   "id": "caf9acf4",
   "metadata": {},
   "outputs": [],
   "source": [
    "en_movies_df = en_movies_df.iloc[np.array(engl_idx)]\n",
    "en_movies_df.reset_index(drop=True, inplace=True)"
   ]
  },
  {
   "cell_type": "markdown",
   "id": "a96a7aaa",
   "metadata": {},
   "source": [
    "The `id` column is an str. Change it to integer."
   ]
  },
  {
   "cell_type": "code",
   "execution_count": 7,
   "id": "7ad4d2a0",
   "metadata": {},
   "outputs": [
    {
     "data": {
      "text/plain": [
       "id                   object\n",
       "imdb_id              object\n",
       "original_language    object\n",
       "original_title       object\n",
       "dtype: object"
      ]
     },
     "execution_count": 7,
     "metadata": {},
     "output_type": "execute_result"
    }
   ],
   "source": [
    "en_movies_df.dtypes"
   ]
  },
  {
   "cell_type": "code",
   "execution_count": 8,
   "id": "1a654f00",
   "metadata": {},
   "outputs": [],
   "source": [
    "en_movies_df[['id']] = en_movies_df[['id']].astype(int)"
   ]
  },
  {
   "cell_type": "markdown",
   "id": "45b31d8f",
   "metadata": {},
   "source": [
    "Now, to apply a priori, we need the list of items for each user. So for each `userId`, we need to get the movies he/she has seen. A threshold is also set so that the movies that have not been rated well by the user are not included. Later, the users with only a few ratings are removed."
   ]
  },
  {
   "cell_type": "code",
   "execution_count": 116,
   "id": "2999924d",
   "metadata": {},
   "outputs": [],
   "source": [
    "rating_threshold = 3 # Min movie rating to be considered liked"
   ]
  },
  {
   "cell_type": "code",
   "execution_count": 117,
   "id": "d90901c1",
   "metadata": {},
   "outputs": [
    {
     "data": {
      "application/vnd.jupyter.widget-view+json": {
       "model_id": "6845dd0c68be44938699973f9fc5aecd",
       "version_major": 2,
       "version_minor": 0
      },
      "text/plain": [
       "  0%|          | 0/270896 [00:00<?, ?it/s]"
      ]
     },
     "metadata": {},
     "output_type": "display_data"
    }
   ],
   "source": [
    "# Collect all the movies a user has seen in a list\n",
    "# movies_per_user = [el[1]['movieId'].to_list() for el in list(ratings_df.groupby(['userId']))]\n",
    "\n",
    "movies_per_user = []\n",
    "for el in tqdm(list(ratings_df.groupby('userId'))):\n",
    "    \n",
    "    # Get all the movies a user has seen\n",
    "    good_movies_by_user = [movie for (movie, rating) in zip(el[1]['movieId'].to_list(),el[1]['rating'].to_list()) if rating >= rating_threshold]\n",
    "    \n",
    "    movies_per_user.append(np.array(good_movies_by_user).astype(int))"
   ]
  },
  {
   "cell_type": "code",
   "execution_count": 119,
   "id": "17036949",
   "metadata": {},
   "outputs": [],
   "source": [
    "# Find unique movies id's list, to use for one-hot-encoding\n",
    "all_movies_ids = np.concatenate(movies_per_user)\n",
    "all_movies_ids = sorted( set(list(all_movies_ids.flat))) # ascending order, not essential"
   ]
  },
  {
   "cell_type": "code",
   "execution_count": 120,
   "id": "baebca34",
   "metadata": {},
   "outputs": [
    {
     "data": {
      "application/vnd.jupyter.widget-view+json": {
       "model_id": "ff33c6b981f54c35a6b822a23d9009ae",
       "version_major": 2,
       "version_minor": 0
      },
      "text/plain": [
       "  0%|          | 0/40799 [00:00<?, ?it/s]"
      ]
     },
     "metadata": {},
     "output_type": "display_data"
    }
   ],
   "source": [
    "# We can create a dataframe with the following columns: movie_id, movie_title\n",
    "movie_titles = []\n",
    "movie_original_titles = []\n",
    "movie_ids = []\n",
    "\n",
    "for id_ in tqdm(all_movies_ids):\n",
    "    if not movies_df.loc[movies_df['id']==f\"{id_}\"].empty:\n",
    "        movie_titles.append(movies_df.loc[movies_df['id']==f\"{id_}\"].title.item())\n",
    "        movie_original_titles.append(movies_df.loc[movies_df['id']==f\"{id_}\"].original_title.item()) \n",
    "        movie_ids.append(id_)"
   ]
  },
  {
   "cell_type": "code",
   "execution_count": 121,
   "id": "0c3dfbf6",
   "metadata": {},
   "outputs": [
    {
     "data": {
      "text/html": [
       "<div>\n",
       "<style scoped>\n",
       "    .dataframe tbody tr th:only-of-type {\n",
       "        vertical-align: middle;\n",
       "    }\n",
       "\n",
       "    .dataframe tbody tr th {\n",
       "        vertical-align: top;\n",
       "    }\n",
       "\n",
       "    .dataframe thead th {\n",
       "        text-align: right;\n",
       "    }\n",
       "</style>\n",
       "<table border=\"1\" class=\"dataframe\">\n",
       "  <thead>\n",
       "    <tr style=\"text-align: right;\">\n",
       "      <th></th>\n",
       "      <th>title</th>\n",
       "      <th>original_title</th>\n",
       "      <th>id</th>\n",
       "    </tr>\n",
       "  </thead>\n",
       "  <tbody>\n",
       "    <tr>\n",
       "      <th>0</th>\n",
       "      <td>Ariel</td>\n",
       "      <td>Ariel</td>\n",
       "      <td>2</td>\n",
       "    </tr>\n",
       "    <tr>\n",
       "      <th>1</th>\n",
       "      <td>Shadows in Paradise</td>\n",
       "      <td>Varjoja paratiisissa</td>\n",
       "      <td>3</td>\n",
       "    </tr>\n",
       "    <tr>\n",
       "      <th>2</th>\n",
       "      <td>Four Rooms</td>\n",
       "      <td>Four Rooms</td>\n",
       "      <td>5</td>\n",
       "    </tr>\n",
       "    <tr>\n",
       "      <th>3</th>\n",
       "      <td>Judgment Night</td>\n",
       "      <td>Judgment Night</td>\n",
       "      <td>6</td>\n",
       "    </tr>\n",
       "    <tr>\n",
       "      <th>4</th>\n",
       "      <td>Star Wars</td>\n",
       "      <td>Star Wars</td>\n",
       "      <td>11</td>\n",
       "    </tr>\n",
       "    <tr>\n",
       "      <th>...</th>\n",
       "      <td>...</td>\n",
       "      <td>...</td>\n",
       "      <td>...</td>\n",
       "    </tr>\n",
       "    <tr>\n",
       "      <th>6815</th>\n",
       "      <td>Foreign Letters</td>\n",
       "      <td>Foreign Letters</td>\n",
       "      <td>176069</td>\n",
       "    </tr>\n",
       "    <tr>\n",
       "      <th>6816</th>\n",
       "      <td>Enter the Dangerous Mind</td>\n",
       "      <td>Enter the Dangerous Mind</td>\n",
       "      <td>176077</td>\n",
       "    </tr>\n",
       "    <tr>\n",
       "      <th>6817</th>\n",
       "      <td>White Reindeer</td>\n",
       "      <td>White Reindeer</td>\n",
       "      <td>176085</td>\n",
       "    </tr>\n",
       "    <tr>\n",
       "      <th>6818</th>\n",
       "      <td>Behind the Rising Sun</td>\n",
       "      <td>Behind the Rising Sun</td>\n",
       "      <td>176143</td>\n",
       "    </tr>\n",
       "    <tr>\n",
       "      <th>6819</th>\n",
       "      <td>Parsifal</td>\n",
       "      <td>Parsifal</td>\n",
       "      <td>176167</td>\n",
       "    </tr>\n",
       "  </tbody>\n",
       "</table>\n",
       "<p>6820 rows × 3 columns</p>\n",
       "</div>"
      ],
      "text/plain": [
       "                         title            original_title      id\n",
       "0                        Ariel                     Ariel       2\n",
       "1          Shadows in Paradise      Varjoja paratiisissa       3\n",
       "2                   Four Rooms                Four Rooms       5\n",
       "3               Judgment Night            Judgment Night       6\n",
       "4                    Star Wars                 Star Wars      11\n",
       "...                        ...                       ...     ...\n",
       "6815           Foreign Letters           Foreign Letters  176069\n",
       "6816  Enter the Dangerous Mind  Enter the Dangerous Mind  176077\n",
       "6817            White Reindeer            White Reindeer  176085\n",
       "6818     Behind the Rising Sun     Behind the Rising Sun  176143\n",
       "6819                  Parsifal                  Parsifal  176167\n",
       "\n",
       "[6820 rows x 3 columns]"
      ]
     },
     "execution_count": 121,
     "metadata": {},
     "output_type": "execute_result"
    }
   ],
   "source": [
    "movie_titles_id_df = pd.DataFrame.from_dict({'title':movie_titles, 'original_title':movie_original_titles, 'id':movie_ids})\n",
    "movie_titles_id_df"
   ]
  },
  {
   "cell_type": "markdown",
   "id": "1ced7fb7",
   "metadata": {},
   "source": [
    "Now, all the unique ids are in the column `id`, and the index can be used as a hashcode. But first, a list of baskets needs to be created. This is the list `movies_per_user_fitlered`, however not all movies in each basket exist. As a result, the baskets list is created by taking only the movies from each basket that exist in the `movie_titles_df` data frame:"
   ]
  },
  {
   "cell_type": "code",
   "execution_count": 123,
   "id": "e58ff3b8",
   "metadata": {},
   "outputs": [
    {
     "data": {
      "application/vnd.jupyter.widget-view+json": {
       "model_id": "64b0c9dee9734604b10636fb330559dd",
       "version_major": 2,
       "version_minor": 0
      },
      "text/plain": [
       "  0%|          | 0/270896 [00:00<?, ?it/s]"
      ]
     },
     "metadata": {},
     "output_type": "display_data"
    }
   ],
   "source": [
    "baskets = []\n",
    "unique_movies_id = movie_titles_id_df.id.to_list()\n",
    "for user in tqdm(movies_per_user):\n",
    "    basket = []\n",
    "    for movie in user:\n",
    "        if movie in unique_movies_id:\n",
    "            basket.append(movie)\n",
    "    baskets.append(basket)"
   ]
  },
  {
   "cell_type": "markdown",
   "id": "595ff4e8",
   "metadata": {},
   "source": [
    "This took some time to be created, better save it in a csv file:"
   ]
  },
  {
   "cell_type": "code",
   "execution_count": 124,
   "id": "f1492a3e",
   "metadata": {},
   "outputs": [],
   "source": [
    "baskets_df = pd.DataFrame.from_dict({'basket_no':np.arange(1, len(baskets)+1), 'baskets':baskets})"
   ]
  },
  {
   "cell_type": "code",
   "execution_count": 135,
   "id": "922a910c",
   "metadata": {},
   "outputs": [],
   "source": [
    "# Now is the time to remove the users who have rated only a few movies, under a certain threshold\n",
    "# Keep users who have rated at least min_movies_rated movies above rating_threshold\n",
    "min_movies_rated = 15\n",
    "\n",
    "baskets_df_reduced = baskets_df.loc[ np.array( list( map( len, baskets_df.baskets ) ) ) > min_movies_rated ]"
   ]
  },
  {
   "cell_type": "code",
   "execution_count": 140,
   "id": "4576159c",
   "metadata": {},
   "outputs": [],
   "source": [
    "baskets_ = baskets_df_reduced.baskets.to_list()"
   ]
  },
  {
   "cell_type": "markdown",
   "id": "fa652af3",
   "metadata": {},
   "source": [
    "We can now use the a priori algorithm to find 'transcations' above a given support. Use `mlxtend` library."
   ]
  },
  {
   "cell_type": "code",
   "execution_count": 149,
   "id": "90cadb69",
   "metadata": {},
   "outputs": [],
   "source": [
    "te = TransactionEncoder()\n",
    "te_ary = te.fit_transform(baskets_)"
   ]
  },
  {
   "cell_type": "code",
   "execution_count": 150,
   "id": "d3bcd92d",
   "metadata": {},
   "outputs": [
    {
     "data": {
      "text/html": [
       "<div>\n",
       "<style scoped>\n",
       "    .dataframe tbody tr th:only-of-type {\n",
       "        vertical-align: middle;\n",
       "    }\n",
       "\n",
       "    .dataframe tbody tr th {\n",
       "        vertical-align: top;\n",
       "    }\n",
       "\n",
       "    .dataframe thead th {\n",
       "        text-align: right;\n",
       "    }\n",
       "</style>\n",
       "<table border=\"1\" class=\"dataframe\">\n",
       "  <thead>\n",
       "    <tr style=\"text-align: right;\">\n",
       "      <th></th>\n",
       "      <th>2</th>\n",
       "      <th>3</th>\n",
       "      <th>5</th>\n",
       "      <th>6</th>\n",
       "      <th>11</th>\n",
       "      <th>12</th>\n",
       "      <th>13</th>\n",
       "      <th>14</th>\n",
       "      <th>15</th>\n",
       "      <th>16</th>\n",
       "      <th>...</th>\n",
       "      <th>175457</th>\n",
       "      <th>175503</th>\n",
       "      <th>175587</th>\n",
       "      <th>175791</th>\n",
       "      <th>175869</th>\n",
       "      <th>176069</th>\n",
       "      <th>176077</th>\n",
       "      <th>176085</th>\n",
       "      <th>176143</th>\n",
       "      <th>176167</th>\n",
       "    </tr>\n",
       "  </thead>\n",
       "  <tbody>\n",
       "    <tr>\n",
       "      <th>0</th>\n",
       "      <td>False</td>\n",
       "      <td>False</td>\n",
       "      <td>False</td>\n",
       "      <td>False</td>\n",
       "      <td>False</td>\n",
       "      <td>False</td>\n",
       "      <td>False</td>\n",
       "      <td>False</td>\n",
       "      <td>False</td>\n",
       "      <td>False</td>\n",
       "      <td>...</td>\n",
       "      <td>False</td>\n",
       "      <td>False</td>\n",
       "      <td>False</td>\n",
       "      <td>False</td>\n",
       "      <td>False</td>\n",
       "      <td>False</td>\n",
       "      <td>False</td>\n",
       "      <td>False</td>\n",
       "      <td>False</td>\n",
       "      <td>False</td>\n",
       "    </tr>\n",
       "    <tr>\n",
       "      <th>1</th>\n",
       "      <td>False</td>\n",
       "      <td>False</td>\n",
       "      <td>False</td>\n",
       "      <td>False</td>\n",
       "      <td>False</td>\n",
       "      <td>False</td>\n",
       "      <td>False</td>\n",
       "      <td>False</td>\n",
       "      <td>False</td>\n",
       "      <td>False</td>\n",
       "      <td>...</td>\n",
       "      <td>False</td>\n",
       "      <td>False</td>\n",
       "      <td>False</td>\n",
       "      <td>False</td>\n",
       "      <td>False</td>\n",
       "      <td>False</td>\n",
       "      <td>False</td>\n",
       "      <td>False</td>\n",
       "      <td>False</td>\n",
       "      <td>False</td>\n",
       "    </tr>\n",
       "    <tr>\n",
       "      <th>2</th>\n",
       "      <td>False</td>\n",
       "      <td>False</td>\n",
       "      <td>False</td>\n",
       "      <td>False</td>\n",
       "      <td>False</td>\n",
       "      <td>False</td>\n",
       "      <td>False</td>\n",
       "      <td>False</td>\n",
       "      <td>False</td>\n",
       "      <td>False</td>\n",
       "      <td>...</td>\n",
       "      <td>False</td>\n",
       "      <td>False</td>\n",
       "      <td>False</td>\n",
       "      <td>False</td>\n",
       "      <td>False</td>\n",
       "      <td>False</td>\n",
       "      <td>False</td>\n",
       "      <td>False</td>\n",
       "      <td>False</td>\n",
       "      <td>False</td>\n",
       "    </tr>\n",
       "    <tr>\n",
       "      <th>3</th>\n",
       "      <td>False</td>\n",
       "      <td>False</td>\n",
       "      <td>False</td>\n",
       "      <td>False</td>\n",
       "      <td>False</td>\n",
       "      <td>False</td>\n",
       "      <td>False</td>\n",
       "      <td>False</td>\n",
       "      <td>False</td>\n",
       "      <td>False</td>\n",
       "      <td>...</td>\n",
       "      <td>False</td>\n",
       "      <td>False</td>\n",
       "      <td>False</td>\n",
       "      <td>False</td>\n",
       "      <td>False</td>\n",
       "      <td>False</td>\n",
       "      <td>False</td>\n",
       "      <td>False</td>\n",
       "      <td>False</td>\n",
       "      <td>False</td>\n",
       "    </tr>\n",
       "    <tr>\n",
       "      <th>4</th>\n",
       "      <td>False</td>\n",
       "      <td>False</td>\n",
       "      <td>False</td>\n",
       "      <td>False</td>\n",
       "      <td>False</td>\n",
       "      <td>False</td>\n",
       "      <td>False</td>\n",
       "      <td>False</td>\n",
       "      <td>False</td>\n",
       "      <td>True</td>\n",
       "      <td>...</td>\n",
       "      <td>False</td>\n",
       "      <td>False</td>\n",
       "      <td>False</td>\n",
       "      <td>False</td>\n",
       "      <td>False</td>\n",
       "      <td>False</td>\n",
       "      <td>False</td>\n",
       "      <td>False</td>\n",
       "      <td>False</td>\n",
       "      <td>False</td>\n",
       "    </tr>\n",
       "    <tr>\n",
       "      <th>...</th>\n",
       "      <td>...</td>\n",
       "      <td>...</td>\n",
       "      <td>...</td>\n",
       "      <td>...</td>\n",
       "      <td>...</td>\n",
       "      <td>...</td>\n",
       "      <td>...</td>\n",
       "      <td>...</td>\n",
       "      <td>...</td>\n",
       "      <td>...</td>\n",
       "      <td>...</td>\n",
       "      <td>...</td>\n",
       "      <td>...</td>\n",
       "      <td>...</td>\n",
       "      <td>...</td>\n",
       "      <td>...</td>\n",
       "      <td>...</td>\n",
       "      <td>...</td>\n",
       "      <td>...</td>\n",
       "      <td>...</td>\n",
       "      <td>...</td>\n",
       "    </tr>\n",
       "    <tr>\n",
       "      <th>120150</th>\n",
       "      <td>False</td>\n",
       "      <td>True</td>\n",
       "      <td>False</td>\n",
       "      <td>True</td>\n",
       "      <td>True</td>\n",
       "      <td>False</td>\n",
       "      <td>False</td>\n",
       "      <td>False</td>\n",
       "      <td>False</td>\n",
       "      <td>False</td>\n",
       "      <td>...</td>\n",
       "      <td>False</td>\n",
       "      <td>False</td>\n",
       "      <td>False</td>\n",
       "      <td>False</td>\n",
       "      <td>False</td>\n",
       "      <td>False</td>\n",
       "      <td>False</td>\n",
       "      <td>False</td>\n",
       "      <td>False</td>\n",
       "      <td>False</td>\n",
       "    </tr>\n",
       "    <tr>\n",
       "      <th>120151</th>\n",
       "      <td>False</td>\n",
       "      <td>False</td>\n",
       "      <td>False</td>\n",
       "      <td>False</td>\n",
       "      <td>False</td>\n",
       "      <td>False</td>\n",
       "      <td>False</td>\n",
       "      <td>False</td>\n",
       "      <td>False</td>\n",
       "      <td>False</td>\n",
       "      <td>...</td>\n",
       "      <td>False</td>\n",
       "      <td>False</td>\n",
       "      <td>False</td>\n",
       "      <td>False</td>\n",
       "      <td>False</td>\n",
       "      <td>False</td>\n",
       "      <td>False</td>\n",
       "      <td>False</td>\n",
       "      <td>False</td>\n",
       "      <td>False</td>\n",
       "    </tr>\n",
       "    <tr>\n",
       "      <th>120152</th>\n",
       "      <td>False</td>\n",
       "      <td>False</td>\n",
       "      <td>False</td>\n",
       "      <td>False</td>\n",
       "      <td>False</td>\n",
       "      <td>False</td>\n",
       "      <td>False</td>\n",
       "      <td>False</td>\n",
       "      <td>False</td>\n",
       "      <td>False</td>\n",
       "      <td>...</td>\n",
       "      <td>False</td>\n",
       "      <td>False</td>\n",
       "      <td>False</td>\n",
       "      <td>False</td>\n",
       "      <td>False</td>\n",
       "      <td>False</td>\n",
       "      <td>False</td>\n",
       "      <td>False</td>\n",
       "      <td>False</td>\n",
       "      <td>False</td>\n",
       "    </tr>\n",
       "    <tr>\n",
       "      <th>120153</th>\n",
       "      <td>False</td>\n",
       "      <td>False</td>\n",
       "      <td>False</td>\n",
       "      <td>False</td>\n",
       "      <td>False</td>\n",
       "      <td>False</td>\n",
       "      <td>False</td>\n",
       "      <td>False</td>\n",
       "      <td>False</td>\n",
       "      <td>False</td>\n",
       "      <td>...</td>\n",
       "      <td>False</td>\n",
       "      <td>False</td>\n",
       "      <td>False</td>\n",
       "      <td>False</td>\n",
       "      <td>False</td>\n",
       "      <td>False</td>\n",
       "      <td>False</td>\n",
       "      <td>False</td>\n",
       "      <td>False</td>\n",
       "      <td>False</td>\n",
       "    </tr>\n",
       "    <tr>\n",
       "      <th>120154</th>\n",
       "      <td>False</td>\n",
       "      <td>False</td>\n",
       "      <td>False</td>\n",
       "      <td>False</td>\n",
       "      <td>True</td>\n",
       "      <td>False</td>\n",
       "      <td>False</td>\n",
       "      <td>False</td>\n",
       "      <td>False</td>\n",
       "      <td>False</td>\n",
       "      <td>...</td>\n",
       "      <td>False</td>\n",
       "      <td>False</td>\n",
       "      <td>False</td>\n",
       "      <td>False</td>\n",
       "      <td>False</td>\n",
       "      <td>False</td>\n",
       "      <td>False</td>\n",
       "      <td>False</td>\n",
       "      <td>False</td>\n",
       "      <td>False</td>\n",
       "    </tr>\n",
       "  </tbody>\n",
       "</table>\n",
       "<p>120155 rows × 6788 columns</p>\n",
       "</div>"
      ],
      "text/plain": [
       "        2       3       5       6       11      12      13      14      \\\n",
       "0        False   False   False   False   False   False   False   False   \n",
       "1        False   False   False   False   False   False   False   False   \n",
       "2        False   False   False   False   False   False   False   False   \n",
       "3        False   False   False   False   False   False   False   False   \n",
       "4        False   False   False   False   False   False   False   False   \n",
       "...        ...     ...     ...     ...     ...     ...     ...     ...   \n",
       "120150   False    True   False    True    True   False   False   False   \n",
       "120151   False   False   False   False   False   False   False   False   \n",
       "120152   False   False   False   False   False   False   False   False   \n",
       "120153   False   False   False   False   False   False   False   False   \n",
       "120154   False   False   False   False    True   False   False   False   \n",
       "\n",
       "        15      16      ...  175457  175503  175587  175791  175869  176069  \\\n",
       "0        False   False  ...   False   False   False   False   False   False   \n",
       "1        False   False  ...   False   False   False   False   False   False   \n",
       "2        False   False  ...   False   False   False   False   False   False   \n",
       "3        False   False  ...   False   False   False   False   False   False   \n",
       "4        False    True  ...   False   False   False   False   False   False   \n",
       "...        ...     ...  ...     ...     ...     ...     ...     ...     ...   \n",
       "120150   False   False  ...   False   False   False   False   False   False   \n",
       "120151   False   False  ...   False   False   False   False   False   False   \n",
       "120152   False   False  ...   False   False   False   False   False   False   \n",
       "120153   False   False  ...   False   False   False   False   False   False   \n",
       "120154   False   False  ...   False   False   False   False   False   False   \n",
       "\n",
       "        176077  176085  176143  176167  \n",
       "0        False   False   False   False  \n",
       "1        False   False   False   False  \n",
       "2        False   False   False   False  \n",
       "3        False   False   False   False  \n",
       "4        False   False   False   False  \n",
       "...        ...     ...     ...     ...  \n",
       "120150   False   False   False   False  \n",
       "120151   False   False   False   False  \n",
       "120152   False   False   False   False  \n",
       "120153   False   False   False   False  \n",
       "120154   False   False   False   False  \n",
       "\n",
       "[120155 rows x 6788 columns]"
      ]
     },
     "execution_count": 150,
     "metadata": {},
     "output_type": "execute_result"
    }
   ],
   "source": [
    "df_one_hot = pd.DataFrame(te_ary, columns=te.columns_)\n",
    "df_one_hot"
   ]
  },
  {
   "cell_type": "code",
   "execution_count": 151,
   "id": "43be5f36",
   "metadata": {},
   "outputs": [
    {
     "data": {
      "text/plain": [
       "120155"
      ]
     },
     "execution_count": 151,
     "metadata": {},
     "output_type": "execute_result"
    }
   ],
   "source": [
    "len(df_one_hot)"
   ]
  },
  {
   "cell_type": "code",
   "execution_count": 152,
   "id": "7268243f",
   "metadata": {},
   "outputs": [
    {
     "ename": "MemoryError",
     "evalue": "Unable to allocate 51.8 GiB for an array with shape (231540, 2, 120155) and data type bool",
     "output_type": "error",
     "traceback": [
      "\u001b[1;31m---------------------------------------------------------------------------\u001b[0m",
      "\u001b[1;31mMemoryError\u001b[0m                               Traceback (most recent call last)",
      "\u001b[1;32m~\\AppData\\Local\\Temp2\\ipykernel_4584\\3812347286.py\u001b[0m in \u001b[0;36m<cell line: 3>\u001b[1;34m()\u001b[0m\n\u001b[0;32m      1\u001b[0m \u001b[0mmin_support\u001b[0m \u001b[1;33m=\u001b[0m \u001b[1;36m0.02\u001b[0m\u001b[1;33m\u001b[0m\u001b[1;33m\u001b[0m\u001b[0m\n\u001b[0;32m      2\u001b[0m \u001b[1;33m\u001b[0m\u001b[0m\n\u001b[1;32m----> 3\u001b[1;33m \u001b[0mfrq_items\u001b[0m \u001b[1;33m=\u001b[0m \u001b[0mapriori\u001b[0m\u001b[1;33m(\u001b[0m\u001b[0mdf_one_hot\u001b[0m\u001b[1;33m,\u001b[0m \u001b[0mmin_support\u001b[0m \u001b[1;33m=\u001b[0m \u001b[0mmin_support\u001b[0m\u001b[1;33m,\u001b[0m \u001b[0muse_colnames\u001b[0m \u001b[1;33m=\u001b[0m \u001b[1;32mTrue\u001b[0m\u001b[1;33m)\u001b[0m\u001b[1;33m\u001b[0m\u001b[1;33m\u001b[0m\u001b[0m\n\u001b[0m\u001b[0;32m      4\u001b[0m \u001b[0mfrq_items\u001b[0m\u001b[1;33m[\u001b[0m\u001b[1;34m'length'\u001b[0m\u001b[1;33m]\u001b[0m \u001b[1;33m=\u001b[0m \u001b[0mfrq_items\u001b[0m\u001b[1;33m[\u001b[0m\u001b[1;34m'itemsets'\u001b[0m\u001b[1;33m]\u001b[0m\u001b[1;33m.\u001b[0m\u001b[0mapply\u001b[0m\u001b[1;33m(\u001b[0m\u001b[1;32mlambda\u001b[0m \u001b[0mx\u001b[0m\u001b[1;33m:\u001b[0m \u001b[0mlen\u001b[0m\u001b[1;33m(\u001b[0m\u001b[0mx\u001b[0m\u001b[1;33m)\u001b[0m\u001b[1;33m)\u001b[0m\u001b[1;33m\u001b[0m\u001b[1;33m\u001b[0m\u001b[0m\n\u001b[0;32m      5\u001b[0m \u001b[0mfrq_items\u001b[0m\u001b[1;33m\u001b[0m\u001b[1;33m\u001b[0m\u001b[0m\n",
      "\u001b[1;32m~\\anaconda3\\lib\\site-packages\\mlxtend\\frequent_patterns\\apriori.py\u001b[0m in \u001b[0;36mapriori\u001b[1;34m(df, min_support, use_colnames, max_len, verbose, low_memory)\u001b[0m\n\u001b[0;32m    307\u001b[0m                     \u001b[0m_bools\u001b[0m \u001b[1;33m=\u001b[0m \u001b[0m_bools\u001b[0m \u001b[1;33m&\u001b[0m \u001b[1;33m(\u001b[0m\u001b[0mX\u001b[0m\u001b[1;33m[\u001b[0m\u001b[1;33m:\u001b[0m\u001b[1;33m,\u001b[0m \u001b[0mcombin\u001b[0m\u001b[1;33m[\u001b[0m\u001b[1;33m:\u001b[0m\u001b[1;33m,\u001b[0m \u001b[0mn\u001b[0m\u001b[1;33m]\u001b[0m\u001b[1;33m]\u001b[0m \u001b[1;33m==\u001b[0m \u001b[0mall_ones\u001b[0m\u001b[1;33m)\u001b[0m\u001b[1;33m\u001b[0m\u001b[1;33m\u001b[0m\u001b[0m\n\u001b[0;32m    308\u001b[0m             \u001b[1;32melse\u001b[0m\u001b[1;33m:\u001b[0m\u001b[1;33m\u001b[0m\u001b[1;33m\u001b[0m\u001b[0m\n\u001b[1;32m--> 309\u001b[1;33m                 \u001b[0m_bools\u001b[0m \u001b[1;33m=\u001b[0m \u001b[0mnp\u001b[0m\u001b[1;33m.\u001b[0m\u001b[0mall\u001b[0m\u001b[1;33m(\u001b[0m\u001b[0mX\u001b[0m\u001b[1;33m[\u001b[0m\u001b[1;33m:\u001b[0m\u001b[1;33m,\u001b[0m \u001b[0mcombin\u001b[0m\u001b[1;33m]\u001b[0m\u001b[1;33m,\u001b[0m \u001b[0maxis\u001b[0m\u001b[1;33m=\u001b[0m\u001b[1;36m2\u001b[0m\u001b[1;33m)\u001b[0m\u001b[1;33m\u001b[0m\u001b[1;33m\u001b[0m\u001b[0m\n\u001b[0m\u001b[0;32m    310\u001b[0m \u001b[1;33m\u001b[0m\u001b[0m\n\u001b[0;32m    311\u001b[0m             \u001b[0msupport\u001b[0m \u001b[1;33m=\u001b[0m \u001b[0m_support\u001b[0m\u001b[1;33m(\u001b[0m\u001b[0mnp\u001b[0m\u001b[1;33m.\u001b[0m\u001b[0marray\u001b[0m\u001b[1;33m(\u001b[0m\u001b[0m_bools\u001b[0m\u001b[1;33m)\u001b[0m\u001b[1;33m,\u001b[0m \u001b[0mrows_count\u001b[0m\u001b[1;33m,\u001b[0m \u001b[0mis_sparse\u001b[0m\u001b[1;33m)\u001b[0m\u001b[1;33m\u001b[0m\u001b[1;33m\u001b[0m\u001b[0m\n",
      "\u001b[1;31mMemoryError\u001b[0m: Unable to allocate 51.8 GiB for an array with shape (231540, 2, 120155) and data type bool"
     ]
    }
   ],
   "source": [
    "min_support = 0.02\n",
    "\n",
    "frq_items = apriori(df_one_hot, min_support = min_support, use_colnames = True)\n",
    "frq_items['length'] = frq_items['itemsets'].apply(lambda x: len(x))\n",
    "frq_items"
   ]
  },
  {
   "cell_type": "code",
   "execution_count": 52,
   "id": "11f77345",
   "metadata": {},
   "outputs": [
    {
     "data": {
      "text/plain": [
       "Index(['adult', 'belongs_to_collection', 'budget', 'genres', 'homepage', 'id',\n",
       "       'imdb_id', 'original_language', 'original_title', 'overview',\n",
       "       'popularity', 'poster_path', 'production_companies',\n",
       "       'production_countries', 'release_date', 'revenue', 'runtime',\n",
       "       'spoken_languages', 'status', 'tagline', 'title', 'video',\n",
       "       'vote_average', 'vote_count'],\n",
       "      dtype='object')"
      ]
     },
     "execution_count": 52,
     "metadata": {},
     "output_type": "execute_result"
    }
   ],
   "source": [
    "movies_df.columns"
   ]
  },
  {
   "cell_type": "code",
   "execution_count": 86,
   "id": "1606d640",
   "metadata": {},
   "outputs": [
    {
     "name": "stdout",
     "output_type": "stream",
     "text": [
      "a\n"
     ]
    }
   ],
   "source": [
    "if movies_df.loc[movies_df['id']== '32'].empty:\n",
    "    print('a')"
   ]
  },
  {
   "cell_type": "code",
   "execution_count": null,
   "id": "f98d91b0",
   "metadata": {},
   "outputs": [],
   "source": []
  },
  {
   "cell_type": "code",
   "execution_count": null,
   "id": "8f18fa1d",
   "metadata": {},
   "outputs": [],
   "source": []
  }
 ],
 "metadata": {
  "kernelspec": {
   "display_name": "Python 3 (ipykernel)",
   "language": "python",
   "name": "python3"
  },
  "language_info": {
   "codemirror_mode": {
    "name": "ipython",
    "version": 3
   },
   "file_extension": ".py",
   "mimetype": "text/x-python",
   "name": "python",
   "nbconvert_exporter": "python",
   "pygments_lexer": "ipython3",
   "version": "3.9.12"
  }
 },
 "nbformat": 4,
 "nbformat_minor": 5
}
