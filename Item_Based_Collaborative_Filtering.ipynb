{
 "cells": [
  {
   "cell_type": "markdown",
   "id": "05ff908f",
   "metadata": {},
   "source": [
    "# Item based collaborative filtering\n",
    "\n"
   ]
  },
  {
   "cell_type": "code",
   "execution_count": 36,
   "id": "1a2c6297",
   "metadata": {},
   "outputs": [],
   "source": [
    "import pandas as pd\n",
    "import numpy as np"
   ]
  },
  {
   "cell_type": "markdown",
   "id": "932956e3",
   "metadata": {},
   "source": [
    "## Load the rating  and movies data\n",
    "\n",
    "The dataset was downloaded from the kaggle dataset that can be found here: https://www.kaggle.com/datasets/rounakbanik/the-movies-dataset"
   ]
  },
  {
   "cell_type": "code",
   "execution_count": 37,
   "id": "ede66a7d",
   "metadata": {},
   "outputs": [
    {
     "data": {
      "text/html": [
       "<div>\n",
       "<style scoped>\n",
       "    .dataframe tbody tr th:only-of-type {\n",
       "        vertical-align: middle;\n",
       "    }\n",
       "\n",
       "    .dataframe tbody tr th {\n",
       "        vertical-align: top;\n",
       "    }\n",
       "\n",
       "    .dataframe thead th {\n",
       "        text-align: right;\n",
       "    }\n",
       "</style>\n",
       "<table border=\"1\" class=\"dataframe\">\n",
       "  <thead>\n",
       "    <tr style=\"text-align: right;\">\n",
       "      <th></th>\n",
       "      <th>userId</th>\n",
       "      <th>movieId</th>\n",
       "      <th>rating</th>\n",
       "    </tr>\n",
       "  </thead>\n",
       "  <tbody>\n",
       "    <tr>\n",
       "      <th>0</th>\n",
       "      <td>1</td>\n",
       "      <td>858</td>\n",
       "      <td>5.0</td>\n",
       "    </tr>\n",
       "    <tr>\n",
       "      <th>1</th>\n",
       "      <td>1</td>\n",
       "      <td>1246</td>\n",
       "      <td>5.0</td>\n",
       "    </tr>\n",
       "    <tr>\n",
       "      <th>2</th>\n",
       "      <td>1</td>\n",
       "      <td>1968</td>\n",
       "      <td>4.0</td>\n",
       "    </tr>\n",
       "    <tr>\n",
       "      <th>3</th>\n",
       "      <td>1</td>\n",
       "      <td>2762</td>\n",
       "      <td>4.5</td>\n",
       "    </tr>\n",
       "    <tr>\n",
       "      <th>4</th>\n",
       "      <td>1</td>\n",
       "      <td>2959</td>\n",
       "      <td>4.0</td>\n",
       "    </tr>\n",
       "  </tbody>\n",
       "</table>\n",
       "</div>"
      ],
      "text/plain": [
       "   userId  movieId  rating\n",
       "0       1      858     5.0\n",
       "1       1     1246     5.0\n",
       "2       1     1968     4.0\n",
       "3       1     2762     4.5\n",
       "4       1     2959     4.0"
      ]
     },
     "execution_count": 37,
     "metadata": {},
     "output_type": "execute_result"
    }
   ],
   "source": [
    "ratings_df = pd.read_csv('Data/updated_ratings.csv')\n",
    "ratings_df = ratings_df.drop('timestamp', axis=1)\n",
    "ratings_df = ratings_df.drop(\"Unnamed: 0\",axis=1)\n",
    "ratings_df.head()"
   ]
  },
  {
   "cell_type": "code",
   "execution_count": 38,
   "id": "6757828d",
   "metadata": {},
   "outputs": [
    {
     "data": {
      "text/html": [
       "<div>\n",
       "<style scoped>\n",
       "    .dataframe tbody tr th:only-of-type {\n",
       "        vertical-align: middle;\n",
       "    }\n",
       "\n",
       "    .dataframe tbody tr th {\n",
       "        vertical-align: top;\n",
       "    }\n",
       "\n",
       "    .dataframe thead th {\n",
       "        text-align: right;\n",
       "    }\n",
       "</style>\n",
       "<table border=\"1\" class=\"dataframe\">\n",
       "  <thead>\n",
       "    <tr style=\"text-align: right;\">\n",
       "      <th></th>\n",
       "      <th>movieId</th>\n",
       "      <th>title</th>\n",
       "    </tr>\n",
       "  </thead>\n",
       "  <tbody>\n",
       "    <tr>\n",
       "      <th>0</th>\n",
       "      <td>862</td>\n",
       "      <td>Toy Story</td>\n",
       "    </tr>\n",
       "    <tr>\n",
       "      <th>1</th>\n",
       "      <td>8844</td>\n",
       "      <td>Jumanji</td>\n",
       "    </tr>\n",
       "    <tr>\n",
       "      <th>2</th>\n",
       "      <td>15602</td>\n",
       "      <td>Grumpier Old Men</td>\n",
       "    </tr>\n",
       "    <tr>\n",
       "      <th>3</th>\n",
       "      <td>31357</td>\n",
       "      <td>Waiting to Exhale</td>\n",
       "    </tr>\n",
       "    <tr>\n",
       "      <th>4</th>\n",
       "      <td>11862</td>\n",
       "      <td>Father of the Bride Part II</td>\n",
       "    </tr>\n",
       "  </tbody>\n",
       "</table>\n",
       "</div>"
      ],
      "text/plain": [
       "   movieId                        title\n",
       "0      862                    Toy Story\n",
       "1     8844                      Jumanji\n",
       "2    15602             Grumpier Old Men\n",
       "3    31357            Waiting to Exhale\n",
       "4    11862  Father of the Bride Part II"
      ]
     },
     "execution_count": 38,
     "metadata": {},
     "output_type": "execute_result"
    }
   ],
   "source": [
    "movies_df= pd.read_csv(\"Data/merged.csv\")\n",
    "movies_df = movies_df[[\"id\", \"title\"]]\n",
    "movies_df.rename(columns = {'id':'movieId'}, inplace = True)\n",
    "movies_df.head()"
   ]
  },
  {
   "cell_type": "markdown",
   "id": "3e5e35e3",
   "metadata": {},
   "source": [
    "## Filter users and movies with few ratings\n",
    "\n",
    "This step was performed for two reasons:\n",
    "* In order to have more robust results we needed to discard users and movies with very few ratings.\n",
    "* Not sufficient memory if we tried to run the method below with all these values since it creates a very sparse matrix with (shape number_of_users, number_of_movies) "
   ]
  },
  {
   "cell_type": "code",
   "execution_count": 39,
   "id": "b0cb90a0",
   "metadata": {},
   "outputs": [
    {
     "name": "stdout",
     "output_type": "stream",
     "text": [
      "Filtering users with less than 8.0 ratings.\n",
      "Filtering movies with less than 66.0 ratings.\n",
      "Original shape: (6935908, 3)\n",
      "New shape: (6440009, 3)\n"
     ]
    }
   ],
   "source": [
    "users_limit = ratings_df['userId'].value_counts().quantile(0.4)\n",
    "filter_users = ratings_df['userId'].value_counts() > users_limit\n",
    "print(f\"Filtering users with less than {users_limit} ratings.\")\n",
    "filter_users = filter_users[filter_users].index.tolist()\n",
    "\n",
    "movies_limit = ratings_df['movieId'].value_counts().quantile(0.4)\n",
    "filter_movies = ratings_df['movieId'].value_counts() > movies_limit\n",
    "print(f\"Filtering movies with less than {movies_limit} ratings.\")\n",
    "filter_movies = filter_movies[filter_movies].index.tolist()\n",
    "\n",
    "print(f'Original shape: {ratings_df.shape}')\n",
    "ratings_df = ratings_df[(ratings_df['movieId'].isin(filter_movies)) & (ratings_df['userId'].isin(filter_users))]\n",
    "# ratings_df =  ratings_df[ratings_df['rating'] >= 3.5]\n",
    "# ratings_df['rating'] = ratings_df['rating'].apply(lambda x: 1 if x >= 3.5 else 0)\n",
    "print(f'New shape: {ratings_df.shape}')"
   ]
  },
  {
   "cell_type": "markdown",
   "id": "a8da7fd6",
   "metadata": {},
   "source": [
    "# Merge the two dataframes\n",
    "Now we have a dataframe with all the information."
   ]
  },
  {
   "cell_type": "code",
   "execution_count": 40,
   "id": "e0b2858e",
   "metadata": {},
   "outputs": [
    {
     "data": {
      "text/html": [
       "<div>\n",
       "<style scoped>\n",
       "    .dataframe tbody tr th:only-of-type {\n",
       "        vertical-align: middle;\n",
       "    }\n",
       "\n",
       "    .dataframe tbody tr th {\n",
       "        vertical-align: top;\n",
       "    }\n",
       "\n",
       "    .dataframe thead th {\n",
       "        text-align: right;\n",
       "    }\n",
       "</style>\n",
       "<table border=\"1\" class=\"dataframe\">\n",
       "  <thead>\n",
       "    <tr style=\"text-align: right;\">\n",
       "      <th></th>\n",
       "      <th>movieId</th>\n",
       "      <th>title</th>\n",
       "      <th>userId</th>\n",
       "      <th>rating</th>\n",
       "    </tr>\n",
       "  </thead>\n",
       "  <tbody>\n",
       "    <tr>\n",
       "      <th>0</th>\n",
       "      <td>862</td>\n",
       "      <td>Toy Story</td>\n",
       "      <td>1923</td>\n",
       "      <td>3.0</td>\n",
       "    </tr>\n",
       "    <tr>\n",
       "      <th>1</th>\n",
       "      <td>862</td>\n",
       "      <td>Toy Story</td>\n",
       "      <td>2103</td>\n",
       "      <td>5.0</td>\n",
       "    </tr>\n",
       "    <tr>\n",
       "      <th>2</th>\n",
       "      <td>862</td>\n",
       "      <td>Toy Story</td>\n",
       "      <td>5380</td>\n",
       "      <td>1.0</td>\n",
       "    </tr>\n",
       "    <tr>\n",
       "      <th>3</th>\n",
       "      <td>862</td>\n",
       "      <td>Toy Story</td>\n",
       "      <td>6177</td>\n",
       "      <td>4.0</td>\n",
       "    </tr>\n",
       "    <tr>\n",
       "      <th>4</th>\n",
       "      <td>862</td>\n",
       "      <td>Toy Story</td>\n",
       "      <td>6525</td>\n",
       "      <td>4.0</td>\n",
       "    </tr>\n",
       "  </tbody>\n",
       "</table>\n",
       "</div>"
      ],
      "text/plain": [
       "   movieId      title  userId  rating\n",
       "0      862  Toy Story    1923     3.0\n",
       "1      862  Toy Story    2103     5.0\n",
       "2      862  Toy Story    5380     1.0\n",
       "3      862  Toy Story    6177     4.0\n",
       "4      862  Toy Story    6525     4.0"
      ]
     },
     "execution_count": 40,
     "metadata": {},
     "output_type": "execute_result"
    }
   ],
   "source": [
    "data = pd.merge(movies_df,ratings_df)\n",
    "data.head()"
   ]
  },
  {
   "cell_type": "markdown",
   "id": "0a06e8bf",
   "metadata": {},
   "source": [
    "# Data transformation\n",
    "Here we create a dataframe where every row represents a user and every column a movie. This way we can create our correlation matrix to produce suggestions on the correlation of ratings between users."
   ]
  },
  {
   "cell_type": "code",
   "execution_count": 41,
   "id": "36bb8163",
   "metadata": {},
   "outputs": [
    {
     "data": {
      "text/plain": [
       "(146726, 1743)"
      ]
     },
     "execution_count": 41,
     "metadata": {},
     "output_type": "execute_result"
    }
   ],
   "source": [
    "pivot_table = data.pivot_table(index = [\"userId\"],columns = [\"title\"],values = \"rating\")\n",
    "pivot_table.fillna(0, inplace=True)\n",
    "pivot_table.shape"
   ]
  },
  {
   "cell_type": "markdown",
   "id": "e99dffce",
   "metadata": {},
   "source": [
    "## Get recommendations\n",
    "\n",
    "Here we find the pearson correlation of the column that correspondes to the movie given with all the other columns. The 6 first movies (first one is always the movie given since it has correlation 1.0), are returned so as to have the 5 most correlated movies to this one based on the ratings that it was given by the users."
   ]
  },
  {
   "cell_type": "code",
   "execution_count": 42,
   "id": "d5cc2325",
   "metadata": {},
   "outputs": [],
   "source": [
    "\n",
    "def get_recommendation(movie):\n",
    "    movie_watched = pivot_table[movie]\n",
    "    similarity_with_other_movies = pivot_table.corrwith(movie_watched)\n",
    "    similarity_with_other_movies = similarity_with_other_movies.sort_values(ascending=False)\n",
    "    print(similarity_with_other_movies.head(6))"
   ]
  },
  {
   "cell_type": "code",
   "execution_count": 43,
   "id": "c2b62bc5",
   "metadata": {},
   "outputs": [
    {
     "name": "stdout",
     "output_type": "stream",
     "text": [
      "title\n",
      "Die Hard 2            1.000000\n",
      "Parenthood            0.490138\n",
      "Rope                  0.438043\n",
      "Rambo III             0.436231\n",
      "The Great Outdoors    0.375681\n",
      "Addicted to Love      0.371151\n",
      "dtype: float64\n"
     ]
    }
   ],
   "source": [
    "movie = \"Die Hard 2\"\n",
    "get_recommendation(movie)"
   ]
  },
  {
   "cell_type": "code",
   "execution_count": 44,
   "id": "bc2e865e",
   "metadata": {},
   "outputs": [
    {
     "name": "stdout",
     "output_type": "stream",
     "text": [
      "title\n",
      "Young and Innocent                                          1.000000\n",
      "License to Wed                                              0.413809\n",
      "5 Card Stud                                                 0.393295\n",
      "Mothra vs. Godzilla                                         0.390459\n",
      "Rope                                                        0.381726\n",
      "Shriek If You Know What I Did Last Friday the Thirteenth    0.380771\n",
      "dtype: float64\n"
     ]
    }
   ],
   "source": [
    "movie = \"Young and Innocent\"\n",
    "get_recommendation(movie)"
   ]
  },
  {
   "cell_type": "code",
   "execution_count": 45,
   "id": "21268b68",
   "metadata": {},
   "outputs": [
    {
     "name": "stdout",
     "output_type": "stream",
     "text": [
      "title\n",
      "Terminator 3: Rise of the Machines    1.000000\n",
      "Point Break                           0.426371\n",
      "The Million Dollar Hotel              0.387339\n",
      "The Talented Mr. Ripley               0.346179\n",
      "A River Runs Through It               0.331954\n",
      "License to Wed                        0.329634\n",
      "dtype: float64\n"
     ]
    }
   ],
   "source": [
    "movie = \"Terminator 3: Rise of the Machines\"\n",
    "get_recommendation(movie)\n",
    "    "
   ]
  },
  {
   "cell_type": "code",
   "execution_count": 47,
   "id": "939cc9e5",
   "metadata": {},
   "outputs": [
    {
     "name": "stdout",
     "output_type": "stream",
     "text": [
      "title\n",
      "Rocky Balboa            1.000000\n",
      "Mothra vs. Godzilla     0.354468\n",
      "Fools Rush In           0.343406\n",
      "Bridge to Terabithia    0.330150\n",
      "Jacob's Ladder          0.321013\n",
      "The Thirteenth Floor    0.307325\n",
      "dtype: float64\n"
     ]
    }
   ],
   "source": [
    "\n",
    "movie = \"Rocky Balboa\"\n",
    "get_recommendation(movie)"
   ]
  },
  {
   "cell_type": "code",
   "execution_count": 48,
   "id": "ac177179",
   "metadata": {},
   "outputs": [
    {
     "name": "stdout",
     "output_type": "stream",
     "text": [
      "title\n",
      "Reservoir Dogs               1.000000\n",
      "Wag the Dog                  0.533294\n",
      "Big Fish                     0.526468\n",
      "Psycho                       0.513535\n",
      "Titanic                      0.495617\n",
      "A Nightmare on Elm Street    0.473788\n",
      "dtype: float64\n"
     ]
    }
   ],
   "source": [
    "\n",
    "movie = \"Reservoir Dogs\"\n",
    "get_recommendation(movie)"
   ]
  },
  {
   "cell_type": "code",
   "execution_count": 49,
   "id": "237eb11f",
   "metadata": {},
   "outputs": [
    {
     "name": "stdout",
     "output_type": "stream",
     "text": [
      "title\n",
      "Spider-Man 2          1.000000\n",
      "Some Like It Hot      0.231414\n",
      "Me, Myself & Irene    0.223979\n",
      "Death Machine         0.221533\n",
      "Cop Land              0.216437\n",
      "I, Robot              0.210806\n",
      "dtype: float64\n"
     ]
    }
   ],
   "source": [
    "#\"Die Hard 2\", \"Terminator 3: Rise of the Machines\", \"Young and Innocent\", \"Reservoir Dogs\", \"Rocky Balboa\"\n",
    "\n",
    "movie = \"Spider-Man 2\"\n",
    "get_recommendation(movie)"
   ]
  },
  {
   "cell_type": "code",
   "execution_count": null,
   "id": "3a446e7c",
   "metadata": {},
   "outputs": [],
   "source": []
  }
 ],
 "metadata": {
  "kernelspec": {
   "display_name": "Python 3 (ipykernel)",
   "language": "python",
   "name": "python3"
  },
  "language_info": {
   "codemirror_mode": {
    "name": "ipython",
    "version": 3
   },
   "file_extension": ".py",
   "mimetype": "text/x-python",
   "name": "python",
   "nbconvert_exporter": "python",
   "pygments_lexer": "ipython3",
   "version": "3.9.13"
  },
  "vscode": {
   "interpreter": {
    "hash": "e8cbe842888bbd6e0ea98adc5d97e344115c244332e15fc15e96f3a1226a7a8b"
   }
  }
 },
 "nbformat": 4,
 "nbformat_minor": 5
}
