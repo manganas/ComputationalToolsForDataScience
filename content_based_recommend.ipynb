{
 "cells": [
  {
   "cell_type": "markdown",
   "id": "9e666416",
   "metadata": {},
   "source": [
    "## Content based recommendation system"
   ]
  },
  {
   "cell_type": "markdown",
   "id": "d9b7c01e",
   "metadata": {},
   "source": [
    "Content based recommender systems do not make use of data from other users to recommend a movie. Instead, they utilize a descriptive set of attributes such as keywords or the summary of a movie. The disadvantage is that these systems will recommend the same movie to the user, based on the input. However, they could be useful in recommending a movie that not many people have seen or rated.  \n",
    "\n",
    "In the content based recommendation system it is only the user that plays a role in the recommendation. This method can also be combined with collaborative filtering methods."
   ]
  },
  {
   "cell_type": "markdown",
   "id": "588f79c2",
   "metadata": {},
   "source": [
    "In this notebook, the text content of the movies from the `merged` dataset is going to be alalyzed. The goal is to rank all the movies in the dataset based on a similarity measure with the input movie. For similarity measures, the cosine similarity will be used. Moreover, the content comes from the movies plots and possibly also the keywords. In order to remove the most common words, TF-IDF is used. Finally, the input to the TF-IDF algorithm will be the lemmatized text from each movie's content."
   ]
  },
  {
   "cell_type": "code",
   "execution_count": 2,
   "id": "42f313e0",
   "metadata": {},
   "outputs": [],
   "source": [
    "# Common libraries imports\n",
    "import pandas as pd"
   ]
  },
  {
   "cell_type": "code",
   "execution_count": 3,
   "id": "bcfa3752",
   "metadata": {},
   "outputs": [
    {
     "name": "stderr",
     "output_type": "stream",
     "text": [
      "[nltk_data] Downloading package punkt to\n",
      "[nltk_data]     C:\\Users\\iok\\AppData\\Roaming\\nltk_data...\n",
      "[nltk_data]   Package punkt is already up-to-date!\n",
      "[nltk_data] Downloading package wordnet to\n",
      "[nltk_data]     C:\\Users\\iok\\AppData\\Roaming\\nltk_data...\n",
      "[nltk_data]   Package wordnet is already up-to-date!\n",
      "[nltk_data] Downloading package omw-1.4 to\n",
      "[nltk_data]     C:\\Users\\iok\\AppData\\Roaming\\nltk_data...\n",
      "[nltk_data]   Package omw-1.4 is already up-to-date!\n",
      "[nltk_data] Error loading corpus: Package 'corpus' not found in index\n",
      "[nltk_data] Downloading package stopwords to\n",
      "[nltk_data]     C:\\Users\\iok\\AppData\\Roaming\\nltk_data...\n",
      "[nltk_data]   Package stopwords is already up-to-date!\n"
     ]
    },
    {
     "data": {
      "text/plain": [
       "True"
      ]
     },
     "execution_count": 3,
     "metadata": {},
     "output_type": "execute_result"
    }
   ],
   "source": [
    "# Not as common libraries imports and installation. \n",
    "# !python3 -m pip install nltk ## For linux and not environment\n",
    "# !pip install nltk\n",
    "import nltk\n",
    "nltk.download('punkt')\n",
    "nltk.download('wordnet')\n",
    "nltk.download('omw-1.4')\n",
    "nltk.download('corpus')\n",
    "nltk.download('stopwords')"
   ]
  },
  {
   "cell_type": "markdown",
   "id": "b0efc584",
   "metadata": {},
   "source": [
    "Since it is a good idea to remove stop words from tf idf calculations, as stated also in [Chapter 1.3.1 MMDS](http://mmds.org/), a list of English stop words is created:"
   ]
  },
  {
   "cell_type": "code",
   "execution_count": 4,
   "id": "324eefda",
   "metadata": {},
   "outputs": [],
   "source": [
    "from nltk.corpus import stopwords\n",
    "stop_words = stopwords.words('english')"
   ]
  },
  {
   "cell_type": "markdown",
   "id": "26758cf7",
   "metadata": {},
   "source": [
    "Read the `merged` dataset, or its 'cleaned' version, that has duplicates removed"
   ]
  },
  {
   "cell_type": "code",
   "execution_count": 5,
   "id": "ade68f68",
   "metadata": {},
   "outputs": [
    {
     "data": {
      "text/html": [
       "<div>\n",
       "<style scoped>\n",
       "    .dataframe tbody tr th:only-of-type {\n",
       "        vertical-align: middle;\n",
       "    }\n",
       "\n",
       "    .dataframe tbody tr th {\n",
       "        vertical-align: top;\n",
       "    }\n",
       "\n",
       "    .dataframe thead th {\n",
       "        text-align: right;\n",
       "    }\n",
       "</style>\n",
       "<table border=\"1\" class=\"dataframe\">\n",
       "  <thead>\n",
       "    <tr style=\"text-align: right;\">\n",
       "      <th></th>\n",
       "      <th>Unnamed: 0</th>\n",
       "      <th>adult</th>\n",
       "      <th>belongs_to_collection</th>\n",
       "      <th>budget</th>\n",
       "      <th>genres</th>\n",
       "      <th>homepage</th>\n",
       "      <th>id</th>\n",
       "      <th>imdb_id</th>\n",
       "      <th>original_language</th>\n",
       "      <th>original_title</th>\n",
       "      <th>...</th>\n",
       "      <th>Origin/Ethnicity</th>\n",
       "      <th>Director</th>\n",
       "      <th>Cast</th>\n",
       "      <th>Genre</th>\n",
       "      <th>Wiki Page</th>\n",
       "      <th>Plot</th>\n",
       "      <th>keywords</th>\n",
       "      <th>cast</th>\n",
       "      <th>crew</th>\n",
       "      <th>KeywCastDirGenre</th>\n",
       "    </tr>\n",
       "  </thead>\n",
       "  <tbody>\n",
       "    <tr>\n",
       "      <th>0</th>\n",
       "      <td>0</td>\n",
       "      <td>False</td>\n",
       "      <td>{'id': 10194, 'name': 'Toy Story Collection', ...</td>\n",
       "      <td>30000000</td>\n",
       "      <td>[{'id':16,'name':'animation'},{'id':35,'name':...</td>\n",
       "      <td>http://toystory.disney.com/toy-story</td>\n",
       "      <td>862</td>\n",
       "      <td>tt0114709</td>\n",
       "      <td>en</td>\n",
       "      <td>Toy Story</td>\n",
       "      <td>...</td>\n",
       "      <td>American</td>\n",
       "      <td>johnlasseter</td>\n",
       "      <td>Tim Allen, Tom Hanks (voices)</td>\n",
       "      <td>animated film</td>\n",
       "      <td>https://en.wikipedia.org/wiki/Toy_Story</td>\n",
       "      <td>In a world where toys are living things who pr...</td>\n",
       "      <td>[{'id':931,'name':'jealousy'},{'id':4290,'name...</td>\n",
       "      <td>[{'cast_id':14,'character':'woody(voice)','cre...</td>\n",
       "      <td>[{'credit_id': '52fe4284c3a36847f8024f49', 'de...</td>\n",
       "      <td>jealousy toy boy friendship friends rivalry bo...</td>\n",
       "    </tr>\n",
       "    <tr>\n",
       "      <th>1</th>\n",
       "      <td>1</td>\n",
       "      <td>False</td>\n",
       "      <td>NaN</td>\n",
       "      <td>65000000</td>\n",
       "      <td>[{'id':12,'name':'adventure'},{'id':14,'name':...</td>\n",
       "      <td>NaN</td>\n",
       "      <td>8844</td>\n",
       "      <td>tt0113497</td>\n",
       "      <td>en</td>\n",
       "      <td>Jumanji</td>\n",
       "      <td>...</td>\n",
       "      <td>American</td>\n",
       "      <td>joejohnston</td>\n",
       "      <td>Robin Williams, Bonnie Hunt, Kirsten Dunst, Br...</td>\n",
       "      <td>family, fantasy</td>\n",
       "      <td>https://en.wikipedia.org/wiki/Jumanji_(film)</td>\n",
       "      <td>In 1869, near Brantford, New Hampshire, two br...</td>\n",
       "      <td>[{'id':10090,'name':'boardgame'},{'id':10941,'...</td>\n",
       "      <td>[{'cast_id':1,'character':'alanparrish','credi...</td>\n",
       "      <td>[{'credit_id': '52fe44bfc3a36847f80a7cd1', 'de...</td>\n",
       "      <td>boardgame disappearance basedonchildren'sbook ...</td>\n",
       "    </tr>\n",
       "    <tr>\n",
       "      <th>2</th>\n",
       "      <td>2</td>\n",
       "      <td>False</td>\n",
       "      <td>{'id': 119050, 'name': 'Grumpy Old Men Collect...</td>\n",
       "      <td>0</td>\n",
       "      <td>[{'id':10749,'name':'romance'},{'id':35,'name'...</td>\n",
       "      <td>NaN</td>\n",
       "      <td>15602</td>\n",
       "      <td>tt0113228</td>\n",
       "      <td>en</td>\n",
       "      <td>Grumpier Old Men</td>\n",
       "      <td>...</td>\n",
       "      <td>American</td>\n",
       "      <td>howarddeutch</td>\n",
       "      <td>Jack Lemmon, Walter Matthau, Ann-Margret, Soph...</td>\n",
       "      <td>comedy</td>\n",
       "      <td>https://en.wikipedia.org/wiki/Grumpier_Old_Men</td>\n",
       "      <td>The feud between Max (Walter Matthau) and John...</td>\n",
       "      <td>[{'id':1495,'name':'fishing'},{'id':12392,'nam...</td>\n",
       "      <td>[{'cast_id':2,'character':'maxgoldman','credit...</td>\n",
       "      <td>[{'credit_id': '52fe466a9251416c75077a89', 'de...</td>\n",
       "      <td>fishing bestfriend duringcreditsstinger oldmen...</td>\n",
       "    </tr>\n",
       "    <tr>\n",
       "      <th>3</th>\n",
       "      <td>3</td>\n",
       "      <td>False</td>\n",
       "      <td>NaN</td>\n",
       "      <td>16000000</td>\n",
       "      <td>[{'id':35,'name':'comedy'},{'id':18,'name':'dr...</td>\n",
       "      <td>NaN</td>\n",
       "      <td>31357</td>\n",
       "      <td>tt0114885</td>\n",
       "      <td>en</td>\n",
       "      <td>Waiting to Exhale</td>\n",
       "      <td>...</td>\n",
       "      <td>American</td>\n",
       "      <td>forestwhitaker</td>\n",
       "      <td>Whitney Houston, Angela Bassett, Loretta Devin...</td>\n",
       "      <td>drama</td>\n",
       "      <td>https://en.wikipedia.org/wiki/Waiting_to_Exhale</td>\n",
       "      <td>\"Friends are the People who let you be yoursel...</td>\n",
       "      <td>[{'id':818,'name':'basedonnovel'},{'id':10131,...</td>\n",
       "      <td>[{'cast_id':1,'character':\"savannah'vannah'jac...</td>\n",
       "      <td>[{'credit_id': '52fe44779251416c91011acb', 'de...</td>\n",
       "      <td>basedonnovel interracialrelationship singlemot...</td>\n",
       "    </tr>\n",
       "    <tr>\n",
       "      <th>4</th>\n",
       "      <td>4</td>\n",
       "      <td>False</td>\n",
       "      <td>{'id': 96871, 'name': 'Father of the Bride Col...</td>\n",
       "      <td>0</td>\n",
       "      <td>[{'id':35,'name':'comedy'}]</td>\n",
       "      <td>NaN</td>\n",
       "      <td>11862</td>\n",
       "      <td>tt0113041</td>\n",
       "      <td>en</td>\n",
       "      <td>Father of the Bride Part II</td>\n",
       "      <td>...</td>\n",
       "      <td>American</td>\n",
       "      <td>charlesshyer</td>\n",
       "      <td>Steve Martin, Diane Keaton, Martin Short, Kimb...</td>\n",
       "      <td>comedy</td>\n",
       "      <td>https://en.wikipedia.org/wiki/Father_of_the_Br...</td>\n",
       "      <td>The film begins five years after the events of...</td>\n",
       "      <td>[{'id':1009,'name':'baby'},{'id':1599,'name':'...</td>\n",
       "      <td>[{'cast_id':1,'character':'georgebanks','credi...</td>\n",
       "      <td>[{'credit_id': '52fe44959251416c75039ed7', 'de...</td>\n",
       "      <td>baby midlifecrisis confidence aging daughter m...</td>\n",
       "    </tr>\n",
       "  </tbody>\n",
       "</table>\n",
       "<p>5 rows × 38 columns</p>\n",
       "</div>"
      ],
      "text/plain": [
       "   Unnamed: 0  adult                              belongs_to_collection  \\\n",
       "0           0  False  {'id': 10194, 'name': 'Toy Story Collection', ...   \n",
       "1           1  False                                                NaN   \n",
       "2           2  False  {'id': 119050, 'name': 'Grumpy Old Men Collect...   \n",
       "3           3  False                                                NaN   \n",
       "4           4  False  {'id': 96871, 'name': 'Father of the Bride Col...   \n",
       "\n",
       "     budget                                             genres  \\\n",
       "0  30000000  [{'id':16,'name':'animation'},{'id':35,'name':...   \n",
       "1  65000000  [{'id':12,'name':'adventure'},{'id':14,'name':...   \n",
       "2         0  [{'id':10749,'name':'romance'},{'id':35,'name'...   \n",
       "3  16000000  [{'id':35,'name':'comedy'},{'id':18,'name':'dr...   \n",
       "4         0                        [{'id':35,'name':'comedy'}]   \n",
       "\n",
       "                               homepage     id    imdb_id original_language  \\\n",
       "0  http://toystory.disney.com/toy-story    862  tt0114709                en   \n",
       "1                                   NaN   8844  tt0113497                en   \n",
       "2                                   NaN  15602  tt0113228                en   \n",
       "3                                   NaN  31357  tt0114885                en   \n",
       "4                                   NaN  11862  tt0113041                en   \n",
       "\n",
       "                original_title  ... Origin/Ethnicity        Director  \\\n",
       "0                    Toy Story  ...         American    johnlasseter   \n",
       "1                      Jumanji  ...         American     joejohnston   \n",
       "2             Grumpier Old Men  ...         American    howarddeutch   \n",
       "3            Waiting to Exhale  ...         American  forestwhitaker   \n",
       "4  Father of the Bride Part II  ...         American    charlesshyer   \n",
       "\n",
       "                                                Cast            Genre  \\\n",
       "0                      Tim Allen, Tom Hanks (voices)    animated film   \n",
       "1  Robin Williams, Bonnie Hunt, Kirsten Dunst, Br...  family, fantasy   \n",
       "2  Jack Lemmon, Walter Matthau, Ann-Margret, Soph...           comedy   \n",
       "3  Whitney Houston, Angela Bassett, Loretta Devin...            drama   \n",
       "4  Steve Martin, Diane Keaton, Martin Short, Kimb...           comedy   \n",
       "\n",
       "                                           Wiki Page  \\\n",
       "0            https://en.wikipedia.org/wiki/Toy_Story   \n",
       "1       https://en.wikipedia.org/wiki/Jumanji_(film)   \n",
       "2     https://en.wikipedia.org/wiki/Grumpier_Old_Men   \n",
       "3    https://en.wikipedia.org/wiki/Waiting_to_Exhale   \n",
       "4  https://en.wikipedia.org/wiki/Father_of_the_Br...   \n",
       "\n",
       "                                                Plot  \\\n",
       "0  In a world where toys are living things who pr...   \n",
       "1  In 1869, near Brantford, New Hampshire, two br...   \n",
       "2  The feud between Max (Walter Matthau) and John...   \n",
       "3  \"Friends are the People who let you be yoursel...   \n",
       "4  The film begins five years after the events of...   \n",
       "\n",
       "                                            keywords  \\\n",
       "0  [{'id':931,'name':'jealousy'},{'id':4290,'name...   \n",
       "1  [{'id':10090,'name':'boardgame'},{'id':10941,'...   \n",
       "2  [{'id':1495,'name':'fishing'},{'id':12392,'nam...   \n",
       "3  [{'id':818,'name':'basedonnovel'},{'id':10131,...   \n",
       "4  [{'id':1009,'name':'baby'},{'id':1599,'name':'...   \n",
       "\n",
       "                                                cast  \\\n",
       "0  [{'cast_id':14,'character':'woody(voice)','cre...   \n",
       "1  [{'cast_id':1,'character':'alanparrish','credi...   \n",
       "2  [{'cast_id':2,'character':'maxgoldman','credit...   \n",
       "3  [{'cast_id':1,'character':\"savannah'vannah'jac...   \n",
       "4  [{'cast_id':1,'character':'georgebanks','credi...   \n",
       "\n",
       "                                                crew  \\\n",
       "0  [{'credit_id': '52fe4284c3a36847f8024f49', 'de...   \n",
       "1  [{'credit_id': '52fe44bfc3a36847f80a7cd1', 'de...   \n",
       "2  [{'credit_id': '52fe466a9251416c75077a89', 'de...   \n",
       "3  [{'credit_id': '52fe44779251416c91011acb', 'de...   \n",
       "4  [{'credit_id': '52fe44959251416c75039ed7', 'de...   \n",
       "\n",
       "                                    KeywCastDirGenre  \n",
       "0  jealousy toy boy friendship friends rivalry bo...  \n",
       "1  boardgame disappearance basedonchildren'sbook ...  \n",
       "2  fishing bestfriend duringcreditsstinger oldmen...  \n",
       "3  basedonnovel interracialrelationship singlemot...  \n",
       "4  baby midlifecrisis confidence aging daughter m...  \n",
       "\n",
       "[5 rows x 38 columns]"
      ]
     },
     "execution_count": 5,
     "metadata": {},
     "output_type": "execute_result"
    }
   ],
   "source": [
    "data = pd.read_csv('../Data/merged.csv')\n",
    "data.head()"
   ]
  },
  {
   "cell_type": "code",
   "execution_count": 6,
   "id": "ab59590e",
   "metadata": {},
   "outputs": [],
   "source": [
    "def print_info(index):\n",
    "    '''\n",
    "    Helper function used for an initial overview of the dataset\n",
    "    '''\n",
    "    print(f\"Title:\\n{data.iloc[index]['Title']}\\n\")\n",
    "    print(f\"Release Year:\\n{data.iloc[index]['Release Year']}\\n\")\n",
    "    print(f\"Link:\\n{data.iloc[index]['Wiki Page']}\\n\")\n",
    "    print(f\"Tagline:\\n{data.iloc[index]['tagline']}\\n\")\n",
    "    print(f\"Overview:\\n{data.iloc[index]['overview']}\\n\")\n",
    "    print(f\"Summary:\\n{data.iloc[index]['Plot']}\\n\")"
   ]
  },
  {
   "cell_type": "markdown",
   "id": "ff7cee69",
   "metadata": {},
   "source": [
    "As an example, use `print_info` for a random movie:"
   ]
  },
  {
   "cell_type": "code",
   "execution_count": 7,
   "id": "723fc500",
   "metadata": {},
   "outputs": [
    {
     "name": "stdout",
     "output_type": "stream",
     "text": [
      "Title:\n",
      "Suicide Squad\n",
      "\n",
      "Release Year:\n",
      "2016\n",
      "\n",
      "Link:\n",
      "https://en.wikipedia.org/wiki/Suicide_Squad_(film)\n",
      "\n",
      "Tagline:\n",
      "Worst Heroes Ever\n",
      "\n",
      "Overview:\n",
      "From DC Comics comes the Suicide Squad, an antihero team of incarcerated supervillains who act as deniable assets for the United States government, undertaking high-risk black ops missions in exchange for commuted prison sentences.\n",
      "\n",
      "Summary:\n",
      "In the aftermath of Superman's death, intelligence officer Amanda Waller reaches Washington D.C for assembling Task Force X, and shows them to everyone in the White House a team of dangerous criminals imprisoned at Belle Reve Prison consisting of elite hitman Deadshot, former psychiatrist Harley Quinn, pyrokinetic ex-gangster El Diablo, opportunistic thief Captain Boomerang, genetic mutation Killer Croc, and specialized assassin Slipknot. They are placed under command of Colonel Rick Flag to be used as disposable assets in high-risk missions for the United States government. Each member has a nano bomb implanted in their neck, designed to detonate should any member rebel or try to escape.\n",
      "One of Waller's intended recruits is Flag's girlfriend Dr. June Moone, an archaeologist possessed by a witch known as the \"Enchantress\". Enchantress quickly turns on Waller, deciding to eradicate humankind with a mystical weapon for imprisoning her. She besieges Midway City by transforming its populace into a horde of monsters, and summons her brother Incubus to assist her. Waller then deploys the squad to extract a high-profile mark from Midway, which is reported to be under a terrorist attack. Joining them is Katana, a Japanese swordswoman.\n",
      "Harley's homicidal lover Joker finds out about her predicament and tortures Belle Reve security officer Griggs into leading him to the facility where the nano bombs are made. There, he blackmails Dr. Van Criss into disabling Harley's bomb. On approach, the squad's helicopter is shot down, forcing them to proceed on foot to their target. Boomerang inaccurately convinces Slipknot that the bombs are a ruse to keep them in check; Slipknot attempts to escape and Flag kills him via his nano bomb, while the squad is attacked by Enchantress' minions. They eventually fight their way through to a safe room, where they learn that their mark is Waller herself, who is attempting to cover up her involvement in Enchantress' siege.\n",
      "The squad escorts Waller to a rooftop for extraction, but the arriving helicopter has been hijacked by the Joker and his men, who open fire on the squad while Harley climbs aboard upon Dr. Van Criss disarming her bomb, leaving Flag unable to execute her. However, Waller's men shoot down the helicopter, and Harley falls out while the Joker is presumed dead, after which Harley rejoins the squad. Alerted to Waller's whereabouts, Enchantress' minions arrive and kidnap her. Deadshot finds Waller's confidential files and learns the truth about Enchantress. Flag is then forced to confess the truth, causing the squad members to abandon him. With Waller compromised, Flag relieves the squad of the mission, but chooses to continue. Realizing they have an opportunity to prove themselves, they soon rejoin him and locate Enchantress at a partially-flooded subway station. Killer Croc and a group of Navy SEALs, led by Lieutenant GQ Edwards, go underwater to plant a bomb underneath Incubus. El Diablo embraces his abilities and distracts Incubus long enough for the bomb to detonate underneath, killing them both as well as Edwards.\n",
      "The remaining squad members battle Enchantress together, but are ultimately defeated. Enchantress offers to fulfill their deepest desires in exchange for their allegiance, and Harley feigns interest in order to get close enough to cut out Enchantress' heart. Killer Croc then throws explosives into Enchantress' weapon and Deadshot shoots them, destroying the device. Flag takes Enchantress' heart and crushes it, finally freeing June from the curse. Waller, still alive, emerges, and the squad members are returned to Belle Reve with ten years off their sentences. All but Captain Boomerang are allowed special privileges. The Joker, alive and unscathed, breaks into the penitentiary and rescues Harley.\n",
      "In a mid-credits scene, Waller meets with Bruce Wayne, who agrees to protect her from the backlash against her role in Enchantress' rampage in exchange for access to the government's files on the expanding metahuman community while telling her to shut down Task Force X.\n",
      "\n"
     ]
    }
   ],
   "source": [
    "print_info(12456)"
   ]
  },
  {
   "cell_type": "markdown",
   "id": "413cec1f",
   "metadata": {},
   "source": [
    "Which text should we use as content? We can use `tagline` as an alternative title, `overview` which is a sentence that summarizes the movie and `Plot`, the summary of the movie. The latter is in general a longer text. We can use either the latter or for each movie create a txt document that contains the desired text.  \n",
    "\n",
    "In the following, as a prototype, I am only using the `Plot`."
   ]
  },
  {
   "cell_type": "markdown",
   "id": "c93bf337",
   "metadata": {},
   "source": [
    "There are 2 ways to normalize text:Stemming and Lemmatization. The difference can be found [here](https://www.guru99.com/stemming-lemmatization-python-nltk.html). In the following I am using Lemmatization.  \n",
    "\n",
    "The procedure is as follows. Lemmatize each movie's text content, get the frequency for each movie's lemmas and then use TF-IDF. To this end, I create a dataframe to store, the movie title, the relase year and the lemmas as list of words for each movie."
   ]
  },
  {
   "cell_type": "code",
   "execution_count": 8,
   "id": "b19b865c",
   "metadata": {},
   "outputs": [],
   "source": [
    "from nltk.stem import WordNetLemmatizer\n",
    "from nltk.corpus import wordnet\n",
    "from nltk.tokenize import RegexpTokenizer"
   ]
  },
  {
   "cell_type": "code",
   "execution_count": 173,
   "id": "8aaab3d8",
   "metadata": {},
   "outputs": [],
   "source": [
    "tokenizer = RegexpTokenizer(r'\\w+') # Remove punctuation\n",
    "wordnet_lemmatizer = WordNetLemmatizer() # Create lemmatizer\n"
   ]
  },
  {
   "cell_type": "code",
   "execution_count": 174,
   "id": "a3116514",
   "metadata": {},
   "outputs": [],
   "source": [
    "def tokenize(text):\n",
    "    tokenization = tokenizer.tokenize(text.lower())\n",
    "    tokens = [ wordnet_lemmatizer.lemmatize(token, wordnet.VERB) for token in tokenization if token not in stop_words and token.isalpha() ]\n",
    "    return tokens"
   ]
  },
  {
   "cell_type": "code",
   "execution_count": 175,
   "id": "0818c906",
   "metadata": {},
   "outputs": [],
   "source": [
    "data['Tokens'] = data['Plot'].apply(tokenize)"
   ]
  },
  {
   "cell_type": "code",
   "execution_count": 12,
   "id": "961f2c88",
   "metadata": {},
   "outputs": [
    {
     "data": {
      "text/plain": [
       "0        [world, toy, live, things, pretend, lifeless, ...\n",
       "1        [near, brantford, new, hampshire, two, brother...\n",
       "2        [feud, max, walter, matthau, john, jack, lemmo...\n",
       "3        [friends, people, let, never, let, forget, wai...\n",
       "4        [film, begin, five, years, events, first, one,...\n",
       "                               ...                        \n",
       "14701    [leave, permanent, residence, germany, famous,...\n",
       "14702    [masha, krapivina, kristina, asmus, come, mosc...\n",
       "14703    [biology, teacher, devki, vivacious, popular, ...\n",
       "14704    [struggle, sculptor, marcel, de, lange, martin...\n",
       "14705    [film, begin, miller, poach, deer, land, belon...\n",
       "Name: Tokens, Length: 14706, dtype: object"
      ]
     },
     "execution_count": 12,
     "metadata": {},
     "output_type": "execute_result"
    }
   ],
   "source": [
    "data.Tokens"
   ]
  },
  {
   "cell_type": "code",
   "execution_count": 13,
   "id": "7a3237a9",
   "metadata": {},
   "outputs": [],
   "source": [
    "from sklearn.feature_extraction.text import TfidfVectorizer\n",
    "from sklearn.metrics.pairwise import linear_kernel, cosine_similarity"
   ]
  },
  {
   "cell_type": "markdown",
   "id": "76d4a843",
   "metadata": {},
   "source": [
    "The calculation of the cosine similarity:\n",
    "\n",
    "In the following approach we calculate the cosine similarity in a simple way, whether there is match between words of the respective fields with one hot encoding, e.g. Plots. In the example below, the value of cosine_similarity for Rocky Balboa and Rocky ΙΙ is 0.28. However, the computational cost (2 min for each movie) for all the available data for the various combinations is very high. For this reason we selected to use the predefined function from sklearn, cosine_similarity. However, we can obtain better results, if we perform the calculation through tf-idf score, as we include the importance of each word. Through the sklearn's optimized function TfidfVectorizer we avoided the out-of-memory situation in our hardcoded approach."
   ]
  },
  {
   "cell_type": "code",
   "execution_count": 222,
   "id": "e6b81f12",
   "metadata": {},
   "outputs": [
    {
     "data": {
      "text/plain": [
       "array([[0.28329498]])"
      ]
     },
     "execution_count": 222,
     "metadata": {},
     "output_type": "execute_result"
    }
   ],
   "source": [
    "import numpy as np\n",
    "data_movie1=data.loc[data.index==1622].Plot\n",
    "data_movie2=data.loc[data.index==7007].Plot\n",
    "A = TfidfVectorizer().fit(data_movie1)\n",
    "B = TfidfVectorizer().fit(data_movie2)\n",
    "\n",
    "a1 = list(A.vocabulary_.keys())\n",
    "a2 = list(B.vocabulary_.keys())\n",
    "tot_words = list(set( a1 + a2))\n",
    "\n",
    "a1_oh = np.array([ 1 if tot_words[i] in a1 else 0 for i in range(len(tot_words))  ]).astype(int).reshape(-1,1)\n",
    "a2_oh = np.array([ 1 if tot_words[i] in a2 else 0 for i in range(len(tot_words))  ]).astype(int).reshape(-1,1)\n",
    "\n",
    "a1_n = np.sqrt( np.dot(a1_oh.T, a1_oh))\n",
    "a2_n = np.sqrt( np.dot(a2_oh.T, a2_oh))\n",
    "\n",
    "cos_sim = np.dot(a1_oh.T, a2_oh)/(a1_n * a2_n)\n",
    "cos_sim"
   ]
  },
  {
   "cell_type": "code",
   "execution_count": 223,
   "id": "eaf5df57",
   "metadata": {},
   "outputs": [
    {
     "name": "stderr",
     "output_type": "stream",
     "text": [
      "C:\\Users\\iok\\AppData\\Local\\Temp\\ipykernel_14404\\527081995.py:1: TqdmExperimentalWarning: Using `tqdm.autonotebook.tqdm` in notebook mode. Use `tqdm.tqdm` instead to force console mode (e.g. in jupyter console)\n",
      "  from tqdm.autonotebook import tqdm\n"
     ]
    }
   ],
   "source": [
    "from tqdm.autonotebook import tqdm\n"
   ]
  },
  {
   "cell_type": "code",
   "execution_count": 232,
   "id": "85f77c1a",
   "metadata": {},
   "outputs": [
    {
     "data": {
      "application/vnd.jupyter.widget-view+json": {
       "model_id": "a77aa8e748c34439947ef14210209426",
       "version_major": 2,
       "version_minor": 0
      },
      "text/plain": [
       "  0%|          | 0/14706 [00:00<?, ?it/s]"
      ]
     },
     "metadata": {},
     "output_type": "display_data"
    }
   ],
   "source": [
    "def get_cos_sim(doc1, doc2):\n",
    "    A = TfidfVectorizer().fit(doc1)\n",
    "    B = TfidfVectorizer().fit(doc2)\n",
    "    a1 = list(A.vocabulary_.keys())\n",
    "    a2 = list(B.vocabulary_.keys())\n",
    "    tot_words = list(set( a1 + a2))\n",
    "    a1_oh = np.array([ 1 if tot_words[i] in a1 else 0 for i in range(len(tot_words))  ]).astype(int).reshape(-1,1)\n",
    "    a2_oh = np.array([ 1 if tot_words[i] in a2 else 0 for i in range(len(tot_words))  ]).astype(int).reshape(-1,1)\n",
    "    a1_n = np.sqrt( np.dot(a1_oh.T, a1_oh))\n",
    "    a2_n = np.sqrt( np.dot(a2_oh.T, a2_oh))\n",
    "\n",
    "    cos_sim = np.dot(a1_oh.T, a2_oh)/(a1_n * a2_n)\n",
    "    return cos_sim\n",
    "\n",
    "cos_sim_dict = {}\n",
    "for movie_dx in tqdm(range(len(data))):\n",
    "    cs = get_cos_sim(data.loc[data.Title==\"Rocky Balboa\"].Plot, data.loc[data.index==movie_dx].Plot)\n",
    "    cos_sim_dict[data.loc[data.index==movie_dx].Title.item()] = cs"
   ]
  },
  {
   "cell_type": "code",
   "execution_count": 233,
   "id": "2a68f667",
   "metadata": {},
   "outputs": [
    {
     "data": {
      "text/plain": [
       "[('Rocky V', array([[0.28727653]])),\n",
       " ('Rocky II', array([[0.28329498]])),\n",
       " ('Fat City', array([[0.28086539]])),\n",
       " ('Girlfight', array([[0.27725272]])),\n",
       " ('Rocky', array([[0.276353]])),\n",
       " ('Girls Just Want to Have Fun', array([[0.27255818]])),\n",
       " ('Rocky III', array([[0.26744683]])),\n",
       " ('December Boys', array([[0.26743431]])),\n",
       " ('Rocky IV', array([[0.26612315]]))]"
      ]
     },
     "execution_count": 233,
     "metadata": {},
     "output_type": "execute_result"
    }
   ],
   "source": [
    "top_n = 10\n",
    "sorted(cos_sim_dict.items(), key=lambda x: x[1], reverse=True)[1:top_n]"
   ]
  },
  {
   "cell_type": "code",
   "execution_count": 220,
   "id": "69c66552",
   "metadata": {},
   "outputs": [
    {
     "name": "stdout",
     "output_type": "stream",
     "text": [
      "8208    When young Lotus Flower sees an unconscious ma...\n",
      "Name: overview, dtype: object\n"
     ]
    }
   ],
   "source": [
    "data2=data.copy()\n",
    "print(data2['overview'].loc[data.index==8208])"
   ]
  },
  {
   "cell_type": "code",
   "execution_count": 199,
   "id": "f73a733e",
   "metadata": {},
   "outputs": [],
   "source": [
    "from sklearn.feature_extraction.text import TfidfVectorizer\n",
    "from sklearn.metrics.pairwise import linear_kernel, cosine_similarity\n",
    "\n",
    "def movie_recom(titles,data2):\n",
    "    title_ = titles\n",
    "    data2=data2.astype(str)\n",
    "    value = data2.apply(lambda x: ' '.join(x), axis=1)\n",
    "    data3=pd.DataFrame({'Title':title_, 'value':value})\n",
    "    tf = TfidfVectorizer().fit_transform(data3.value.dropna())\n",
    "    cosine_sim = cosine_similarity(tf, tf)\n",
    "    return cosine_sim\n",
    "\n",
    "def get_recommendations(title, df, sim_measure ):\n",
    "    df = df.copy()\n",
    "    smd = df.reset_index()\n",
    "    indices = pd.Series(smd.index, index=smd['Title'])\n",
    "    idx = indices[title]\n",
    "    if isinstance(idx, pd.core.series.Series):\n",
    "        a = max(df.loc[df.Title==title]['Release Year'].to_list())\n",
    "        idx = df.loc[ (df.Title==title) & (df['Release Year']==a) ].index[0]\n",
    "    sim_scores = list(enumerate(sim_measure[idx]))\n",
    "    sim_scores = sorted(sim_scores, key=lambda x: x[1], reverse=True)\n",
    "    sim_scores = sim_scores[1:31]\n",
    "    movie_indices = [i[0] for i in sim_scores]\n",
    "    sim_scores1 = [i[1] for i in sim_scores]\n",
    "    #print(titles.iloc[movie_indices])\n",
    "    return movie_indices,sim_scores1"
   ]
  },
  {
   "cell_type": "code",
   "execution_count": 23,
   "id": "f57a148e",
   "metadata": {},
   "outputs": [],
   "source": [
    "from collections import defaultdict\n",
    "\n",
    "def create_cosine_sim(combinations,data2):\n",
    "    cosine_sim = defaultdict(list)\n",
    "    for i in range(len(combinations[:])):\n",
    "        cosine_sim_=movie_recom(data2['Title'],data2[combinations[i]])\n",
    "        cosine_sim[i].append(pd.DataFrame(cosine_sim_))\n",
    "    return cosine_sim\n"
   ]
  },
  {
   "cell_type": "markdown",
   "id": "f0fc398d",
   "metadata": {},
   "source": [
    "Three different models exploiting different columns from our original dataset:\n",
    "'Title & Plot', 'Title, Cast & Genre','Keywords, Cast, Director & Genre'"
   ]
  },
  {
   "cell_type": "code",
   "execution_count": 228,
   "id": "240209bc",
   "metadata": {},
   "outputs": [],
   "source": [
    "def recommendation_engine(title,data2,cosine_sim):\n",
    "    column=['Title & Plot', 'Title, Cast & Genre','Keywords, Cast, Director & Genre']\n",
    "    recommendations_df= pd.DataFrame()\n",
    "    score_df= pd.DataFrame()\n",
    "    titles_df= pd.DataFrame()\n",
    "    titles = data2['Title']\n",
    "    for i,r in cosine_sim.items():\n",
    "        recom,score = get_recommendations(title, data2, r[0])\n",
    "        titles_=titles.iloc[recom]\n",
    "        recom=pd.DataFrame(recom)\n",
    "        score=pd.DataFrame(score)\n",
    "        recommendations_df = pd.concat([ recommendations_df.reset_index(drop=True), recom.reset_index(drop=True)], axis=1, ignore_index=True).rename(columns={0: column[0], 1: column[1], 2: column[2]})\n",
    "        score_df = pd.concat([ score_df.reset_index(drop=True), score.reset_index(drop=True)], axis=1, ignore_index=True).rename(columns={0: column[0], 1: column[1], 2: column[2]})\n",
    "        titles_df = pd.concat([ titles_df.reset_index(drop=True), titles_.reset_index(drop=True)], axis=1, ignore_index=True).rename(columns={0: column[0], 1: column[1], 2: column[2]})\n",
    "    return recommendations_df,score_df,titles_df"
   ]
  },
  {
   "cell_type": "code",
   "execution_count": 229,
   "id": "adb13041",
   "metadata": {},
   "outputs": [],
   "source": [
    "combinations=[['Title','Plot'],['Cast','Genre'],['KeywCastDirGenre']]\n",
    "cosine_sim=create_cosine_sim(combinations,data2)"
   ]
  },
  {
   "cell_type": "code",
   "execution_count": 231,
   "id": "3167d950",
   "metadata": {},
   "outputs": [
    {
     "data": {
      "text/html": [
       "<div>\n",
       "<style scoped>\n",
       "    .dataframe tbody tr th:only-of-type {\n",
       "        vertical-align: middle;\n",
       "    }\n",
       "\n",
       "    .dataframe tbody tr th {\n",
       "        vertical-align: top;\n",
       "    }\n",
       "\n",
       "    .dataframe thead th {\n",
       "        text-align: right;\n",
       "    }\n",
       "</style>\n",
       "<table border=\"1\" class=\"dataframe\">\n",
       "  <thead>\n",
       "    <tr style=\"text-align: right;\">\n",
       "      <th></th>\n",
       "      <th>Title &amp; Plot</th>\n",
       "      <th>Title, Cast &amp; Genre</th>\n",
       "      <th>Keywords, Cast, Director &amp; Genre</th>\n",
       "    </tr>\n",
       "  </thead>\n",
       "  <tbody>\n",
       "    <tr>\n",
       "      <th>0</th>\n",
       "      <td>Rocky II</td>\n",
       "      <td>Rocky</td>\n",
       "      <td>Rocky III</td>\n",
       "    </tr>\n",
       "    <tr>\n",
       "      <th>1</th>\n",
       "      <td>Rocky V</td>\n",
       "      <td>Rambo III</td>\n",
       "      <td>Rocky II</td>\n",
       "    </tr>\n",
       "    <tr>\n",
       "      <th>2</th>\n",
       "      <td>Rocky III</td>\n",
       "      <td>Assassins</td>\n",
       "      <td>Rocky</td>\n",
       "    </tr>\n",
       "    <tr>\n",
       "      <th>3</th>\n",
       "      <td>Mask</td>\n",
       "      <td>Rocky V</td>\n",
       "      <td>Fat City</td>\n",
       "    </tr>\n",
       "    <tr>\n",
       "      <th>4</th>\n",
       "      <td>Rocky</td>\n",
       "      <td>Lock Up</td>\n",
       "      <td>Rocky V</td>\n",
       "    </tr>\n",
       "    <tr>\n",
       "      <th>5</th>\n",
       "      <td>Angels with Dirty Faces</td>\n",
       "      <td>Killing Season</td>\n",
       "      <td>Rocky IV</td>\n",
       "    </tr>\n",
       "    <tr>\n",
       "      <th>6</th>\n",
       "      <td>Rocky IV</td>\n",
       "      <td>The Expendables 3</td>\n",
       "      <td>Body and Soul</td>\n",
       "    </tr>\n",
       "    <tr>\n",
       "      <th>7</th>\n",
       "      <td>Don't Breathe</td>\n",
       "      <td>Rocky II</td>\n",
       "      <td>Jason's Lyric</td>\n",
       "    </tr>\n",
       "    <tr>\n",
       "      <th>8</th>\n",
       "      <td>Roommates</td>\n",
       "      <td>Death Race 2000</td>\n",
       "      <td>The Set-Up</td>\n",
       "    </tr>\n",
       "    <tr>\n",
       "      <th>9</th>\n",
       "      <td>Red Light</td>\n",
       "      <td>Pathology</td>\n",
       "      <td>Raging Bull</td>\n",
       "    </tr>\n",
       "    <tr>\n",
       "      <th>10</th>\n",
       "      <td>Bride for Rent</td>\n",
       "      <td>The Lords of Flatbush</td>\n",
       "      <td>Barbershop</td>\n",
       "    </tr>\n",
       "    <tr>\n",
       "      <th>11</th>\n",
       "      <td>Bride for Rent</td>\n",
       "      <td>Rocky IV</td>\n",
       "      <td>Cinderella Man</td>\n",
       "    </tr>\n",
       "    <tr>\n",
       "      <th>12</th>\n",
       "      <td>Aflatoon</td>\n",
       "      <td>Cobra</td>\n",
       "      <td>Homeboy</td>\n",
       "    </tr>\n",
       "    <tr>\n",
       "      <th>13</th>\n",
       "      <td>Love with the Proper Stranger</td>\n",
       "      <td>Rambo</td>\n",
       "      <td>Rambo</td>\n",
       "    </tr>\n",
       "    <tr>\n",
       "      <th>14</th>\n",
       "      <td>Somebody Up There Likes Me</td>\n",
       "      <td>Rocky III</td>\n",
       "      <td>Killer of Sheep</td>\n",
       "    </tr>\n",
       "    <tr>\n",
       "      <th>15</th>\n",
       "      <td>The Rocky Horror Picture Show</td>\n",
       "      <td>Spy Kids 3-D: Game Over</td>\n",
       "      <td>Vertigo</td>\n",
       "    </tr>\n",
       "    <tr>\n",
       "      <th>16</th>\n",
       "      <td>Mean Creek</td>\n",
       "      <td>Paradise Alley</td>\n",
       "      <td>The Flanagan Boy</td>\n",
       "    </tr>\n",
       "    <tr>\n",
       "      <th>17</th>\n",
       "      <td>Rover Dangerfield</td>\n",
       "      <td>Escape to Victory</td>\n",
       "      <td>Paradise Alley</td>\n",
       "    </tr>\n",
       "    <tr>\n",
       "      <th>18</th>\n",
       "      <td>They Shoot Horses, Don't They?</td>\n",
       "      <td>Nighthawks</td>\n",
       "      <td>The Expendables</td>\n",
       "    </tr>\n",
       "    <tr>\n",
       "      <th>19</th>\n",
       "      <td>36 China Town</td>\n",
       "      <td>Capone</td>\n",
       "      <td>Champion</td>\n",
       "    </tr>\n",
       "    <tr>\n",
       "      <th>20</th>\n",
       "      <td>Kajraare</td>\n",
       "      <td>Armored</td>\n",
       "      <td>Rhinestone</td>\n",
       "    </tr>\n",
       "    <tr>\n",
       "      <th>21</th>\n",
       "      <td>Switchback</td>\n",
       "      <td>Tango &amp; Cash</td>\n",
       "      <td>Rambo III</td>\n",
       "    </tr>\n",
       "    <tr>\n",
       "      <th>22</th>\n",
       "      <td>Chicken Run</td>\n",
       "      <td>Driven</td>\n",
       "      <td>The Lords of Flatbush</td>\n",
       "    </tr>\n",
       "    <tr>\n",
       "      <th>23</th>\n",
       "      <td>Grand Central Murder</td>\n",
       "      <td>Boom!</td>\n",
       "      <td>Stay Alive</td>\n",
       "    </tr>\n",
       "    <tr>\n",
       "      <th>24</th>\n",
       "      <td>3 Ninjas Knuckle Up</td>\n",
       "      <td>Cliffhanger</td>\n",
       "      <td>Last Exit to Brooklyn</td>\n",
       "    </tr>\n",
       "    <tr>\n",
       "      <th>25</th>\n",
       "      <td>One False Move</td>\n",
       "      <td>Daylight</td>\n",
       "      <td>You Again</td>\n",
       "    </tr>\n",
       "    <tr>\n",
       "      <th>26</th>\n",
       "      <td>The Tree of Life</td>\n",
       "      <td>I Accuse My Parents</td>\n",
       "      <td>Play It to the Bone</td>\n",
       "    </tr>\n",
       "    <tr>\n",
       "      <th>27</th>\n",
       "      <td>Where the Sidewalk Ends</td>\n",
       "      <td>Over the Top</td>\n",
       "      <td>F.I.S.T.</td>\n",
       "    </tr>\n",
       "    <tr>\n",
       "      <th>28</th>\n",
       "      <td>Darna Zaroori Hai</td>\n",
       "      <td>The Specialist</td>\n",
       "      <td>Downhill Racer</td>\n",
       "    </tr>\n",
       "    <tr>\n",
       "      <th>29</th>\n",
       "      <td>God Tussi Great Ho</td>\n",
       "      <td>The Pope of Greenwich Village</td>\n",
       "      <td>Stop! Or My Mom Will Shoot</td>\n",
       "    </tr>\n",
       "  </tbody>\n",
       "</table>\n",
       "</div>"
      ],
      "text/plain": [
       "                      Title & Plot            Title, Cast & Genre  \\\n",
       "0                         Rocky II                          Rocky   \n",
       "1                          Rocky V                      Rambo III   \n",
       "2                        Rocky III                      Assassins   \n",
       "3                             Mask                        Rocky V   \n",
       "4                            Rocky                        Lock Up   \n",
       "5          Angels with Dirty Faces                 Killing Season   \n",
       "6                         Rocky IV              The Expendables 3   \n",
       "7                    Don't Breathe                       Rocky II   \n",
       "8                        Roommates                Death Race 2000   \n",
       "9                        Red Light                      Pathology   \n",
       "10                  Bride for Rent          The Lords of Flatbush   \n",
       "11                  Bride for Rent                       Rocky IV   \n",
       "12                        Aflatoon                          Cobra   \n",
       "13   Love with the Proper Stranger                          Rambo   \n",
       "14      Somebody Up There Likes Me                      Rocky III   \n",
       "15   The Rocky Horror Picture Show        Spy Kids 3-D: Game Over   \n",
       "16                      Mean Creek                 Paradise Alley   \n",
       "17               Rover Dangerfield              Escape to Victory   \n",
       "18  They Shoot Horses, Don't They?                     Nighthawks   \n",
       "19                   36 China Town                         Capone   \n",
       "20                        Kajraare                        Armored   \n",
       "21                      Switchback                   Tango & Cash   \n",
       "22                     Chicken Run                         Driven   \n",
       "23            Grand Central Murder                          Boom!   \n",
       "24             3 Ninjas Knuckle Up                    Cliffhanger   \n",
       "25                  One False Move                       Daylight   \n",
       "26                The Tree of Life            I Accuse My Parents   \n",
       "27         Where the Sidewalk Ends                   Over the Top   \n",
       "28               Darna Zaroori Hai                 The Specialist   \n",
       "29              God Tussi Great Ho  The Pope of Greenwich Village   \n",
       "\n",
       "   Keywords, Cast, Director & Genre  \n",
       "0                         Rocky III  \n",
       "1                          Rocky II  \n",
       "2                             Rocky  \n",
       "3                          Fat City  \n",
       "4                           Rocky V  \n",
       "5                          Rocky IV  \n",
       "6                     Body and Soul  \n",
       "7                     Jason's Lyric  \n",
       "8                        The Set-Up  \n",
       "9                       Raging Bull  \n",
       "10                       Barbershop  \n",
       "11                   Cinderella Man  \n",
       "12                          Homeboy  \n",
       "13                            Rambo  \n",
       "14                  Killer of Sheep  \n",
       "15                          Vertigo  \n",
       "16                 The Flanagan Boy  \n",
       "17                   Paradise Alley  \n",
       "18                  The Expendables  \n",
       "19                         Champion  \n",
       "20                       Rhinestone  \n",
       "21                        Rambo III  \n",
       "22            The Lords of Flatbush  \n",
       "23                       Stay Alive  \n",
       "24            Last Exit to Brooklyn  \n",
       "25                        You Again  \n",
       "26              Play It to the Bone  \n",
       "27                         F.I.S.T.  \n",
       "28                   Downhill Racer  \n",
       "29       Stop! Or My Mom Will Shoot  "
      ]
     },
     "execution_count": 231,
     "metadata": {},
     "output_type": "execute_result"
    }
   ],
   "source": [
    "title=str(\"Rocky Balboa\")\n",
    "recommendations_df,score_df,titles_df=recommendation_engine(title,data2,cosine_sim)\n",
    "titles_df"
   ]
  },
  {
   "cell_type": "code",
   "execution_count": null,
   "id": "d52586de",
   "metadata": {},
   "outputs": [],
   "source": []
  }
 ],
 "metadata": {
  "kernelspec": {
   "display_name": "Python 3.9.12 ('base')",
   "language": "python",
   "name": "python3"
  },
  "language_info": {
   "codemirror_mode": {
    "name": "ipython",
    "version": 3
   },
   "file_extension": ".py",
   "mimetype": "text/x-python",
   "name": "python",
   "nbconvert_exporter": "python",
   "pygments_lexer": "ipython3",
   "version": "3.9.12"
  },
  "vscode": {
   "interpreter": {
    "hash": "8e9fcdd326985273b9d601f564b5915634929453f0c85f6755799fca7860e048"
   }
  }
 },
 "nbformat": 4,
 "nbformat_minor": 5
}
